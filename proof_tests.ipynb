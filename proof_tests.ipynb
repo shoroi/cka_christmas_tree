{
 "cells": [
  {
   "cell_type": "code",
   "execution_count": 70,
   "metadata": {},
   "outputs": [],
   "source": [
    "import numpy as np\n",
    "import matplotlib.pyplot as plt"
   ]
  },
  {
   "cell_type": "code",
   "execution_count": 55,
   "metadata": {},
   "outputs": [],
   "source": [
    "def sample_d_ball_efficiently(num_pts, dim):\n",
    "    u = np.random.normal(0,1, size = [num_pts, dim])  # an array of d normally distributed random variables\n",
    "    norms = np.sum(u**2, axis = 1) **(0.5)\n",
    "    r = np.random.random(size = dim)**(1.0/dim)\n",
    "    x= r*u/norms.reshape([num_pts,1])\n",
    "    return x\n",
    "\n",
    "# Volume of a high dimensional unit ball is concentrated near its surface and is also concentrated at its equator."
   ]
  },
  {
   "cell_type": "code",
   "execution_count": 41,
   "metadata": {},
   "outputs": [],
   "source": [
    "s = sample_d_ball_efficiently(1000,100)"
   ]
  },
  {
   "cell_type": "code",
   "execution_count": 42,
   "metadata": {},
   "outputs": [],
   "source": [
    "gram = np.matmul(s,s.T)"
   ]
  },
  {
   "cell_type": "code",
   "execution_count": 44,
   "metadata": {},
   "outputs": [
    {
     "data": {
      "text/plain": [
       "1034.8118280398226"
      ]
     },
     "execution_count": 44,
     "metadata": {},
     "output_type": "execute_result"
    }
   ],
   "source": [
    "np.sum(gram)"
   ]
  },
  {
   "cell_type": "code",
   "execution_count": 51,
   "metadata": {},
   "outputs": [],
   "source": [
    "# All sums\n",
    "sum_of_grams = []\n",
    "for seed in range(100):\n",
    "    np.random.seed(seed)\n",
    "    s = sample_d_ball_efficiently(2000,1000)\n",
    "    gram = np.matmul(s,s.T)\n",
    "    sum_of_grams.append(np.sum(gram))\n",
    "    # seems to converge to num_pts (precision increases with number of dimensions?)\n",
    "    \n",
    "print(sum_of_grams)"
   ]
  },
  {
   "cell_type": "code",
   "execution_count": 56,
   "metadata": {},
   "outputs": [
    {
     "name": "stdout",
     "output_type": "stream",
     "text": [
      "[1850.5018905787342, 1911.060654621166, 1890.739435573611, 1957.7548165034855, 2070.040631074849, 2069.1154191722326, 2022.8490006269808, 2078.7213161449868, 1969.407256535177, 1996.8841459492924, 1917.4290475977168, 1971.082760596659, 1965.6603907949443, 1886.7333829373335, 1947.0707458009806, 2167.5791684655674, 2085.656242063453, 2013.4932507720343, 2058.3853202981413, 1776.117778020375, 2119.108308169281, 1999.7169593876658, 1884.357744849489, 1930.0608786239472, 2054.5882900028673, 2136.0695649820877, 1983.9530417613453, 1983.1556030616812, 2041.8894051676457, 2118.017159345209, 1975.791878009211, 1855.439392275148, 2030.6614785505983, 1935.5078334690652, 1963.6967627572637, 2034.253907799077, 1972.2883260223343, 2086.4214803898667, 2055.7192875095056, 1975.355690957961, 2007.732995807747, 2067.9680781882003, 2065.981201170958, 2133.3586520352856, 2037.006210598007, 1991.0943078863406, 2082.858446940578, 1969.624163839856, 2049.016112436237, 1930.8615681205956, 1970.100197441639, 2088.443841388926, 1934.2738987031496, 2080.499851806464, 2091.585693860581, 2072.836907328115, 1957.941417012548, 2074.8943401287243, 1932.017118401555, 2129.756495019976, 2027.9608556672956, 1857.7822461871133, 2156.184046689821, 2043.2313261256772, 1933.6269500545302, 2093.6810534053743, 1955.1609769063637, 1981.8561253537157, 2009.810941379105, 1975.8137073972641, 1938.8904435764807, 2091.2978880721475, 1998.9211840990542, 2081.821946229083, 2075.7812632849946, 1786.6344870466282, 1987.0631247326942, 2013.527646735459, 1840.1482051635626, 2160.4859617248594, 2073.1311161990275, 1971.3044947164126, 2223.3707218627937, 2134.577485310806, 1936.331379567235, 1992.5433093413626, 2016.9767028883002, 2028.3483832458514, 2040.627479428126, 2112.1857884855644, 2134.6665971379994, 1949.437339322678, 2057.7288144388526, 2112.5775808038447, 1905.7178969972474, 1927.2119767185711, 1877.1133713079507, 1898.8126189415698, 1958.182882663115, 1888.167075166476]\n"
     ]
    }
   ],
   "source": [
    "# All sums without one\n",
    "sum_of_grams = []\n",
    "for seed in range(100):\n",
    "    np.random.seed(seed)\n",
    "    s = sample_d_ball_efficiently(2000,1000)\n",
    "    gram = np.matmul(s,s.T)\n",
    "    idx = np.random.choice(2000)\n",
    "    gram = gram[:-1,:-1]\n",
    "    sum_of_grams.append(np.sum(gram))\n",
    "    # also seems to converge to num_pts...\n",
    "    \n",
    "print(sum_of_grams)"
   ]
  },
  {
   "cell_type": "code",
   "execution_count": 73,
   "metadata": {},
   "outputs": [
    {
     "name": "stdout",
     "output_type": "stream",
     "text": [
      "[array([ -4.52943339,  13.46795085,   0.05924049, ...,   8.1975441 ,\n",
      "       -12.5036158 ,  10.92398488]), array([ -2.14855674,   4.13419302, -18.35534348, ...,   1.7080355 ,\n",
      "        -8.2765442 ,  10.68915099]), array([  5.98896953,  -1.93480556,   1.20359773, ..., -12.75996141,\n",
      "         0.51939866,  -4.1334194 ]), array([ 2.93056492e+00, -4.20006412e+00,  5.33608936e+00, ...,\n",
      "        6.00378482e+00,  1.87905987e+01, -1.02008198e-02]), array([ -6.5001207 ,  -0.52833458, -12.26716115, ...,   0.8086852 ,\n",
      "         4.72312238,  13.25115007]), array([ 4.55982638,  2.09616836,  3.9392095 , ..., -1.55787852,\n",
      "        2.99619643,  5.95270578]), array([-17.05166156,   6.81175782,   9.31025556, ...,  -5.76538742,\n",
      "         9.8759626 ,   7.65451957]), array([-5.95852462, 13.2542944 ,  5.73078835, ...,  1.28109947,\n",
      "        8.89264426,  1.17436864]), array([  4.49975385,  -0.25729662,  -7.58345031, ...,   5.54374862,\n",
      "        -8.2737959 , -11.50490267]), array([-5.26790685,  5.70693109, -2.9911694 , ...,  2.75095559,\n",
      "        2.94474004,  5.6996901 ]), array([-0.42100528,  9.40791513,  2.73373988, ..., 13.52659961,\n",
      "       -1.83214369,  2.02982354]), array([ 3.02151397,  9.82824641,  1.21011185, ..., -0.71125888,\n",
      "       -0.62815046, -7.66180853]), array([ -3.63315824,   6.50223967,   4.56467961, ...,   7.67020901,\n",
      "       -12.04882226,  -2.32001624]), array([ -0.85225411,   5.03846293,  10.82989459, ...,  11.5603852 ,\n",
      "        -6.35241609, -12.09483549]), array([ 2.52841443, 12.15161683, -6.43904471, ..., -0.0771641 ,\n",
      "       -9.44586489, -9.59743854]), array([ -2.13615526, -12.63301191,   3.51676565, ...,  19.13427219,\n",
      "         2.14906773,  -7.36336073]), array([-1.13813942e-02,  1.17237114e+01,  6.41954510e+00, ...,\n",
      "       -1.22252821e+01, -1.05515140e+01,  1.62101104e+01]), array([ 9.50044763, 11.71278839, -3.57119011, ..., -7.23833786,\n",
      "        5.07067522, -6.20931355]), array([-5.412576  , -1.52513767,  4.66830429, ...,  4.59445728,\n",
      "       -3.44299596,  9.32727011]), array([ 2.16950862, -7.46818723, -1.42707492, ..., -9.56719544,\n",
      "       -1.29543177,  0.63599037]), array([-12.97594382,   5.27207616,   4.21533676, ...,  10.66264095,\n",
      "         2.29881886,   3.63788714]), array([11.04493444, -1.23782999,  1.33886255, ...,  1.78939173,\n",
      "        9.43712639, -9.82883568]), array([-11.30513031,  -3.22241205,  -1.44048363, ...,   0.93776144,\n",
      "         9.03797167,  -4.24740665]), array([10.30443169,  2.99175841, -1.88372403, ...,  0.50116243,\n",
      "        1.5150239 , -9.62837014]), array([ 7.48839719,  8.94375847,  5.30900884, ..., -0.988258  ,\n",
      "        1.43319986, -6.20662558]), array([ 4.58035535, -8.85752625, 10.71167056, ...,  3.21687011,\n",
      "        5.24306855, -0.90984554]), array([ 4.39104931, -0.43724718,  2.29232038, ..., -1.88411357,\n",
      "        2.51004328, -0.62528501]), array([22.40231515,  2.70065888,  5.14451008, ..., 13.22305448,\n",
      "       -3.24280161, 11.64273753]), array([ 9.99775491,  6.78412364,  7.66023522, ...,  4.49848453,\n",
      "       18.6295592 , -3.33774574]), array([ -5.73474429,   6.69734193,  -0.47309706, ..., -11.92706235,\n",
      "         3.08013348,   5.94894428]), array([ -7.05612338,  -1.88650693,  -4.26498068, ..., -13.28038245,\n",
      "         4.34552072,  -5.89646979]), array([-1.70075082, -0.29408683, -4.03063246, ...,  9.81031087,\n",
      "       -5.2784769 , 11.8782308 ]), array([  0.76979266,   8.47436137, -10.21511184, ...,  -3.84988876,\n",
      "         5.57514596,   2.29526055]), array([-2.67890876, -3.08647626, -5.03954633, ...,  1.34024613,\n",
      "       -4.92579275, -1.14849705]), array([ 3.25602794, -6.51133738, -5.67577727, ..., -3.62803889,\n",
      "       -3.72423982,  1.30988231]), array([  6.58527286,   1.51577054, -10.54882913, ...,  -7.1417975 ,\n",
      "        -0.8764715 ,   3.11090587]), array([-4.7043621 ,  1.55704899,  9.56176647, ..., -6.20169747,\n",
      "       -4.86841426,  1.29097929]), array([-21.60299945,  -6.34660782,  -8.84906817, ..., -10.8844723 ,\n",
      "        16.60231075,  11.23765981]), array([ 11.21424756,  -3.99668641, -16.32846587, ...,   5.58429465,\n",
      "        -4.57717663, -15.70878273]), array([ 6.81320552, -2.40093147, 14.00827827, ...,  2.4519216 ,\n",
      "       11.25569411,  6.73767882]), array([  3.19246105,   6.01935804,   8.49873975, ...,  -9.53636265,\n",
      "       -10.90966624,   2.65794472]), array([18.02561328, 12.25838583,  1.29564505, ..., 10.28841204,\n",
      "       -5.97409337, 13.46658861]), array([ 5.71404016,  6.82230227, -3.25241708, ..., -3.71188445,\n",
      "       -3.12250802,  9.71057058]), array([ 2.55976746, -2.55906851,  0.3985749 , ..., 17.07572162,\n",
      "        1.89191425,  6.32201357]), array([ -9.47961569,   2.41949779,  -9.78465308, ..., -12.34587374,\n",
      "         4.23805208,   1.79527409]), array([-10.43499116,  -2.80516585,  -7.60926527, ..., -19.07492739,\n",
      "         2.79928189,   0.36660901]), array([ 2.1098907 , -6.28568456,  7.24265308, ...,  6.25532121,\n",
      "       -0.24835715,  2.36040713]), array([  5.28316116,   1.75334657, -11.2705995 , ...,   4.6810108 ,\n",
      "         9.26696666,   8.56719617]), array([-22.61265819,  -7.78258709,  -7.4618973 , ...,  -3.70136622,\n",
      "        -5.74722724,   4.61149557]), array([-5.70195615,  5.185806  ,  0.1931331 , ...,  2.59922649,\n",
      "       -9.97378999,  5.31479941]), array([-9.97370808, 15.91137843, -5.76685743, ..., -4.33363651,\n",
      "       -4.60063549,  3.17040864]), array([-1.64264282, -3.1024068 , -1.03751696, ..., -5.68999827,\n",
      "        1.93615659, -0.20756465]), array([ 1.66192887, -1.4090914 ,  4.3063976 , ...,  6.99105448,\n",
      "       -5.79014215, -3.26393748]), array([ -3.31576931,   8.17197743,   5.67841556, ..., -13.02911225,\n",
      "         4.02119334,  -4.13876905]), array([-16.01055883,   6.35759249,  -6.86725212, ...,  11.93612251,\n",
      "         9.82312057,   5.15468963]), array([  3.75478228,   9.61056898,   1.32726018, ..., -12.93632076,\n",
      "        11.78945782,  -5.17503821]), array([ -3.43664158,  -5.17103313,   0.83089871, ..., -11.5365454 ,\n",
      "         8.37878849,  -5.15607677]), array([ 3.41261172e+00, -2.02442296e-03,  1.27065771e+01, ...,\n",
      "       -1.60686706e+00,  1.53514192e+01,  1.09522001e+01]), array([11.67182987, -8.17211396, -7.50463936, ...,  9.30930008,\n",
      "        4.70220355,  4.70249888]), array([ 6.41514192,  8.40847344,  5.69988589, ..., -3.49322143,\n",
      "        2.33276526, -0.16030903]), array([ 13.57831064,   9.63043851, -11.07170742, ...,  -8.2208781 ,\n",
      "       -10.55120156,   4.47602191]), array([-12.57075624,  -9.54642089,   1.49643351, ...,   7.52499843,\n",
      "         2.66705615,  16.00038967]), array([  7.46413548, -11.37288223,   9.86270652, ..., -17.89453995,\n",
      "        -1.18377803,  -6.67543786]), array([  6.67172289,  -7.02588503,  -8.66380262, ...,  -0.5043777 ,\n",
      "       -10.81608096, -11.94110651]), array([ 0.96956672,  2.27356166, -7.43483195, ...,  7.43249469,\n",
      "       -0.40243747, -2.4698343 ]), array([-1.27304275,  2.30870738, -1.87323594, ...,  9.43283837,\n",
      "        0.54411715, -3.79056479]), array([-6.94863887, -0.96825767,  8.43054851, ...,  5.14280797,\n",
      "        9.09858209, -1.57487559]), array([-12.87449625,   2.3631361 ,  -6.87673739, ...,  -3.09588728,\n",
      "         4.78599589,   8.93375208]), array([ -6.00341479,  -1.58720575,  -2.6043648 , ...,   3.09663439,\n",
      "       -11.42022607,  12.77029119]), array([-8.35562638, -6.22405301,  3.45671479, ..., -0.52064605,\n",
      "       -2.44940542,  5.62615657]), array([ -7.60971895,   0.64559639,  -0.51237538, ..., -14.25813254,\n",
      "         4.37447352,  -3.41432274]), array([  2.90946563, -11.69410766,   2.92248788, ...,   3.57936558,\n",
      "        17.52958527,  -1.24289349]), array([ 0.73725603,  6.08079572,  8.73501841, ...,  0.1507549 ,\n",
      "       -4.69729427, -4.33531095]), array([ -8.97237155,   1.8497394 , -12.04567241, ...,  20.12866275,\n",
      "         2.84776662,  -5.69966317]), array([-3.37508046,  4.5596355 ,  1.3862813 , ...,  7.12997735,\n",
      "       -4.53603477,  8.34736062]), array([ 1.25984136,  9.28861345, -2.77489775, ..., -2.13879584,\n",
      "        1.73694604, -5.8548649 ]), array([10.91292959, -7.6672547 , -6.13291293, ..., -0.91267793,\n",
      "       -5.20217474,  5.55885878]), array([-7.91551029, -8.26985575,  1.3852881 , ..., 14.06640772,\n",
      "       -5.92809191, -0.60070822]), array([  0.18225283, -12.24733962,  -4.285823  , ...,   7.77302374,\n",
      "        -7.71150931,  -7.39714396]), array([-5.48193255,  0.34497422, -3.9416796 , ...,  2.5059244 ,\n",
      "       -6.75411954, -3.31954168]), array([ 4.4429891 , -9.37290706, -5.24633143, ..., -2.83976185,\n",
      "       -3.32193879, -0.71369431]), array([  9.31634295,   5.42151173,  11.3841322 , ...,   4.96754742,\n",
      "        -2.70885659, -10.54873427]), array([ -1.58826824,  -8.97216624, -11.13470257, ...,  -7.40542881,\n",
      "        -3.70329504,   7.65074759]), array([ -5.56865581,   4.29702618,   5.69846115, ...,   1.5281644 ,\n",
      "       -15.79753143,  -0.68356801]), array([ -1.80778191,   1.53079539,  -4.50650659, ..., -12.80592047,\n",
      "        -7.61646284,  -8.4107342 ]), array([ 2.77367082,  6.17892335,  6.31275267, ..., -2.5279714 ,\n",
      "       10.32295842,  7.62972351]), array([ -2.49996823,   6.4536056 , -14.24251706, ..., -11.11640749,\n",
      "        -5.27608119,   0.74620761]), array([-4.53504921,  5.19158681,  9.41530802, ..., 12.95014337,\n",
      "        8.49781158, -1.17896453]), array([ -0.55157483,  -8.90588142, -11.40067878, ...,   4.85295905,\n",
      "        -1.24448165,  15.46206671]), array([-14.82481816, -14.30598618,   7.35413599, ...,   5.80294652,\n",
      "         5.44384577, -15.57669163]), array([ -2.30214127,  -5.97006632, -12.28938338, ...,   5.04211705,\n",
      "        -8.63650703,   1.64036511]), array([-7.52994188,  0.84761213, -7.99333913, ...,  2.64311826,\n",
      "       -0.43922402, 12.09077414]), array([ 0.22002179,  5.98921473,  5.47822485, ...,  0.1748188 ,\n",
      "       -0.76876359,  5.2976051 ]), array([-9.64762288,  3.05906802, -3.71700269, ...,  5.88083721,\n",
      "        6.86829812, -6.74370002]), array([  9.51689582, -12.57829081,  -5.71409745, ...,   6.64766795,\n",
      "        -4.61965435,  10.73036945]), array([ 8.95984682, 14.91812574,  0.07023886, ..., -5.18935082,\n",
      "        5.65736293, 10.85855876]), array([-7.88103236,  2.91522498, 15.31669934, ..., -6.37362048,\n",
      "       -5.62565425, 13.13606338]), array([-13.70485986,  -2.49928868,   7.98437245, ...,  -5.11092808,\n",
      "        -4.797373  ,   8.39636497]), array([-11.42284001,   7.7823215 ,  -4.28434978, ...,  -0.39362312,\n",
      "         8.52670009,   8.5829791 ]), array([ -5.12296828, -12.79887591,   0.132831  , ...,  -2.37614612,\n",
      "        -5.88458463,  -2.52557011])]\n"
     ]
    }
   ],
   "source": [
    "# Only one sums\n",
    "sum_of_grams = []\n",
    "for seed in range(100):\n",
    "    np.random.seed(seed)\n",
    "    s = sample_d_ball_efficiently(6000,100)\n",
    "    gram = np.matmul(s,s.T)\n",
    "    sum_of_grams.append(np.sum(gram-np.diag(np.diag(gram)),axis=0))\n",
    "    \n",
    "print(sum_of_grams)"
   ]
  },
  {
   "cell_type": "code",
   "execution_count": 72,
   "metadata": {},
   "outputs": [
    {
     "data": {
      "text/plain": [
       "(6000, 6000)"
      ]
     },
     "execution_count": 72,
     "metadata": {},
     "output_type": "execute_result"
    }
   ],
   "source": [
    "gram.shape"
   ]
  },
  {
   "cell_type": "code",
   "execution_count": 76,
   "metadata": {},
   "outputs": [
    {
     "data": {
      "text/plain": [
       "(array([  14.,   98.,  441., 1000., 1598., 1470.,  947.,  359.,   56.,\n",
       "          17.]),\n",
       " array([-25.4564996 , -20.29426502, -15.13203044,  -9.96979585,\n",
       "         -4.80756127,   0.35467331,   5.51690789,  10.67914248,\n",
       "         15.84137706,  21.00361164,  26.16584622]),\n",
       " <BarContainer object of 10 artists>)"
      ]
     },
     "execution_count": 76,
     "metadata": {},
     "output_type": "execute_result"
    },
    {
     "data": {
      "image/png": "[encoded data removed]",
      "text/plain": [
       "<Figure size 432x288 with 1 Axes>"
      ]
     },
     "metadata": {
      "needs_background": "light"
     },
     "output_type": "display_data"
    }
   ],
   "source": [
    "plt.hist(sum_of_grams[97])"
   ]
  },
  {
   "cell_type": "code",
   "execution_count": 77,
   "metadata": {},
   "outputs": [
    {
     "name": "stdout",
     "output_type": "stream",
     "text": [
      "[0.17205709621531246, -0.07629395675925281, 0.08148087630310599, 0.0302552904224092, 0.24684567739169608, 0.007381210765979811, -0.23298356540465912, -0.02264224602415773, 0.021624576070247564, 0.24605847386059826, 0.15266778453957616, -0.1744313743635745, -0.12192994268923175, -0.0385419605214619, -0.0738390401677355, 0.04088154922858405, 0.03605944657827885, 0.00614239026775599, -0.09275553896571116, -0.18486057994579885, -0.20459843686533144, 0.10202304216199062, -0.05403571604584549, 0.017231030771171777, -0.03033056699526106, -0.1363783142221146, 0.07916828937110595, -0.02720597371048516, -0.05333901184163045, 0.19573591228079582, -0.09510221558652197, -0.23945861125701232, 0.3318430228475197, 0.15763449831806728, -0.1781066071597314, -0.2719635278728648, -0.1834612633847708, 0.1066588456116425, -0.05999427408649818, 0.18897853582277135, 0.03580471958342892, 0.11813388728086549, 0.07317011326687424, -0.08769493895167643, -0.0009197883857900516, 0.15918845710797305, 0.10500748456853455, -0.19392291238702666, -0.07149768918835392, -0.09503374164004716, 0.15598418576977752, -0.013505516952706296, -0.10971232045552808, -0.006708628377604536, -0.15295411448251445, 0.18299363340388386, 0.007003358582067923, 0.09802033072692404, -0.10448856694949632, -0.1383714017941383, 0.10324299349725158, 0.14758033960379052, -0.14613190823181038, -0.13336212234472528, -0.06331828809260652, 0.05107310884683075, -0.1152430970705246, -0.41156432815562616, -0.11660791362691907, 0.0044177545412710136, 0.06850227521089572, -0.09726925357529095, 0.19685511643476844, 0.3116120586062434, -0.28000247960745583, -0.04912279233775627, -0.07118122361593124, -0.20482058389406216, -0.14335046733660503, -0.05607155547328858, -0.02616579106926289, 0.10342952631499357, -0.1291933916320696, -0.08108069767459174, -0.07661125444314193, -0.16616202036394678, -0.025317719846174747, -0.2582887158725491, -0.05010087082505244, -0.06903402315006832, 0.10994836526178216, -0.26791340889476933, -0.1872331356024135, 0.15310789726742102, 0.028996719148091352, 0.023873889392546196, -0.11795661012818609, -0.04825931447926423, -0.0521759203762315, -0.13037655736110287]\n"
     ]
    }
   ],
   "source": [
    "print([np.mean(i) for i in sum_of_grams])"
   ]
  },
  {
   "cell_type": "code",
   "execution_count": 80,
   "metadata": {},
   "outputs": [
    {
     "name": "stdout",
     "output_type": "stream",
     "text": [
      "[5.25853450048292e-06, -6.079610708980834e-06, 6.063751560365911e-06, -1.0989079941127612e-05, 1.0355258672907026e-05, -2.0262697680476054e-06, -2.7341889214344177e-06, 5.390342134106816e-06, 5.668662871401933e-06, -6.685824475924704e-06, 7.701826464903809e-06, -9.093258180742962e-06, 1.2287235517258695e-05, 1.0491806522127554e-05, -1.090190654292392e-05, 3.613398694212532e-06, -6.150019545300288e-06, -7.061831321185235e-06, 2.362321223704975e-06, 1.8025587171418674e-06, 5.0264839044950265e-06, -6.219165207389795e-06, 6.03582161001595e-07, -1.1555004947908057e-05, 3.03730479908071e-06, 1.4418633844609124e-06, 6.605708232529268e-06, 1.3306650086924506e-06, 1.0754938238226224e-05, 8.119003097014161e-06, -1.2882737985692606e-06, -1.3978424388724404e-05, 1.16874461865954e-06, -1.9787996524766685e-07, -6.580072259443949e-06, -6.007742223372568e-06, -1.1443870249444483e-05, 6.068160928387633e-06, 1.0066462057726981e-05, 5.927959306239858e-07, -3.4188963209187476e-06, -2.842517251746556e-06, 6.310818063876659e-06, -2.1117691651832574e-06, 8.12812141946211e-06, -4.675922421335839e-06, 3.0726189986864174e-06, -8.306578303160586e-06, -7.31061876169512e-06, -9.075761035240153e-07, -1.8704646597428508e-06, 1.2599614077225558e-05, 1.3899432083051296e-05, -4.2774789288188665e-06, 1.0921290137566495e-05, 4.615775741066642e-06, 2.8731578928884677e-06, 4.322084319070336e-06, -1.9544971760017914e-05, 1.3627375046093338e-05, 2.3965223705843963e-06, 2.151487433069451e-06, -3.0507221510145735e-06, 1.4175460376273584e-05, 3.581738616959982e-06, 9.941197550698693e-06, 2.4785400834397476e-06, 2.3164227941481563e-07, -5.923901365900866e-06, -1.7951542908712833e-06, -5.111288456427128e-06, 8.90202682179303e-06, 7.2955099831417274e-06, 6.122201889265135e-06, 6.631865857656088e-06, -6.545627724583037e-06, -6.11881233743365e-06, -5.517356723761094e-06, 7.282725791953582e-07, 6.989358101717106e-06, -1.2043680882824765e-05, 6.358822767891217e-06, -5.87902467903428e-07, 1.5100768617870955e-05, -3.6480521364444508e-06, 3.5999767790830054e-06, 3.375786593596846e-07, -1.4812665258360568e-06, 4.686764719422515e-06, 4.207135749423003e-06, 5.9514935721708335e-06, 2.045082436729001e-06, 2.0608706729795177e-06, 1.3508663004419968e-06, -4.896367534325563e-06, -2.8649884341026823e-06, -1.0736429845514096e-05, 1.1030768192881786e-05, -9.835748127791584e-07, 3.0256914794602135e-06]\n"
     ]
    }
   ],
   "source": [
    "# All without diagonal\n",
    "sum_of_grams = []\n",
    "for seed in range(100):\n",
    "    np.random.seed(seed)\n",
    "    s = sample_d_ball_efficiently(6000,1000)\n",
    "    gram = np.matmul(s,s.T)\n",
    "    sum_of_grams.append(np.mean(gram-np.diag(np.diag(gram))))\n",
    "    \n",
    "print(sum_of_grams)"
   ]
  },
  {
   "cell_type": "markdown",
   "metadata": {},
   "source": [
    "## two cubes"
   ]
  },
  {
   "cell_type": "code",
   "execution_count": 83,
   "metadata": {},
   "outputs": [],
   "source": [
    "num_pts = 2000\n",
    "num_dims = 1000\n",
    "var1, var2 = 1,1\n",
    "mean1,mean2 = -0.55, 0.55\n",
    "\n",
    "X = np.concatenate([var1*(np.random.rand(num_pts, num_dims)-var1*0.5*np.ones([num_pts,num_dims]))+mean1*np.concatenate([np.ones([num_pts,1]),np.zeros([num_pts,num_dims-1])], axis=1), var2*(np.random.rand(num_pts, num_dims)-var2*0.5*np.ones([num_pts,num_dims]))+mean2*np.concatenate([np.ones([num_pts,1]),np.zeros([num_pts,num_dims-1])], axis=1)], axis = 0)"
   ]
  },
  {
   "cell_type": "code",
   "execution_count": 98,
   "metadata": {},
   "outputs": [
    {
     "name": "stdout",
     "output_type": "stream",
     "text": [
      "-0.30401944787896057\n",
      "-0.3133086487040559\n",
      "-0.2980745088464724\n",
      "-0.29962286850123737\n",
      "-0.31137310763710885\n",
      "-0.3102831554832699\n",
      "-0.2873187622165737\n",
      "-0.31318278782333164\n",
      "-0.3000035609112432\n",
      "-0.3082396055232132\n",
      "-0.30840153067067955\n",
      "-0.30999594915223005\n",
      "-0.3067979468357962\n",
      "-0.3095154896369217\n",
      "-0.2998757786868797\n",
      "-0.3069859385683071\n",
      "-0.29373543376296735\n",
      "-0.29435538172180087\n",
      "-0.30174253209512886\n",
      "-0.3095060063328356\n",
      "-0.3085937951471659\n",
      "-0.2964935005272142\n",
      "-0.30056274412559636\n",
      "-0.31204212911536794\n",
      "-0.29982148804758374\n",
      "-0.30044872500397546\n",
      "-0.29634444353955763\n",
      "-0.3040437439514365\n",
      "-0.2984152945227844\n",
      "-0.30278625493425476\n",
      "-0.3071325624271299\n",
      "-0.30468773656869363\n",
      "-0.3075791390881817\n",
      "-0.2980541471897482\n",
      "-0.3051399447523243\n",
      "-0.30386365215700034\n",
      "-0.3022610144983554\n",
      "-0.3016373040789892\n",
      "-0.3104632406292057\n",
      "-0.3132245408700457\n",
      "-0.29777526713343766\n",
      "-0.3004431626082891\n",
      "-0.3136720999847176\n",
      "-0.30887926670262583\n",
      "-0.29964521794302035\n",
      "-0.29505735234576286\n",
      "-0.29719266626382884\n",
      "-0.29722317035191226\n",
      "-0.2995032001599474\n",
      "-0.2989023061610843\n",
      "-0.3014031107298419\n",
      "-0.29708863698511173\n",
      "-0.2989874580776811\n",
      "-0.29610306483561466\n",
      "-0.29739810662500227\n",
      "-0.3098528790944308\n",
      "-0.3007444609158571\n",
      "-0.3052103444257775\n",
      "-0.30864366930400267\n",
      "-0.2947975770688125\n",
      "-0.31246018755704064\n",
      "-0.29624669538936355\n",
      "-0.30763004026653146\n",
      "-0.3044383800490539\n",
      "-0.30245905800265815\n",
      "-0.3107449894124836\n",
      "-0.3012534943447338\n",
      "-0.3028772970232977\n",
      "-0.3089784418174846\n",
      "-0.30128092310576143\n",
      "-0.2966199117240696\n",
      "-0.29728830395574557\n",
      "-0.30720444217400666\n",
      "-0.3148980054630474\n",
      "-0.2964023698490867\n",
      "-0.3111788926961197\n",
      "-0.3072605609388892\n",
      "-0.293689625198184\n",
      "-0.31009423132024216\n",
      "-0.31815689339623177\n",
      "-0.30663512398177367\n",
      "-0.2989820316295586\n",
      "-0.2990313604479719\n",
      "-0.30847348075044206\n",
      "-0.31338842756531704\n",
      "-0.30381255649949\n",
      "-0.30405548013037886\n",
      "-0.31259675618915755\n",
      "-0.29920822818369436\n",
      "-0.3044558367958474\n",
      "-0.3038463794364792\n",
      "-0.2975101900047675\n",
      "-0.3177563291972865\n",
      "-0.3088646147087403\n",
      "-0.29869936727624274\n",
      "-0.30146955792313374\n",
      "-0.3060294019301207\n",
      "-0.306402626282527\n",
      "-0.3069003969166965\n",
      "-0.30409621285602983\n"
     ]
    }
   ],
   "source": [
    "# In C1\n",
    "num_pts = 2000\n",
    "num_dims = 1000\n",
    "var1, var2 = 1,1\n",
    "mean1,mean2 = -0.55, 0.55\n",
    "\n",
    "for seed in range(100):\n",
    "    np.random.seed(seed)\n",
    "    X = np.concatenate([var1*(np.random.rand(num_pts, num_dims)-var1*0.5*np.ones([num_pts,num_dims]))+mean1*np.concatenate([np.ones([num_pts,1]),np.zeros([num_pts,num_dims-1])], axis=1), var2*(np.random.rand(num_pts, num_dims)-var2*0.5*np.ones([num_pts,num_dims]))+mean2*np.concatenate([np.ones([num_pts,1]),np.zeros([num_pts,num_dims-1])], axis=1)], axis = 0)\n",
    "    gram = np.matmul(X[num_pts:],X[:num_pts].T)\n",
    "#     print(np.mean(gram-np.diag(np.diag(gram))))\n",
    "    print(np.mean(gram))\n",
    "    # Very constant for both C1 and C2 around 1.4M for num_pts = 2000, dims = 1000, vars of 1 and mean1,mean2 = -0.55, 0.55\n",
    "    # -1.2M for C1, C2 cross\n",
    "    # in C1,C2 without diagonals: ~0.3 (mean and not sum like before)\n",
    "    # Across C1,C2: ~-0.3\n",
    "    # => This is roughly 0.55"
   ]
  },
  {
   "cell_type": "markdown",
   "metadata": {},
   "source": [
    "# Tests"
   ]
  },
  {
   "cell_type": "code",
   "execution_count": 6,
   "metadata": {},
   "outputs": [
    {
     "name": "stdout",
     "output_type": "stream",
     "text": [
      "18.0\n"
     ]
    }
   ],
   "source": [
    "c1=1000\n",
    "n=10000\n",
    "\n",
    "print((2*c1*n-2*c1**2)/(n**(3/2)))"
   ]
  },
  {
   "cell_type": "code",
   "execution_count": 8,
   "metadata": {},
   "outputs": [
    {
     "name": "stdout",
     "output_type": "stream",
     "text": [
      "50.0\n"
     ]
    }
   ],
   "source": [
    "c1=5000\n",
    "c2=5000\n",
    "n=c1+c2\n",
    "print(2*c1*c2/(n**(3/2)))"
   ]
  },
  {
   "cell_type": "code",
   "execution_count": 18,
   "metadata": {},
   "outputs": [
    {
     "name": "stdout",
     "output_type": "stream",
     "text": [
      "0.9997000499930009\n"
     ]
    }
   ],
   "source": [
    "c1=1\n",
    "c2=10000\n",
    "n=c1+c2\n",
    "m=1\n",
    "\n",
    "print(c1*c2*(n-2*m)/(n**2))"
   ]
  },
  {
   "cell_type": "code",
   "execution_count": null,
   "metadata": {},
   "outputs": [],
   "source": []
  }
 ],
 "metadata": {
  "kernelspec": {
   "display_name": "diff_sim",
   "language": "python",
   "name": "diff_sim"
  },
  "language_info": {
   "codemirror_mode": {
    "name": "ipython",
    "version": 3
   },
   "file_extension": ".py",
   "mimetype": "text/x-python",
   "name": "python",
   "nbconvert_exporter": "python",
   "pygments_lexer": "ipython3",
   "version": "3.9.7"
  }
 },
 "nbformat": 4,
 "nbformat_minor": 4
}
