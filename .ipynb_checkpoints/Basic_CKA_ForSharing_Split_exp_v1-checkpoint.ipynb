{
 "cells": [
  {
   "cell_type": "code",
   "execution_count": 1,
   "metadata": {
    "id": "k880Ih2e3PBf"
   },
   "outputs": [],
   "source": [
    "# Importing relevant libraries and defining the Net class (same class with which the networks were generated)\n",
    "import torch\n",
    "import torch.nn as nn \n",
    "import torch.nn.functional as F\n",
    "\n",
    "k=1\n",
    "class Net(torch.nn.Module):\n",
    "    def __init__(self):\n",
    "        super(Net, self).__init__()\n",
    "        self.layers = nn.ModuleList()\n",
    "        \n",
    "        self.layers+=[nn.Sequential(nn.Conv2d(3, 16*k,  kernel_size=3) , nn.BatchNorm2d(16*k),\n",
    "                      nn.ReLU(inplace=True)), nn.Sequential(nn.Conv2d(16*k, 16*k,  kernel_size=3) , nn.BatchNorm2d(16*k),\n",
    "                      nn.ReLU(inplace=True))] \n",
    "        self.layers+=[nn.Sequential(nn.Conv2d(16*k, 32*k,  kernel_size=3, stride=2),  nn.BatchNorm2d(32*k),\n",
    "                      nn.ReLU(inplace=True))]\n",
    "        self.layers+=[nn.Sequential(nn.Conv2d(32*k, 32*k,  kernel_size=3),  nn.BatchNorm2d(32*k),\n",
    "              nn.ReLU(inplace=True)),nn.Sequential(nn.Conv2d(32*k, 32*k,  kernel_size=3),  nn.BatchNorm2d(32*k),\n",
    "              nn.ReLU(inplace=True))]\n",
    "        self.layers+=[nn.Sequential(nn.Conv2d(32*k, 64*k,  kernel_size=3, stride=2), nn.BatchNorm2d(64*k),\n",
    "                      nn.ReLU(inplace=True))]\n",
    "        self.layers+=[nn.Sequential(nn.Conv2d(64*k, 64*k,  kernel_size=3, padding='valid'), nn.BatchNorm2d(64*k),\n",
    "                      nn.ReLU(inplace=True))]\n",
    "        self.layers+=[nn.Sequential(nn.Conv2d(64*k, 64*k,  kernel_size=1), nn.BatchNorm2d(64*k),\n",
    "                      nn.ReLU(inplace=True))]\n",
    "        self.layers+= [nn.AdaptiveAvgPool2d((1,1))]\n",
    "        self.fc = nn.Linear(64*k, 10)\n",
    "    \n",
    "    def forward(self, x, acts_only=False,all_act=False):\n",
    "        all_acts = []\n",
    "        for i in range(len(self.layers)):\n",
    "          all_acts.append(x)\n",
    "          x = self.layers[i](x)\n",
    "\n",
    "        x = self.fc(x.view(-1, 64*k))\n",
    "\n",
    "        if all_act:\n",
    "          return all_acts, x\n",
    "        return x"
   ]
  },
  {
   "cell_type": "markdown",
   "metadata": {
    "id": "UWZrTcYBD6Ac"
   },
   "source": [
    "This is the part to change"
   ]
  },
  {
   "cell_type": "code",
   "execution_count": 2,
   "metadata": {
    "colab": {
     "base_uri": "https://localhost:8080/"
    },
    "id": "C-BAq3zID4no",
    "outputId": "660655dc-5c78-4bd4-e70a-8582ce0d7b01"
   },
   "outputs": [],
   "source": [
    "# from google.colab import drive\n",
    "# drive.mount('/content/drive',force_remount=True)\n",
    "# base_path = '/content/drive/MyDrive/CKA_proj/'"
   ]
  },
  {
   "cell_type": "code",
   "execution_count": 3,
   "metadata": {
    "colab": {
     "base_uri": "https://localhost:8080/"
    },
    "id": "DxrHSBk_Yhrq",
    "outputId": "45088feb-7b91-4ec4-e3e1-348e8228f309"
   },
   "outputs": [
    {
     "data": {
      "text/plain": [
       "Net(\n",
       "  (layers): ModuleList(\n",
       "    (0): Sequential(\n",
       "      (0): Conv2d(3, 16, kernel_size=(3, 3), stride=(1, 1))\n",
       "      (1): BatchNorm2d(16, eps=1e-05, momentum=0.1, affine=True, track_running_stats=True)\n",
       "      (2): ReLU(inplace=True)\n",
       "    )\n",
       "    (1): Sequential(\n",
       "      (0): Conv2d(16, 16, kernel_size=(3, 3), stride=(1, 1))\n",
       "      (1): BatchNorm2d(16, eps=1e-05, momentum=0.1, affine=True, track_running_stats=True)\n",
       "      (2): ReLU(inplace=True)\n",
       "    )\n",
       "    (2): Sequential(\n",
       "      (0): Conv2d(16, 32, kernel_size=(3, 3), stride=(2, 2))\n",
       "      (1): BatchNorm2d(32, eps=1e-05, momentum=0.1, affine=True, track_running_stats=True)\n",
       "      (2): ReLU(inplace=True)\n",
       "    )\n",
       "    (3): Sequential(\n",
       "      (0): Conv2d(32, 32, kernel_size=(3, 3), stride=(1, 1))\n",
       "      (1): BatchNorm2d(32, eps=1e-05, momentum=0.1, affine=True, track_running_stats=True)\n",
       "      (2): ReLU(inplace=True)\n",
       "    )\n",
       "    (4): Sequential(\n",
       "      (0): Conv2d(32, 32, kernel_size=(3, 3), stride=(1, 1))\n",
       "      (1): BatchNorm2d(32, eps=1e-05, momentum=0.1, affine=True, track_running_stats=True)\n",
       "      (2): ReLU(inplace=True)\n",
       "    )\n",
       "    (5): Sequential(\n",
       "      (0): Conv2d(32, 64, kernel_size=(3, 3), stride=(2, 2))\n",
       "      (1): BatchNorm2d(64, eps=1e-05, momentum=0.1, affine=True, track_running_stats=True)\n",
       "      (2): ReLU(inplace=True)\n",
       "    )\n",
       "    (6): Sequential(\n",
       "      (0): Conv2d(64, 64, kernel_size=(3, 3), stride=(1, 1), padding=valid)\n",
       "      (1): BatchNorm2d(64, eps=1e-05, momentum=0.1, affine=True, track_running_stats=True)\n",
       "      (2): ReLU(inplace=True)\n",
       "    )\n",
       "    (7): Sequential(\n",
       "      (0): Conv2d(64, 64, kernel_size=(1, 1), stride=(1, 1))\n",
       "      (1): BatchNorm2d(64, eps=1e-05, momentum=0.1, affine=True, track_running_stats=True)\n",
       "      (2): ReLU(inplace=True)\n",
       "    )\n",
       "    (8): AdaptiveAvgPool2d(output_size=(1, 1))\n",
       "  )\n",
       "  (fc): Linear(in_features=64, out_features=10, bias=True)\n",
       ")"
      ]
     },
     "execution_count": 3,
     "metadata": {},
     "output_type": "execute_result"
    }
   ],
   "source": [
    "# Importing the saved networks\n",
    "PATH='net_kornblith/net_kornblith_'\n",
    "\n",
    "net_rand1 = Net()\n",
    "net_rand1.load_state_dict(torch.load(PATH+'random_1.zip'))\n",
    "net_rand1.eval()\n",
    "\n",
    "net_rand2 = Net()\n",
    "net_rand1.load_state_dict(torch.load(PATH+'random_2.zip'))\n",
    "net_rand2.eval()\n",
    "\n",
    "net_all1 = Net()\n",
    "net_all1.load_state_dict(torch.load(PATH+'all_1.zip'))\n",
    "net_all1.eval()\n",
    "\n",
    "net_all2 = Net()\n",
    "net_all2.load_state_dict(torch.load(PATH+'all_2.zip'))\n",
    "net_all2.eval()\n",
    "\n",
    "net_mem_s1 = Net()\n",
    "net_mem_s1.load_state_dict(torch.load(PATH+'mem_1_set1.zip'))\n",
    "net_mem_s1.eval()\n",
    "\n",
    "net_mem_s2 = Net()\n",
    "net_mem_s2.load_state_dict(torch.load(PATH+'mem_2_set2.zip'))\n",
    "net_mem_s2.eval()"
   ]
  },
  {
   "cell_type": "code",
   "execution_count": 4,
   "metadata": {
    "id": "sgdbmpqhc7qQ"
   },
   "outputs": [],
   "source": [
    "# Defining linear CKA\n",
    "\n",
    "import torch.nn as nn\n",
    "import torch.nn.functional as F\n",
    "\n",
    "class LinCKA(nn.Module):\n",
    "    def __init__(self, n=1000):\n",
    "        super(LinCKA, self).__init__()\n",
    "        self.resetK(n)\n",
    "    \n",
    "    def resetK(self,n):\n",
    "        unit = torch.ones([n, n])\n",
    "        I = torch.eye(n)\n",
    "        H = I - unit / n\n",
    "        H = H.cuda()\n",
    "        self.H = H.cuda()\n",
    "        self.n = n\n",
    "\n",
    "    def centering(self, K):\n",
    "        H = self.H\n",
    "        return torch.matmul(torch.matmul(H, K), H) \n",
    "\n",
    "    def linear_HSIC(self, X, Y):\n",
    "        L_X = torch.matmul(X, X.T)\n",
    "        L_Y = torch.matmul(Y, Y.T)\n",
    "        return torch.sum(self.centering(L_X) * self.centering(L_Y))\n",
    "\n",
    "    def linear_CKA(self,X, Y):\n",
    "        hsic = self.linear_HSIC(X, Y)\n",
    "        var1 = torch.sqrt(self.linear_HSIC(X, X))\n",
    "        var2 = torch.sqrt(self.linear_HSIC(Y, Y))\n",
    "\n",
    "        return hsic / (var1 * var2),var1,var2\n",
    "\n",
    "    def forward(self, X,Y):\n",
    "        if len(X) != self.n:\n",
    "          self.resetK(len(X))\n",
    "        return self.linear_CKA(X,Y)\n",
    "\n",
    "CKA = LinCKA()"
   ]
  },
  {
   "cell_type": "code",
   "execution_count": 5,
   "metadata": {
    "colab": {
     "base_uri": "https://localhost:8080/",
     "height": 101,
     "referenced_widgets": [
      "522e0f024813495bb45905626fdccd14",
      "916a6726fe5b4b8a949d1d6b1d4bfec1",
      "8de220001a4c42e6b2bf369d63e17658",
      "9a5b5204bd3847d485f8a139949a79f4",
      "b0283df5d40143789293e11c9428d543",
      "ad439d60a52447469bcdce66a8e3c0bd",
      "6d746b9790c744ac91ff6c7cc852f9f7",
      "890787b726f4485199dcb2a059ef92a3",
      "e34af8bd1fe3408cbd99341d4271f845",
      "8ec5fa1d3675438ba3e5097f6f605325",
      "70d14a62a0e94362bea840e44b5719e3"
     ]
    },
    "id": "Fzk7lZmit4K4",
    "outputId": "1852d041-28c8-499d-c2bb-7049903c0fb4"
   },
   "outputs": [
    {
     "name": "stdout",
     "output_type": "stream",
     "text": [
      "Files already downloaded and verified\n",
      "Files already downloaded and verified\n"
     ]
    }
   ],
   "source": [
    "from numpy.random import RandomState\n",
    "import numpy as np\n",
    "import torch\n",
    "  \n",
    "from torchvision import datasets, transforms\n",
    "normalize = transforms.Normalize(mean=[0.485, 0.456, 0.406],\n",
    "                                  std=[0.229, 0.224, 0.225])\n",
    "\n",
    "transform_val = transforms.Compose([transforms.ToTensor(), normalize]) \n",
    "transform_train =  transforms.Compose([transforms.ToTensor(), normalize]) \n",
    "use_cuda = torch.cuda.is_available()\n",
    "device = torch.device(\"cuda\" if use_cuda else \"cpu\")\n",
    "\n",
    "##### Cifar Data\n",
    "cifar_data = datasets.CIFAR10(root='.',train=True, transform=transform_train, download=True)\n",
    "cifar_data_test = datasets.CIFAR10(root='.',train=False, transform=transform_val, download=True)\n",
    "n=10000\n",
    "val_loaderx = torch.utils.data.DataLoader(cifar_data_test,\n",
    "                                           batch_size=n, \n",
    "                                           shuffle=True)\n",
    "data, labels = iter(val_loaderx).next()\n",
    "data = data.to(device)\n",
    "\n",
    "train_loaderx = torch.utils.data.DataLoader(cifar_data,\n",
    "                                           batch_size=50000, \n",
    "                                           shuffle=True)\n",
    "train_data, train_labels = iter(train_loaderx).next()\n",
    "train_data = train_data.to(device)"
   ]
  },
  {
   "cell_type": "code",
   "execution_count": 6,
   "metadata": {
    "id": "_Osi7Ar6EJUm"
   },
   "outputs": [],
   "source": [
    "np.set_printoptions(formatter={'float': lambda x: \"{0:0.2f}\".format(x)})\n",
    "def NetCompare(modelA,modelB):\n",
    "  np.set_printoptions(formatter={'float': lambda x: \"{0:0.2f}\".format(x)})\n",
    "  modelA.cuda()\n",
    "  modelB.cuda()\n",
    "  all_acts1,_ = modelA.forward(data, all_act=True)\n",
    "  all_acts2,_ = modelB.forward(data, all_act=True)\n",
    "  torch.cuda.empty_cache()\n",
    "  ckas = []\n",
    "  for (acts1,acts2) in zip(all_acts1,all_acts2):\n",
    "      b1=b2=acts1.shape[0]\n",
    "      acts1 = acts1.data.cuda()\n",
    "      acts2 = acts2.data.cuda()\n",
    "\n",
    "      cka, var1, var2 = CKA(acts1.view(b1,-1).squeeze(),\n",
    "                    acts2.view(b2,-1).squeeze())\n",
    "      ckas.append(cka.item())\n",
    "  print(np.array(ckas))\n",
    "  return ckas"
   ]
  },
  {
   "cell_type": "code",
   "execution_count": null,
   "metadata": {
    "colab": {
     "base_uri": "https://localhost:8080/"
    },
    "id": "yx6gj4GMEopH",
    "outputId": "4bfb7e45-77b7-4a32-f8ab-7bf20d7cbb99"
   },
   "outputs": [],
   "source": [
    "np.set_printoptions(formatter={'float': lambda x: \"{0:0.2f}\".format(x)})\n",
    "\n",
    "print('Generalize (init1) v Generalize (init2)')\n",
    "NetCompare(net_all1, net_all2)\n",
    "print('Rand v Rand')\n",
    "NetCompare(net_rand1,net_rand2)\n",
    "print('Rand v Gen')\n",
    "NetCompare(net_rand1, net_all1)\n",
    "print('Mem(init1, data1) v Mem(init2, data2)')\n",
    "NetCompare(net_mem_s1, net_mem_s2)\n",
    "print('Mem v gen')\n",
    "NetCompare(net_mem_s1, net_all1)\n",
    "print('Mem v rand')\n",
    "NetCompare(net_mem_s1, net_rand1)"
   ]
  },
  {
   "cell_type": "markdown",
   "metadata": {},
   "source": [
    "# Class stretching experiments"
   ]
  },
  {
   "cell_type": "markdown",
   "metadata": {},
   "source": [
    "## Toy experiments"
   ]
  },
  {
   "cell_type": "code",
   "execution_count": 6,
   "metadata": {},
   "outputs": [],
   "source": [
    "num_points = 200\n",
    "data = np.random.default_rng().uniform(size=(num_points, 2))\n",
    "labels = np.ones(num_points)\n",
    "labels[np.where(data[:,0]<0.5)] = -1"
   ]
  },
  {
   "cell_type": "code",
   "execution_count": 7,
   "metadata": {},
   "outputs": [
    {
     "name": "stdout",
     "output_type": "stream",
     "text": [
      "(1, 2)\n",
      "[-2.28180073]\n"
     ]
    }
   ],
   "source": [
    "from sklearn.svm import LinearSVC\n",
    "lin_class = LinearSVC()\n",
    "lin_class.fit(data,labels)\n",
    "W = lin_class.coef_[0]\n",
    "I = lin_class.intercept_\n",
    "a = -W[0]/W[1]\n",
    "b = I[0]/W[1]\n",
    "\n",
    "print(lin_class.coef_.shape)\n",
    "print(I)"
   ]
  },
  {
   "cell_type": "code",
   "execution_count": 8,
   "metadata": {},
   "outputs": [
    {
     "data": {
      "text/plain": [
       "(-0.5, 1)"
      ]
     },
     "execution_count": 8,
     "metadata": {},
     "output_type": "execute_result"
    }
   ],
   "source": [
    "import matplotlib.pyplot as plt\n",
    "plt.scatter(data[:,0], data[:,1], c=labels)\n",
    "x = np.linspace(0,1,10)\n",
    "y = a*x-b\n",
    "plt.plot(x,y)\n",
    "plt.plot([0,W[0]],[0,W[1]])\n",
    "ax = plt.gca()\n",
    "ax.set_xlim([0, 1])\n",
    "ax.set_ylim([-0.5, 1])"
   ]
  },
  {
   "cell_type": "markdown",
   "metadata": {},
   "source": [
    "This seems to work..."
   ]
  },
  {
   "cell_type": "markdown",
   "metadata": {},
   "source": [
    "## Real data"
   ]
  },
  {
   "cell_type": "code",
   "execution_count": 6,
   "metadata": {},
   "outputs": [
    {
     "name": "stdout",
     "output_type": "stream",
     "text": [
      "9\n",
      "[torch.Size([50000, 3, 32, 32]), torch.Size([50000, 16, 30, 30]), torch.Size([50000, 16, 28, 28]), torch.Size([50000, 32, 13, 13]), torch.Size([50000, 32, 11, 11]), torch.Size([50000, 32, 9, 9]), torch.Size([50000, 64, 4, 4]), torch.Size([50000, 64, 2, 2]), torch.Size([50000, 64, 2, 2])]\n",
      "[torch.Size([50000, 3072]), torch.Size([50000, 14400]), torch.Size([50000, 12544]), torch.Size([50000, 5408]), torch.Size([50000, 3872]), torch.Size([50000, 2592]), torch.Size([50000, 1024]), torch.Size([50000, 256]), torch.Size([50000, 256])]\n"
     ]
    }
   ],
   "source": [
    "from sklearn.svm import LinearSVC\n",
    "\n",
    "net_all1.cuda()\n",
    "# val_activations, _ = net_all1.forward(data, all_act=True)\n",
    "train_activations, _ = net_all1.forward(train_data, all_act=True)\n",
    "print(len(train_activations))\n",
    "print([i.shape for i in train_activations])\n",
    "print([i.view(i.shape[0],-1).shape for i in train_activations])\n",
    "\n",
    "train_act = train_activations[-1].view(train_activations[-1].shape[0],-1).detach().cpu().numpy()\n",
    "train_labels = train_labels.detach().cpu().numpy()\n",
    "for i in train_activations: del i"
   ]
  },
  {
   "cell_type": "code",
   "execution_count": 7,
   "metadata": {},
   "outputs": [
    {
     "name": "stdout",
     "output_type": "stream",
     "text": [
      "[ 1.30012367 -2.99292764 -2.98123247 -4.62078575 -3.85792429 -3.74176933\n",
      " -3.24900056 -2.08518153 -4.36379135 -3.32110704]\n",
      "(10, 256)\n",
      "10\n"
     ]
    },
    {
     "name": "stderr",
     "output_type": "stream",
     "text": [
      "/cvmfs/ai.mila.quebec/apps/x86_64/debian/anaconda/3/lib/python3.7/site-packages/sklearn/svm/base.py:929: ConvergenceWarning: Liblinear failed to converge, increase the number of iterations.\n",
      "  \"the number of iterations.\", ConvergenceWarning)\n"
     ]
    }
   ],
   "source": [
    "lin_svc = LinearSVC()\n",
    "lin_svc.fit(train_act, train_labels)\n",
    "\n",
    "# Gives data proportional to signed distances from decision boundary for each class\n",
    "decision_function = lin_svc.decision_function(train_act)\n",
    "print(decision_function[0])\n",
    "\n",
    "# Trouver les decision boundaries\n",
    "print(lin_svc.coef_.shape) # Donne les 10 vecteurs normaux au décision boundary\n",
    "print(lin_svc.intercept_.shape[0]) # Donne le offset par rapport à l'origine"
   ]
  },
  {
   "cell_type": "code",
   "execution_count": 8,
   "metadata": {},
   "outputs": [
    {
     "name": "stdout",
     "output_type": "stream",
     "text": [
      "Accuracy of a linear SVM classifier: 0.9116\n"
     ]
    }
   ],
   "source": [
    "# Linear separability:\n",
    "print(\"Accuracy of a linear SVM classifier: {}\".format(lin_svc.score(train_act, train_labels)))"
   ]
  },
  {
   "cell_type": "code",
   "execution_count": 9,
   "metadata": {},
   "outputs": [],
   "source": [
    "def get_activations_by_class(data, labels):\n",
    "    indexes = []\n",
    "    datapoints = []\n",
    "    \n",
    "    for label in range(10): #for label in set(labels): \n",
    "        indexes.append(np.where(labels==label))\n",
    "        datapoints.append(data[indexes[-1]])\n",
    "    \n",
    "    return datapoints, indexes"
   ]
  },
  {
   "cell_type": "markdown",
   "metadata": {},
   "source": [
    "## PCA"
   ]
  },
  {
   "cell_type": "code",
   "execution_count": 14,
   "metadata": {},
   "outputs": [
    {
     "name": "stdout",
     "output_type": "stream",
     "text": [
      "87\n"
     ]
    },
    {
     "data": {
      "image/png": "[encoded data removed]",
      "text/plain": [
       "<Figure size 432x288 with 1 Axes>"
      ]
     },
     "metadata": {
      "needs_background": "light"
     },
     "output_type": "display_data"
    }
   ],
   "source": [
    "from sklearn.decomposition import PCA\n",
    "pca = PCA(n_components = 2)\n",
    "lowd_embeds = pca.fit_transform(train_act)\n",
    "pca.explained_variance_ratio_\n",
    "plt.scatter(lowd_embeds[:,0], lowd_embeds[:,1], c=train_labels)\n",
    "\n",
    "pca_var = PCA(n_components = 0.9)\n",
    "pca_var.fit(train_act)\n",
    "print(len(pca_var.components_))"
   ]
  },
  {
   "cell_type": "code",
   "execution_count": 16,
   "metadata": {},
   "outputs": [
    {
     "name": "stdout",
     "output_type": "stream",
     "text": [
      "Class 0 requires 41 PCs for 80.0% explained class variance\n",
      "Class 1 requires 41 PCs for 80.0% explained class variance\n",
      "Class 2 requires 46 PCs for 80.0% explained class variance\n",
      "Class 3 requires 52 PCs for 80.0% explained class variance\n",
      "Class 4 requires 43 PCs for 80.0% explained class variance\n",
      "Class 5 requires 49 PCs for 80.0% explained class variance\n",
      "Class 6 requires 46 PCs for 80.0% explained class variance\n",
      "Class 7 requires 42 PCs for 80.0% explained class variance\n",
      "Class 8 requires 44 PCs for 80.0% explained class variance\n",
      "Class 9 requires 46 PCs for 80.0% explained class variance\n"
     ]
    }
   ],
   "source": [
    "pts_per_class, indexes = get_activations_by_class(train_act, train_labels)\n",
    "explained_var = 0.8\n",
    "\n",
    "pcs_per_class = []\n",
    "\n",
    "for class_idx, pts_class in enumerate(pts_per_class):\n",
    "    pca = PCA(n_components = explained_var)\n",
    "    pcs_per_class.append(pca.fit(pts_class).components_)\n",
    "    print(\"Class {} requires {} PCs for {}% explained class variance\".format(class_idx, len(pcs_per_class[-1]), explained_var*100))\n",
    "    lowd_lin_svc = LinearSVC()\n",
    "    "
   ]
  },
  {
   "cell_type": "markdown",
   "metadata": {},
   "source": [
    "## Stretch all dirs"
   ]
  },
  {
   "cell_type": "code",
   "execution_count": 35,
   "metadata": {},
   "outputs": [],
   "source": [
    "def stretch_all_dirs_except_one(data, w, stretch_constant):\n",
    "    # data should be of shape n x d (n examples, d features)\n",
    "    # w should be a d dimensional vector\n",
    "    data_ = np.copy(data)\n",
    "    w = w.reshape([1,len(w)])\n",
    "    \n",
    "#     print(w.shape)\n",
    "#     print(data_.shape)\n",
    "#     print(np.ones([data_.shape[0],1]).shape)\n",
    "#     print(np.matmul(data_, w.T).shape)\n",
    "#     print(np.diag(np.matmul(data_, w.T)).shape)\n",
    "    residue = np.matmul( np.diag(np.matmul(data_, w.T).squeeze()), np.matmul(np.ones([data_.shape[0],1]), w)) #.squeeze() équivalent à .reshape(-1)\n",
    "    data_ = data_ - residue\n",
    "    data_ *= stretch_constant\n",
    "    data_ += residue\n",
    "    return data_"
   ]
  },
  {
   "cell_type": "code",
   "execution_count": 39,
   "metadata": {},
   "outputs": [],
   "source": [
    "pts_per_class, indexes = get_activations_by_class(train_act, train_labels)\n",
    "stretched_pts = []\n",
    "new_labels = np.zeros(len(pts_per_class[0]))\n",
    "\n",
    "stretch_constant = 1000000\n",
    "\n",
    "for class_idx, (data, w) in enumerate(zip(pts_per_class, lin_svc.coef_)):\n",
    "    stretched_pts.append(stretch_all_dirs_except_one(data,w, stretch_constant))\n",
    "    if class_idx != 0: new_labels = np.concatenate([new_labels, class_idx*np.ones(stretched_pts[-1].shape[0])])    "
   ]
  },
  {
   "cell_type": "code",
   "execution_count": 40,
   "metadata": {},
   "outputs": [
    {
     "name": "stdout",
     "output_type": "stream",
     "text": [
      "Accuracy of a linear SVM classifier: 0.94574\n"
     ]
    }
   ],
   "source": [
    "# Linear separability:\n",
    "stretched_pts = np.concatenate(stretched_pts)\n",
    "pts_per_class = np.concatenate(pts_per_class)\n",
    "\n",
    "print(\"Accuracy of a linear SVM classifier: {}\".format(lin_svc.score(stretched_pts, new_labels)))"
   ]
  },
  {
   "cell_type": "code",
   "execution_count": 41,
   "metadata": {},
   "outputs": [
    {
     "name": "stdout",
     "output_type": "stream",
     "text": [
      "Cka between 1000 stretched pts: 1.0000001192092896\n",
      "Cka between 1000 original pts: 1.0\n",
      "Cka between 1000 original vs stretched pts: 0.9997718930244446\n"
     ]
    }
   ],
   "source": [
    "CKA = LinCKA()\n",
    "\n",
    "perm = np.random.permutation(1000)\n",
    "original = torch.Tensor(pts_per_class).cuda()\n",
    "stretched = torch.Tensor(stretched_pts).cuda()\n",
    "print(\"Cka between 1000 stretched pts: {}\".format(CKA(stretched[perm], stretched[perm])[0].item()))\n",
    "print(\"Cka between 1000 original pts: {}\".format(CKA(original[perm], original[perm] )[0].item()))\n",
    "print(\"Cka between 1000 original vs stretched pts: {}\".format(CKA(original[perm],stretched[perm] )[0].item()))"
   ]
  },
  {
   "cell_type": "markdown",
   "metadata": {},
   "source": [
    "Maintains the accuracy of the SVM classifier but also maintains CKA"
   ]
  },
  {
   "cell_type": "markdown",
   "metadata": {},
   "source": [
    "## Splitting"
   ]
  },
  {
   "cell_type": "code",
   "execution_count": 10,
   "metadata": {},
   "outputs": [],
   "source": [
    "def split_one_dir_except_one(data, d, w, split_constant):\n",
    "    # data should be of shape n x d (n examples, d features)\n",
    "    # w should be a d dimensional vector\n",
    "    data_ = np.copy(data)\n",
    "    w = w.reshape([1,len(w)])\n",
    "    d = d.reshape([1,np.max(d.shape)])\n",
    "    d_ = d - np.matmul(w,d.T)*w\n",
    "    \n",
    "    projections = np.matmul(data_, d_.T).squeeze()\n",
    "    mean = np.mean(projections)\n",
    "    translations = np.ones(data_.shape[0])\n",
    "    translations[np.where(projections<mean)] = -1\n",
    "    translations = np.matmul( np.diag(translations.squeeze()), np.matmul(np.ones([data_.shape[0],1]), d_))\n",
    "    \n",
    "    data_+=translations\n",
    "    return data_"
   ]
  },
  {
   "cell_type": "code",
   "execution_count": 11,
   "metadata": {},
   "outputs": [],
   "source": [
    "def multiple_splits_one_dir_except_one(data, d, w, split_constant, n_clusters):\n",
    "    # data should be of shape n x d (n examples, d features)\n",
    "    # w should be a d dimensional vector\n",
    "    data_ = np.copy(data)\n",
    "    w = w.reshape([1,len(w)])\n",
    "    d = d.reshape([1,np.max(d.shape)])\n",
    "    d_ = d - np.matmul(w,d.T)*w\n",
    "    \n",
    "    projections = np.matmul(data_, d_.T).squeeze()\n",
    "    mean = np.mean(projections)\n",
    "    min_ = np.min(projections)\n",
    "    max_ = np.max(projections)\n",
    "# new_points = np.copy(points)\n",
    "#     separators = np.linspace(0,1,num_clusters+1)-0.5\n",
    "#     for point in new_points:\n",
    "#         for cluster_idx in range(num_clusters):\n",
    "#             if point[1]>= separators[cluster_idx] and point[1]< separators[cluster_idx+1]:\n",
    "#                 point[1]+= cluster_idx*cluster_dist\n",
    "#     return new_points\n",
    "    \n",
    "    translations = np.zeros(data_.shape[0])\n",
    "    \n",
    "    separators = np.linspace(min_,max_,n_clusters)\n",
    "    for cluster_idx in range(n_clusters):\n",
    "        translations[np.where(projections>=separators[cluster_idx])] = cluster_idx*split_constant \n",
    "    \n",
    "    translations = np.matmul( np.diag(translations.squeeze()), np.matmul(np.ones([data_.shape[0],1]), d_))\n",
    "    \n",
    "    data_+= translations\n",
    "    return data_"
   ]
  },
  {
   "cell_type": "code",
   "execution_count": 12,
   "metadata": {},
   "outputs": [],
   "source": [
    "def multiple_splits_one_dir_except_multiple(data, d, W, split_constant, n_clusters):\n",
    "    # data should be of shape n x d (n examples, d features)\n",
    "    # w should be a d dimensional vector\n",
    "    data_ = np.copy(data)\n",
    "    d_ = d.reshape([1,np.max(d.shape)])\n",
    "    for w in W:\n",
    "        d_ -= np.matmul(w,d_.T)*w\n",
    "    \n",
    "    projections = np.matmul(data_, d_.T).squeeze()\n",
    "    mean = np.mean(projections)\n",
    "    min_ = np.min(projections)\n",
    "    max_ = np.max(projections)\n",
    "    \n",
    "    translations = np.zeros(data_.shape[0])\n",
    "    \n",
    "    separators = np.linspace(min_,max_,n_clusters)\n",
    "    for cluster_idx in range(n_clusters):\n",
    "        translations[np.where(projections>=separators[cluster_idx])] = cluster_idx*split_constant \n",
    "    \n",
    "    translations = np.matmul(np.diag(translations.squeeze()), np.matmul(np.ones([data_.shape[0],1]), d_))\n",
    "    \n",
    "    data_+= translations\n",
    "    return data_"
   ]
  },
  {
   "cell_type": "code",
   "execution_count": 10,
   "metadata": {},
   "outputs": [],
   "source": [
    "def multiple_splits_one_dir(data, d, W, split_constant, n_clusters):\n",
    "    # data should be of shape n x d (n examples, d features)\n",
    "    # \n",
    "    data_ = np.copy(data)\n",
    "    \n",
    "    Q, R = np.linalg.qr(W.T)\n",
    "    d_ = d.reshape([1,np.max(d.shape)])\n",
    "    d_ -= np.matmul(d_, np.matmul(Q, Q.T))\n",
    "    \n",
    "    projections = np.matmul(data_, d_.T).squeeze()\n",
    "    mean = np.mean(projections)\n",
    "    min_ = np.min(projections)\n",
    "    max_ = np.max(projections)\n",
    "    \n",
    "    translations = np.zeros(data_.shape[0])\n",
    "    \n",
    "    separators = np.linspace(min_,max_,n_clusters)\n",
    "    for cluster_idx in range(n_clusters):\n",
    "        translations[np.where(projections>=separators[cluster_idx])] = cluster_idx*split_constant \n",
    "    \n",
    "    translations = np.matmul(np.diag(translations.squeeze()), np.matmul(np.ones([data_.shape[0],1]), d_))\n",
    "    \n",
    "    data_+= translations\n",
    "    return data_"
   ]
  },
  {
   "cell_type": "code",
   "execution_count": 32,
   "metadata": {},
   "outputs": [
    {
     "name": "stdout",
     "output_type": "stream",
     "text": [
      "Accuracy of a linear SVM classifier on the original data: 0.91334\n",
      "Accuracy of a linear SVM classifier on the split data: 0.91334\n",
      "Cka between 10000 stretched pts: 1.0\n",
      "Cka between 10000 original pts: 0.9999999403953552\n",
      "Cka between 10000 original vs stretched pts: 0.3163566589355469\n"
     ]
    }
   ],
   "source": [
    "from sklearn.decomposition import PCA\n",
    "pts_per_class, indexes = get_activations_by_class(train_act, train_labels)\n",
    "stretched_pts = []\n",
    "new_labels = np.zeros(len(pts_per_class[0]))\n",
    "\n",
    "split_constant = 10000\n",
    "\n",
    "for class_idx, data in enumerate(pts_per_class):\n",
    "    d = PCA(n_components=50).fit(data).components_[4]\n",
    "    stretched_pts.append(multiple_splits_one_dir(data, d, lin_svc.coef_, split_constant, 3))\n",
    "    if class_idx != 0: new_labels = np.concatenate([new_labels, class_idx*np.ones(stretched_pts[-1].shape[0])])\n",
    "        \n",
    "# Linear separability:\n",
    "stretched_pts = np.concatenate(stretched_pts)\n",
    "pts_per_class = np.concatenate(pts_per_class)\n",
    "\n",
    "print(\"Accuracy of a linear SVM classifier on the original data: {}\".format(lin_svc.score(pts_per_class, new_labels)))\n",
    "print(\"Accuracy of a linear SVM classifier on the split data: {}\".format(lin_svc.score(stretched_pts, new_labels)))\n",
    "\n",
    "\n",
    "# CKA values\n",
    "CKA = LinCKA()\n",
    "\n",
    "num_pts_cka = 10000\n",
    "perm = np.random.permutation(num_pts_cka)\n",
    "original = torch.Tensor(pts_per_class).cuda()\n",
    "stretched = torch.Tensor(stretched_pts).cuda()\n",
    "print(\"Cka between {} stretched pts: {}\".format(num_pts_cka, CKA(stretched[perm], stretched[perm])[0].item()))\n",
    "print(\"Cka between {} original pts: {}\".format(num_pts_cka, CKA(original[perm], original[perm] )[0].item()))\n",
    "print(\"Cka between {} original vs stretched pts: {}\".format(num_pts_cka, CKA(original[perm],stretched[perm])[0].item()))"
   ]
  },
  {
   "cell_type": "markdown",
   "metadata": {},
   "source": [
    "## All combined in a single cell"
   ]
  },
  {
   "cell_type": "code",
   "execution_count": 17,
   "metadata": {},
   "outputs": [
    {
     "name": "stderr",
     "output_type": "stream",
     "text": [
      "/cvmfs/ai.mila.quebec/apps/x86_64/debian/anaconda/3/lib/python3.7/site-packages/sklearn/svm/base.py:929: ConvergenceWarning: Liblinear failed to converge, increase the number of iterations.\n",
      "  \"the number of iterations.\", ConvergenceWarning)\n"
     ]
    },
    {
     "name": "stdout",
     "output_type": "stream",
     "text": [
      "Accuracy of a linear SVM classifier on the original data: 0.91334\n",
      "Accuracy of a linear SVM classifier on the split data: 0.91334\n",
      "Cka between 10000 stretched pts: 1.0\n",
      "Cka between 10000 original pts: 1.0\n",
      "Cka between 10000 original vs stretched pts: 0.6025434732437134\n"
     ]
    }
   ],
   "source": [
    "from sklearn.svm import LinearSVC\n",
    "from sklearn.decomposition import PCA\n",
    "\n",
    "def get_activations_by_class(data, labels):\n",
    "    indexes = []\n",
    "    datapoints = []\n",
    "    \n",
    "    for label in range(10): #for label in set(labels): \n",
    "        indexes.append(np.where(labels==label))\n",
    "        datapoints.append(data[indexes[-1]])\n",
    "    \n",
    "    return datapoints, indexes\n",
    "\n",
    "def multiple_splits_one_dir(data, d, W, split_constant, n_clusters):\n",
    "    # data should be of shape n x d (n examples, d features)\n",
    "    # \n",
    "    data_ = np.copy(data)\n",
    "    \n",
    "    Q, R = np.linalg.qr(W.T)\n",
    "    d_ = d.reshape([1,np.max(d.shape)])\n",
    "    d_ -= np.matmul(d_, np.matmul(Q, Q.T))\n",
    "    \n",
    "    projections = np.matmul(data_, d_.T).squeeze()\n",
    "    mean = np.mean(projections)\n",
    "    min_ = np.min(projections)\n",
    "    max_ = np.max(projections)\n",
    "    \n",
    "    translations = np.zeros(data_.shape[0])\n",
    "    \n",
    "    separators = np.linspace(min_,max_,n_clusters)\n",
    "    for cluster_idx in range(n_clusters):\n",
    "        translations[np.where(projections>=separators[cluster_idx])] = cluster_idx*split_constant \n",
    "    \n",
    "    translations = np.matmul(np.diag(translations.squeeze()), np.matmul(np.ones([data_.shape[0],1]), d_))\n",
    "    \n",
    "    data_+= translations\n",
    "    return data_\n",
    "\n",
    "\n",
    "train_data, train_labels = iter(train_loaderx).next()\n",
    "train_data = train_data.to(device)\n",
    "net_all1.cuda()\n",
    "train_activations, _ = net_all1.forward(train_data, all_act=True)\n",
    "train_act = train_activations[-1].view(train_activations[-1].shape[0],-1).detach().cpu().numpy()\n",
    "train_labels = train_labels.detach().cpu().numpy()\n",
    "for i in train_activations: del i\n",
    "\n",
    "# Linear separability:\n",
    "lin_svc = LinearSVC()\n",
    "lin_svc.fit(train_act, train_labels)\n",
    "print(\"Accuracy of a linear SVM classifier on the original data: {}\".format(lin_svc.score(train_act, train_labels)))\n",
    "\n",
    "\n",
    "pts_per_class, indexes = get_activations_by_class(train_act, train_labels)\n",
    "stretched_pts = []\n",
    "new_labels = np.zeros(len(pts_per_class[0]))\n",
    "\n",
    "split_constant = 1000\n",
    "\n",
    "for class_idx, data in enumerate(pts_per_class):\n",
    "    d = PCA(n_components=50).fit(data).components_[4]\n",
    "    stretched_pts.append(multiple_splits_one_dir(data, d, lin_svc.coef_, split_constant, 2))\n",
    "    if class_idx != 0: new_labels = np.concatenate([new_labels, class_idx*np.ones(stretched_pts[-1].shape[0])])\n",
    "        \n",
    "# Linear separability:\n",
    "stretched_pts = np.concatenate(stretched_pts)\n",
    "pts_per_class = np.concatenate(pts_per_class)\n",
    "\n",
    "# print(\"Accuracy of a linear SVM classifier on the original data: {}\".format(lin_svc.score(pts_per_class, new_labels)))\n",
    "print(\"Accuracy of a linear SVM classifier on the split data: {}\".format(lin_svc.score(stretched_pts, new_labels)))\n",
    "\n",
    "\n",
    "# CKA values\n",
    "CKA = LinCKA()\n",
    "\n",
    "num_pts_cka = 10000\n",
    "perm = np.random.permutation(num_pts_cka)\n",
    "original = torch.Tensor(pts_per_class).cuda()\n",
    "stretched = torch.Tensor(stretched_pts).cuda()\n",
    "print(\"Cka between {} stretched pts: {}\".format(num_pts_cka, CKA(stretched[perm], stretched[perm])[0].item()))\n",
    "print(\"Cka between {} original pts: {}\".format(num_pts_cka, CKA(original[perm], original[perm] )[0].item()))\n",
    "print(\"Cka between {} original vs stretched pts: {}\".format(num_pts_cka, CKA(original[perm],stretched[perm])[0].item()))"
   ]
  },
  {
   "cell_type": "code",
   "execution_count": null,
   "metadata": {},
   "outputs": [],
   "source": []
  },
  {
   "cell_type": "code",
   "execution_count": null,
   "metadata": {},
   "outputs": [],
   "source": []
  },
  {
   "cell_type": "code",
   "execution_count": null,
   "metadata": {},
   "outputs": [],
   "source": []
  },
  {
   "cell_type": "code",
   "execution_count": null,
   "metadata": {},
   "outputs": [],
   "source": []
  },
  {
   "cell_type": "code",
   "execution_count": null,
   "metadata": {},
   "outputs": [],
   "source": []
  },
  {
   "cell_type": "code",
   "execution_count": null,
   "metadata": {},
   "outputs": [],
   "source": []
  },
  {
   "cell_type": "code",
   "execution_count": null,
   "metadata": {},
   "outputs": [],
   "source": []
  },
  {
   "cell_type": "code",
   "execution_count": null,
   "metadata": {},
   "outputs": [],
   "source": []
  },
  {
   "cell_type": "code",
   "execution_count": null,
   "metadata": {},
   "outputs": [],
   "source": []
  },
  {
   "cell_type": "code",
   "execution_count": null,
   "metadata": {},
   "outputs": [],
   "source": []
  },
  {
   "cell_type": "code",
   "execution_count": null,
   "metadata": {},
   "outputs": [],
   "source": []
  },
  {
   "cell_type": "markdown",
   "metadata": {
    "id": "Bq2N6W0fEneD"
   },
   "source": [
    "# **Target exp**"
   ]
  },
  {
   "cell_type": "code",
   "execution_count": null,
   "metadata": {
    "id": "yw-amMYlEDj0"
   },
   "outputs": [],
   "source": [
    "def Map(all_acts):\n",
    "  n = len(all_acts)\n",
    "  map = torch.zeros(n,n)\n",
    "  for i in range(len(all_acts)):\n",
    "    for j in range(len(all_acts)):\n",
    "      b = all_acts[i].shape[0]\n",
    "      acts1 = all_acts[i].view(b,-1).squeeze()\n",
    "      acts2 = all_acts[j].view(b,-1).squeeze()\n",
    "      cka, _, _ = CKA(acts1,acts2)\n",
    "     # print(cka.item())\n",
    "   \n",
    "      map[i,j] = cka\n",
    "\n",
    "  return map"
   ]
  },
  {
   "cell_type": "code",
   "execution_count": null,
   "metadata": {
    "id": "ukHdsNTJZWnc"
   },
   "outputs": [],
   "source": [
    "def MapTarg(all_acts,mapTarget):\n",
    "  n = len(all_acts)\n",
    "  mapLoss = 0\n",
    "  for i in range(len(all_acts)):\n",
    "    for j in range(len(all_acts)):\n",
    "      if i == j: \n",
    "        continue\n",
    "      b = all_acts[i].shape[0]\n",
    "      acts1 = all_acts[i].view(b,-1).squeeze()\n",
    "      acts2 = all_acts[j].view(b,-1).squeeze()\n",
    "      cka, _, _ = CKA(acts1,acts2)\n",
    "     # print(cka.item())\n",
    "   \n",
    "      mapLoss+= (cka-mapTarget[i,j])**2\n",
    "\n",
    "  return mapLoss/float(n**2)"
   ]
  },
  {
   "cell_type": "code",
   "execution_count": null,
   "metadata": {
    "id": "phEOigmgFA7v"
   },
   "outputs": [],
   "source": [
    "#original\n",
    "all_acts1,_ = net_mem1.forward(data,all_act=True)\n",
    "import matplotlib.pyplot as plt\n",
    "for i in range(len(all_acts1)):\n",
    "  all_acts1[i] = all_acts1[i].cuda()\n",
    "plt.imshow(Map(all_acts1[1:]).cpu().data.numpy(),origin='lower')\n",
    "plt.colorbar()\n",
    "plt.clim(0.3,1)"
   ]
  },
  {
   "cell_type": "code",
   "execution_count": null,
   "metadata": {},
   "outputs": [],
   "source": []
  },
  {
   "cell_type": "code",
   "execution_count": null,
   "metadata": {},
   "outputs": [],
   "source": []
  },
  {
   "cell_type": "code",
   "execution_count": null,
   "metadata": {
    "id": "OVAXdnu5YbZg"
   },
   "outputs": [],
   "source": []
  },
  {
   "cell_type": "code",
   "execution_count": null,
   "metadata": {
    "id": "eyuQ4D14GwHh"
   },
   "outputs": [],
   "source": [
    "import torch.nn.functional as F\n",
    "\n",
    "def trainMap(model, device, train_loader, optimizer, epoch, mapTarget, lam=20.0,display=True):\n",
    "    model.train()\n",
    "    for batch_idx, (data, target) in enumerate(train_loader):      \n",
    "        data, target = data.to(device), target.to(device)\n",
    "        optimizer.zero_grad()\n",
    "      #  output = model(data)\n",
    "        all_acts, output = model.forward(data, all_act=True)\n",
    "        loss = F.cross_entropy(output, target)\n",
    "        #map = Map(all_acts)\n",
    "        #print(map)\n",
    "        maploss = MapTarg(all_acts,mapTarget) #F.mse_loss(map,mapTarget)\n",
    "        if batch_idx%10==0:\n",
    "          print(maploss)\n",
    "        \n",
    "        loss += lam*maploss\n",
    "        loss.backward()\n",
    "        optimizer.step()\n",
    "    if display:\n",
    "      print('Train Epoch: {} [{}/{} ({:.0f}%)]\\tLoss: {:.6f}'.format(\n",
    "          epoch, batch_idx * len(data), len(train_loader.dataset),\n",
    "          100. * batch_idx / len(train_loader), loss.item()))"
   ]
  },
  {
   "cell_type": "code",
   "execution_count": null,
   "metadata": {
    "id": "eG_0jbg8lNsf"
   },
   "outputs": [],
   "source": [
    "all_acts1,_ = modelsA[0].forward(data,all_act=True)\n",
    "mapTarget = Map(all_acts1).cpu().data.numpy()#torch.zeros(len(all_acts1),len(all_acts1))\n",
    "mapTarget[1,8]=1\n",
    "mapTarget[8,1]=1\n",
    "plt.imshow(mapTarget[1:,1:],origin='lower')\n",
    "plt.colorbar()\n",
    "plt.clim(0.3,1)"
   ]
  },
  {
   "cell_type": "code",
   "execution_count": null,
   "metadata": {
    "id": "1aNI4tk-G5-_"
   },
   "outputs": [],
   "source": [
    "#mapTarget = torch.ones(len(all_acts1),len(all_acts1))\n",
    "\n",
    "train_loader1 = torch.utils.data.DataLoader(train_data1,\n",
    "                                             batch_size=1000, \n",
    "                                             shuffle=True)\n",
    "model = copy.deepcopy(modelsA[0])\n",
    "optimizer = torch.optim.Adam(model.parameters(),lr=1e-3)\n",
    "for epoch in range(5):\n",
    "  trainMap(model, device, train_loader1, optimizer, epoch, mapTarget)\n",
    "\n",
    "test(model, device, val_loader2)"
   ]
  },
  {
   "cell_type": "code",
   "execution_count": null,
   "metadata": {
    "id": "8983FHGwVzNJ"
   },
   "outputs": [],
   "source": [
    "all_acts1, _ = model(data,all_act=True)\n",
    "for i in range(len(all_acts1)):\n",
    "  all_acts1[i] = all_acts1[i].cuda()\n",
    "plt.imshow(Map(all_acts1[1:]).cpu().data.numpy(),origin='lower')\n",
    "plt.colorbar()\n",
    "plt.clim(0.3,1)"
   ]
  },
  {
   "cell_type": "code",
   "execution_count": null,
   "metadata": {
    "id": "yZvtumWFsz3I"
   },
   "outputs": [],
   "source": [
    "#all ones target\n",
    "mapTarget = torch.ones(len(all_acts1),len(all_acts1))\n",
    "\n",
    "train_loader1 = torch.utils.data.DataLoader(train_data1,\n",
    "                                             batch_size=1000, \n",
    "                                             shuffle=True)\n",
    "model = copy.deepcopy(modelsA[0])\n",
    "optimizer = torch.optim.Adam(model.parameters(),lr=1e-3)\n",
    "for epoch in range(2):\n",
    "  trainMap(model, device, train_loader1, optimizer, epoch, mapTarget,lam=2.0)\n",
    "\n",
    "test(model, device, val_loader2)"
   ]
  },
  {
   "cell_type": "code",
   "execution_count": null,
   "metadata": {
    "id": "3nFX92YOtAQt"
   },
   "outputs": [],
   "source": [
    "all_acts1, _ = model(data,all_act=True)\n",
    "for i in range(len(all_acts1)):\n",
    "  all_acts1[i] = all_acts1[i].cuda()\n",
    "plt.imshow(Map(all_acts1[1:]).cpu().data.numpy(),origin='lower')\n",
    "plt.colorbar()\n",
    "plt.clim(0.3,1)"
   ]
  },
  {
   "cell_type": "markdown",
   "metadata": {
    "id": "LDMGK1QjGI4d"
   },
   "source": []
  },
  {
   "cell_type": "code",
   "execution_count": null,
   "metadata": {
    "id": "JioVItxxF_NJ"
   },
   "outputs": [],
   "source": [
    "all_acts1,_ = modelsA[0].forward(data,all_act=True)\n",
    "mapTarget = Map(all_acts1).cpu().data.numpy()#torch.zeros(len(all_acts1),len(all_acts1))\n",
    "mapTarget[7,8]=0\n",
    "mapTarget[8,7]=0\n",
    "plt.imshow(mapTarget[1:,1:],origin='lower')\n",
    "plt.colorbar()\n",
    "plt.clim(0.3,1)"
   ]
  },
  {
   "cell_type": "code",
   "execution_count": null,
   "metadata": {
    "id": "51tOggLXGBer"
   },
   "outputs": [],
   "source": [
    "train_loader1 = torch.utils.data.DataLoader(train_data1,\n",
    "                                             batch_size=1000, \n",
    "                                             shuffle=True)\n",
    "model = copy.deepcopy(modelsA[0])\n",
    "optimizer = torch.optim.Adam(model.parameters(),lr=1e-3)\n",
    "for epoch in range(5):\n",
    "  trainMap(model, device, train_loader1, optimizer, epoch, mapTarget)\n",
    "\n",
    "test(model, device, val_loader2)"
   ]
  }
 ],
 "metadata": {
  "accelerator": "GPU",
  "colab": {
   "collapsed_sections": [],
   "name": "Basic_CKA_ForSharing.ipynb",
   "provenance": []
  },
  "kernelspec": {
   "display_name": "Python 3 (main_env)",
   "language": "python",
   "name": "main_env"
  },
  "language_info": {
   "codemirror_mode": {
    "name": "ipython",
    "version": 3
   },
   "file_extension": ".py",
   "mimetype": "text/x-python",
   "name": "python",
   "nbconvert_exporter": "python",
   "pygments_lexer": "ipython3",
   "version": "3.7.4"
  },
  "widgets": {
   "application/vnd.jupyter.widget-state+json": {
    "522e0f024813495bb45905626fdccd14": {
     "model_module": "@jupyter-widgets/controls",
     "model_module_version": "1.5.0",
     "model_name": "HBoxModel",
     "state": {
      "_dom_classes": [],
      "_model_module": "@jupyter-widgets/controls",
      "_model_module_version": "1.5.0",
      "_model_name": "HBoxModel",
      "_view_count": null,
      "_view_module": "@jupyter-widgets/controls",
      "_view_module_version": "1.5.0",
      "_view_name": "HBoxView",
      "box_style": "",
      "children": [
       "IPY_MODEL_8de220001a4c42e6b2bf369d63e17658",
       "IPY_MODEL_9a5b5204bd3847d485f8a139949a79f4",
       "IPY_MODEL_b0283df5d40143789293e11c9428d543"
      ],
      "layout": "IPY_MODEL_916a6726fe5b4b8a949d1d6b1d4bfec1"
     }
    },
    "6d746b9790c744ac91ff6c7cc852f9f7": {
     "model_module": "@jupyter-widgets/base",
     "model_module_version": "1.2.0",
     "model_name": "LayoutModel",
     "state": {
      "_model_module": "@jupyter-widgets/base",
      "_model_module_version": "1.2.0",
      "_model_name": "LayoutModel",
      "_view_count": null,
      "_view_module": "@jupyter-widgets/base",
      "_view_module_version": "1.2.0",
      "_view_name": "LayoutView",
      "align_content": null,
      "align_items": null,
      "align_self": null,
      "border": null,
      "bottom": null,
      "display": null,
      "flex": null,
      "flex_flow": null,
      "grid_area": null,
      "grid_auto_columns": null,
      "grid_auto_flow": null,
      "grid_auto_rows": null,
      "grid_column": null,
      "grid_gap": null,
      "grid_row": null,
      "grid_template_areas": null,
      "grid_template_columns": null,
      "grid_template_rows": null,
      "height": null,
      "justify_content": null,
      "justify_items": null,
      "left": null,
      "margin": null,
      "max_height": null,
      "max_width": null,
      "min_height": null,
      "min_width": null,
      "object_fit": null,
      "object_position": null,
      "order": null,
      "overflow": null,
      "overflow_x": null,
      "overflow_y": null,
      "padding": null,
      "right": null,
      "top": null,
      "visibility": null,
      "width": null
     }
    },
    "70d14a62a0e94362bea840e44b5719e3": {
     "model_module": "@jupyter-widgets/base",
     "model_module_version": "1.2.0",
     "model_name": "LayoutModel",
     "state": {
      "_model_module": "@jupyter-widgets/base",
      "_model_module_version": "1.2.0",
      "_model_name": "LayoutModel",
      "_view_count": null,
      "_view_module": "@jupyter-widgets/base",
      "_view_module_version": "1.2.0",
      "_view_name": "LayoutView",
      "align_content": null,
      "align_items": null,
      "align_self": null,
      "border": null,
      "bottom": null,
      "display": null,
      "flex": null,
      "flex_flow": null,
      "grid_area": null,
      "grid_auto_columns": null,
      "grid_auto_flow": null,
      "grid_auto_rows": null,
      "grid_column": null,
      "grid_gap": null,
      "grid_row": null,
      "grid_template_areas": null,
      "grid_template_columns": null,
      "grid_template_rows": null,
      "height": null,
      "justify_content": null,
      "justify_items": null,
      "left": null,
      "margin": null,
      "max_height": null,
      "max_width": null,
      "min_height": null,
      "min_width": null,
      "object_fit": null,
      "object_position": null,
      "order": null,
      "overflow": null,
      "overflow_x": null,
      "overflow_y": null,
      "padding": null,
      "right": null,
      "top": null,
      "visibility": null,
      "width": null
     }
    },
    "890787b726f4485199dcb2a059ef92a3": {
     "model_module": "@jupyter-widgets/controls",
     "model_module_version": "1.5.0",
     "model_name": "ProgressStyleModel",
     "state": {
      "_model_module": "@jupyter-widgets/controls",
      "_model_module_version": "1.5.0",
      "_model_name": "ProgressStyleModel",
      "_view_count": null,
      "_view_module": "@jupyter-widgets/base",
      "_view_module_version": "1.2.0",
      "_view_name": "StyleView",
      "bar_color": null,
      "description_width": ""
     }
    },
    "8de220001a4c42e6b2bf369d63e17658": {
     "model_module": "@jupyter-widgets/controls",
     "model_module_version": "1.5.0",
     "model_name": "HTMLModel",
     "state": {
      "_dom_classes": [],
      "_model_module": "@jupyter-widgets/controls",
      "_model_module_version": "1.5.0",
      "_model_name": "HTMLModel",
      "_view_count": null,
      "_view_module": "@jupyter-widgets/controls",
      "_view_module_version": "1.5.0",
      "_view_name": "HTMLView",
      "description": "",
      "description_tooltip": null,
      "layout": "IPY_MODEL_6d746b9790c744ac91ff6c7cc852f9f7",
      "placeholder": "​",
      "style": "IPY_MODEL_ad439d60a52447469bcdce66a8e3c0bd",
      "value": ""
     }
    },
    "8ec5fa1d3675438ba3e5097f6f605325": {
     "model_module": "@jupyter-widgets/controls",
     "model_module_version": "1.5.0",
     "model_name": "DescriptionStyleModel",
     "state": {
      "_model_module": "@jupyter-widgets/controls",
      "_model_module_version": "1.5.0",
      "_model_name": "DescriptionStyleModel",
      "_view_count": null,
      "_view_module": "@jupyter-widgets/base",
      "_view_module_version": "1.2.0",
      "_view_name": "StyleView",
      "description_width": ""
     }
    },
    "916a6726fe5b4b8a949d1d6b1d4bfec1": {
     "model_module": "@jupyter-widgets/base",
     "model_module_version": "1.2.0",
     "model_name": "LayoutModel",
     "state": {
      "_model_module": "@jupyter-widgets/base",
      "_model_module_version": "1.2.0",
      "_model_name": "LayoutModel",
      "_view_count": null,
      "_view_module": "@jupyter-widgets/base",
      "_view_module_version": "1.2.0",
      "_view_name": "LayoutView",
      "align_content": null,
      "align_items": null,
      "align_self": null,
      "border": null,
      "bottom": null,
      "display": null,
      "flex": null,
      "flex_flow": null,
      "grid_area": null,
      "grid_auto_columns": null,
      "grid_auto_flow": null,
      "grid_auto_rows": null,
      "grid_column": null,
      "grid_gap": null,
      "grid_row": null,
      "grid_template_areas": null,
      "grid_template_columns": null,
      "grid_template_rows": null,
      "height": null,
      "justify_content": null,
      "justify_items": null,
      "left": null,
      "margin": null,
      "max_height": null,
      "max_width": null,
      "min_height": null,
      "min_width": null,
      "object_fit": null,
      "object_position": null,
      "order": null,
      "overflow": null,
      "overflow_x": null,
      "overflow_y": null,
      "padding": null,
      "right": null,
      "top": null,
      "visibility": null,
      "width": null
     }
    },
    "9a5b5204bd3847d485f8a139949a79f4": {
     "model_module": "@jupyter-widgets/controls",
     "model_module_version": "1.5.0",
     "model_name": "FloatProgressModel",
     "state": {
      "_dom_classes": [],
      "_model_module": "@jupyter-widgets/controls",
      "_model_module_version": "1.5.0",
      "_model_name": "FloatProgressModel",
      "_view_count": null,
      "_view_module": "@jupyter-widgets/controls",
      "_view_module_version": "1.5.0",
      "_view_name": "ProgressView",
      "bar_style": "success",
      "description": "",
      "description_tooltip": null,
      "layout": "IPY_MODEL_e34af8bd1fe3408cbd99341d4271f845",
      "max": 170498071,
      "min": 0,
      "orientation": "horizontal",
      "style": "IPY_MODEL_890787b726f4485199dcb2a059ef92a3",
      "value": 170498071
     }
    },
    "ad439d60a52447469bcdce66a8e3c0bd": {
     "model_module": "@jupyter-widgets/controls",
     "model_module_version": "1.5.0",
     "model_name": "DescriptionStyleModel",
     "state": {
      "_model_module": "@jupyter-widgets/controls",
      "_model_module_version": "1.5.0",
      "_model_name": "DescriptionStyleModel",
      "_view_count": null,
      "_view_module": "@jupyter-widgets/base",
      "_view_module_version": "1.2.0",
      "_view_name": "StyleView",
      "description_width": ""
     }
    },
    "b0283df5d40143789293e11c9428d543": {
     "model_module": "@jupyter-widgets/controls",
     "model_module_version": "1.5.0",
     "model_name": "HTMLModel",
     "state": {
      "_dom_classes": [],
      "_model_module": "@jupyter-widgets/controls",
      "_model_module_version": "1.5.0",
      "_model_name": "HTMLModel",
      "_view_count": null,
      "_view_module": "@jupyter-widgets/controls",
      "_view_module_version": "1.5.0",
      "_view_name": "HTMLView",
      "description": "",
      "description_tooltip": null,
      "layout": "IPY_MODEL_70d14a62a0e94362bea840e44b5719e3",
      "placeholder": "​",
      "style": "IPY_MODEL_8ec5fa1d3675438ba3e5097f6f605325",
      "value": " 170499072/? [00:05&lt;00:00, 32259211.76it/s]"
     }
    },
    "e34af8bd1fe3408cbd99341d4271f845": {
     "model_module": "@jupyter-widgets/base",
     "model_module_version": "1.2.0",
     "model_name": "LayoutModel",
     "state": {
      "_model_module": "@jupyter-widgets/base",
      "_model_module_version": "1.2.0",
      "_model_name": "LayoutModel",
      "_view_count": null,
      "_view_module": "@jupyter-widgets/base",
      "_view_module_version": "1.2.0",
      "_view_name": "LayoutView",
      "align_content": null,
      "align_items": null,
      "align_self": null,
      "border": null,
      "bottom": null,
      "display": null,
      "flex": null,
      "flex_flow": null,
      "grid_area": null,
      "grid_auto_columns": null,
      "grid_auto_flow": null,
      "grid_auto_rows": null,
      "grid_column": null,
      "grid_gap": null,
      "grid_row": null,
      "grid_template_areas": null,
      "grid_template_columns": null,
      "grid_template_rows": null,
      "height": null,
      "justify_content": null,
      "justify_items": null,
      "left": null,
      "margin": null,
      "max_height": null,
      "max_width": null,
      "min_height": null,
      "min_width": null,
      "object_fit": null,
      "object_position": null,
      "order": null,
      "overflow": null,
      "overflow_x": null,
      "overflow_y": null,
      "padding": null,
      "right": null,
      "top": null,
      "visibility": null,
      "width": null
     }
    }
   }
  }
 },
 "nbformat": 4,
 "nbformat_minor": 4
}
