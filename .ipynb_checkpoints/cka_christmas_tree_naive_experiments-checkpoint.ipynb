{
 "cells": [
  {
   "cell_type": "markdown",
   "metadata": {},
   "source": [
    "# Imports"
   ]
  },
  {
   "cell_type": "code",
   "execution_count": 30,
   "metadata": {},
   "outputs": [],
   "source": [
    "import numpy as np\n",
    "from scipy.stats import special_ortho_group\n",
    "import matplotlib.pyplot as plt\n",
    "from mpl_toolkits.mplot3d import Axes3D\n",
    "import torch"
   ]
  },
  {
   "cell_type": "code",
   "execution_count": 2,
   "metadata": {},
   "outputs": [],
   "source": [
    "cuda = torch.device('cuda')"
   ]
  },
  {
   "cell_type": "markdown",
   "metadata": {},
   "source": [
    "# Functions"
   ]
  },
  {
   "cell_type": "code",
   "execution_count": 24,
   "metadata": {},
   "outputs": [],
   "source": [
    "def sample_cube(dim, num_points, seed=None):\n",
    "    if seed: np.random.seed(seed)\n",
    "    return np.random.default_rng().uniform(size=(num_points, dim))-0.5\n",
    "\n",
    "def add_dim_cube(points, dim, seed=None):\n",
    "    if seed: np.random.seed(seed)\n",
    "    return np.concatenate([points,np.random.default_rng().uniform(size=(points.shape[0],dim))], axis=1)\n",
    "\n",
    "def sample_cubes_on_line(dim, num_squares, pts_per_square, seed=None):\n",
    "    if seed: np.random.seed(seed)\n",
    "    points = sample_cube(dim, pts_per_square)\n",
    "    for square in range(1, num_squares):\n",
    "        points = np.concatenate([points, sample_cube(dim, pts_per_square)+2*np.array(np.concatenate([np.array([square]),np.zeros(dim-1)]))], axis=0)\n",
    "    return points\n",
    "\n",
    "def sample_cubes_on_line_perm(dim, num_squares, pts_per_square, seed=None):\n",
    "    if seed: np.random.seed(seed)\n",
    "    points = [sample_cube(dim, pts_per_square)]\n",
    "    for square in range(1, num_squares):\n",
    "        points.append(sample_cube(dim, pts_per_square)+2*np.array(np.concatenate([np.array([square]),np.zeros(dim-1)])))\n",
    "    perm = np.random.permutation(len(points))\n",
    "    points = [points[i] for i in perm]\n",
    "    return np.concatenate(points, axis=0)\n",
    "\n",
    "# SAMPLING BALLS FROM HIGHER DIMENSIONS WILL TAKE A LONG TIME SINCE THE CONDITION THAT POINTS FROM THE CUBE ARE INSIDE OF THE RADIUS 1 BALL WILL BE LESS AND LESS PROBABLE\n",
    "def sample_ball(dim, num_points, seed=None):\n",
    "    # changed from previous version because incorrect\n",
    "    if seed: np.random.seed(seed)\n",
    "    points = []\n",
    "    while len(points) < num_points:\n",
    "        point = np.random.default_rng().uniform(size=(dim))*2-1\n",
    "        norm = np.linalg.norm(point)\n",
    "        if norm <= 1: points.append(point/2)\n",
    "    return np.array(points)\n",
    "\n",
    "def sample_balls_on_line(dim, num_squares, pts_per_square, seed=None):\n",
    "    if seed: np.random.seed(seed)\n",
    "    points = sample_ball(dim, pts_per_square)\n",
    "    for square in range(1, num_squares):\n",
    "        points = np.concatenate([points, sample_ball(dim, pts_per_square)+2*np.array(np.concatenate([np.array([square]),np.zeros(dim-1)]))], axis=0)\n",
    "    return points\n",
    "\n",
    "def sample_balls_clusters(num_clusters, dim, num_points, seed=None):\n",
    "    # num_points must be equal to 0 modulo num_clusters\n",
    "    if seed: np.random.seed(seed)\n",
    "    pts_per_cluster = int(num_points/num_clusters)\n",
    "    clusters = np.zeros((num_clusters,pts_per_cluster,dim))\n",
    "    \n",
    "    centers = sample_ball(dim, num_clusters)*10\n",
    "    \n",
    "    points = sample_ball(dim, pts_per_cluster)+centers[0]\n",
    "    \n",
    "    for i in range(1,num_clusters):\n",
    "        points = np.concatenate([points, sample_ball(dim, pts_per_cluster)+centers[i]], axis=0)\n",
    "    return points\n",
    "\n",
    "def sample_cubes_clusters(num_clusters, dim, num_points, seed=None):\n",
    "    # num_points must be equal to 0 modulo num_clusters\n",
    "    if seed: np.random.seed(seed)\n",
    "    pts_per_cluster = int(num_points/num_clusters)\n",
    "    clusters = np.zeros((num_clusters,pts_per_cluster,dim))\n",
    "    \n",
    "    centers = sample_cube(dim, num_clusters)*10\n",
    "    \n",
    "    points = sample_cube(dim, pts_per_cluster)+centers[0]\n",
    "    \n",
    "    for i in range(1,num_clusters):\n",
    "        points = np.concatenate([points, sample_cube(dim, pts_per_cluster)+centers[i]], axis=0)\n",
    "    return points   \n",
    "\n",
    "def embed_high_d_gpu_v1(embed_dim, points, rotation_seed = None):\n",
    "    if rotation_seed: np.random.seed(rotation_seed)\n",
    "        \n",
    "    rotation_matrix = torch.tensor(special_ortho_group.rvs(embed_dim), dtype=torch.float, device=cuda)\n",
    "    points = torch.tensor(np.concatenate([points, np.zeros([points.shape[0],embed_dim-points.shape[1]])],axis=1), dtype=torch.float, device=cuda)\n",
    "    \n",
    "    return torch.matmul(points, rotation_matrix)\n",
    "\n",
    "def embed_high_d_cpu(embed_dim, points, rotation_dim = 100, rotation_seed = None):\n",
    "    if rotation_seed: np.random.seed(rotation_seed)\n",
    "        \n",
    "    rotation_matrix = special_ortho_group.rvs(rotation_dim)\n",
    "    points = np.concatenate([points, np.zeros([points.shape[0],rotation_dim-points.shape[1]])],axis=1)\n",
    "    \n",
    "    np.matmul(points, rotation_matrix)\n",
    "    \n",
    "    points = np.concatenate([points, np.zeros([points.shape[0],embed_dim-points.shape[1]])],axis=1)\n",
    "    permutation = np.random.permutation(embed_dim)\n",
    "    points = points[:,permutation]\n",
    "    \n",
    "    return points"
   ]
  },
  {
   "cell_type": "markdown",
   "metadata": {},
   "source": [
    "# CKA functions from example notebook"
   ]
  },
  {
   "cell_type": "code",
   "execution_count": 4,
   "metadata": {},
   "outputs": [],
   "source": [
    "# FUNCTIONS IMPORTED FROM EXAMPLE NOTEBOOK\n",
    "\n",
    "import numpy as np\n",
    "\n",
    "def gram_linear(x):\n",
    "    \"\"\"Compute Gram (kernel) matrix for a linear kernel.\n",
    "\n",
    "  Args:\n",
    "    x: A num_examples x num_features matrix of features.\n",
    "\n",
    "  Returns:\n",
    "    A num_examples x num_examples Gram matrix of examples.\n",
    "    \"\"\"\n",
    "    return x.dot(x.T)\n",
    "\n",
    "\n",
    "def gram_rbf(x, threshold=1.0):\n",
    "    \"\"\"Compute Gram (kernel) matrix for an RBF kernel.\n",
    "\n",
    "  Args:\n",
    "    x: A num_examples x num_features matrix of features.\n",
    "    threshold: Fraction of median Euclidean distance to use as RBF kernel\n",
    "      bandwidth. (This is the heuristic we use in the paper. There are other\n",
    "      possible ways to set the bandwidth; we didn't try them.)\n",
    "\n",
    "  Returns:\n",
    "    A num_examples x num_examples Gram matrix of examples.\n",
    "  \"\"\"\n",
    "    dot_products = x.dot(x.T)\n",
    "    sq_norms = np.diag(dot_products)\n",
    "    sq_distances = -2 * dot_products + sq_norms[:, None] + sq_norms[None, :]\n",
    "    sq_median_distance = np.median(sq_distances)\n",
    "    return np.exp(-sq_distances / (2 * threshold ** 2 * sq_median_distance))\n",
    "\n",
    "\n",
    "def center_gram(gram, unbiased=False):\n",
    "    \"\"\"Center a symmetric Gram matrix.\n",
    "\n",
    "  This is equvialent to centering the (possibly infinite-dimensional) features\n",
    "  induced by the kernel before computing the Gram matrix.\n",
    "\n",
    "  Args:\n",
    "    gram: A num_examples x num_examples symmetric matrix.\n",
    "    unbiased: Whether to adjust the Gram matrix in order to compute an unbiased\n",
    "      estimate of HSIC. Note that this estimator may be negative.\n",
    "\n",
    "  Returns:\n",
    "    A symmetric matrix with centered columns and rows.\n",
    "  \"\"\"\n",
    "    if not np.allclose(gram, gram.T):\n",
    "        raise ValueError('Input must be a symmetric matrix.')\n",
    "    gram = gram.copy()\n",
    "\n",
    "    if unbiased:\n",
    "    # This formulation of the U-statistic, from Szekely, G. J., & Rizzo, M.\n",
    "    # L. (2014). Partial distance correlation with methods for dissimilarities.\n",
    "    # The Annals of Statistics, 42(6), 2382-2412, seems to be more numerically\n",
    "    # stable than the alternative from Song et al. (2007).\n",
    "        n = gram.shape[0]\n",
    "        np.fill_diagonal(gram, 0)\n",
    "        means = np.sum(gram, 0, dtype=np.float64) / (n - 2)\n",
    "        means -= np.sum(means) / (2 * (n - 1))\n",
    "        gram -= means[:, None]\n",
    "        gram -= means[None, :]\n",
    "        np.fill_diagonal(gram, 0)\n",
    "    else:\n",
    "        means = np.mean(gram, 0, dtype=np.float64)\n",
    "        means -= np.mean(means) / 2\n",
    "        gram -= means[:, None]\n",
    "        gram -= means[None, :]\n",
    "\n",
    "    return gram\n",
    "\n",
    "\n",
    "def cka(gram_x, gram_y, debiased=False):\n",
    "    \"\"\"Compute CKA.\n",
    "\n",
    "  Args:\n",
    "    gram_x: A num_examples x num_examples Gram matrix.\n",
    "    gram_y: A num_examples x num_examples Gram matrix.\n",
    "    debiased: Use unbiased estimator of HSIC. CKA may still be biased.\n",
    "\n",
    "  Returns:\n",
    "    The value of CKA between X and Y.\n",
    "  \"\"\"\n",
    "    gram_x = center_gram(gram_x, unbiased=debiased)\n",
    "    gram_y = center_gram(gram_y, unbiased=debiased)\n",
    "\n",
    "  # Note: To obtain HSIC, this should be divided by (n-1)**2 (biased variant) or\n",
    "  # n*(n-3) (unbiased variant), but this cancels for CKA.\n",
    "    scaled_hsic = gram_x.ravel().dot(gram_y.ravel())\n",
    "\n",
    "    normalization_x = np.linalg.norm(gram_x)\n",
    "    normalization_y = np.linalg.norm(gram_y)\n",
    "    return scaled_hsic / (normalization_x * normalization_y)\n",
    "\n",
    "\n",
    "def _debiased_dot_product_similarity_helper(\n",
    "    xty, sum_squared_rows_x, sum_squared_rows_y, squared_norm_x, squared_norm_y,\n",
    "    n):\n",
    "    \"\"\"Helper for computing debiased dot product similarity (i.e. linear HSIC).\"\"\"\n",
    "  # This formula can be derived by manipulating the unbiased estimator from\n",
    "  # Song et al. (2007).\n",
    "    return (\n",
    "      xty - n / (n - 2.) * sum_squared_rows_x.dot(sum_squared_rows_y)\n",
    "      + squared_norm_x * squared_norm_y / ((n - 1) * (n - 2)))\n",
    "\n",
    "\n",
    "def feature_space_linear_cka(features_x, features_y, debiased=False):\n",
    "    \"\"\"Compute CKA with a linear kernel, in feature space.\n",
    "\n",
    "  This is typically faster than computing the Gram matrix when there are fewer\n",
    "  features than examples.\n",
    "\n",
    "  Args:\n",
    "    features_x: A num_examples x num_features matrix of features.\n",
    "    features_y: A num_examples x num_features matrix of features.\n",
    "    debiased: Use unbiased estimator of dot product similarity. CKA may still be\n",
    "      biased. Note that this estimator may be negative.\n",
    "\n",
    "  Returns:\n",
    "    The value of CKA between X and Y.\n",
    "  \"\"\"\n",
    "    features_x = features_x - np.mean(features_x, 0, keepdims=True)\n",
    "    features_y = features_y - np.mean(features_y, 0, keepdims=True)\n",
    "\n",
    "    dot_product_similarity = np.linalg.norm(features_x.T.dot(features_y)) ** 2\n",
    "    normalization_x = np.linalg.norm(features_x.T.dot(features_x))\n",
    "    normalization_y = np.linalg.norm(features_y.T.dot(features_y))\n",
    "\n",
    "    if debiased:\n",
    "        n = features_x.shape[0]\n",
    "    # Equivalent to np.sum(features_x ** 2, 1) but avoids an intermediate array.\n",
    "        sum_squared_rows_x = np.einsum('ij,ij->i', features_x, features_x)\n",
    "        sum_squared_rows_y = np.einsum('ij,ij->i', features_y, features_y)\n",
    "        squared_norm_x = np.sum(sum_squared_rows_x)\n",
    "        squared_norm_y = np.sum(sum_squared_rows_y)\n",
    "\n",
    "        dot_product_similarity = _debiased_dot_product_similarity_helper(\n",
    "            dot_product_similarity, sum_squared_rows_x, sum_squared_rows_y,\n",
    "            squared_norm_x, squared_norm_y, n)\n",
    "        normalization_x = np.sqrt(_debiased_dot_product_similarity_helper(\n",
    "            normalization_x ** 2, sum_squared_rows_x, sum_squared_rows_x,\n",
    "            squared_norm_x, squared_norm_x, n))\n",
    "        normalization_y = np.sqrt(_debiased_dot_product_similarity_helper(\n",
    "            normalization_y ** 2, sum_squared_rows_y, sum_squared_rows_y,\n",
    "            squared_norm_y, squared_norm_y, n))\n",
    "\n",
    "    return dot_product_similarity / (normalization_x * normalization_y)"
   ]
  },
  {
   "cell_type": "markdown",
   "metadata": {},
   "source": [
    "# Tests"
   ]
  },
  {
   "cell_type": "code",
   "execution_count": 5,
   "metadata": {},
   "outputs": [
    {
     "data": {
      "text/plain": [
       "1.0"
      ]
     },
     "execution_count": 5,
     "metadata": {},
     "output_type": "execute_result"
    }
   ],
   "source": [
    "# Sanity check\n",
    "points = sample_cubes_clusters(10,10,1000)\n",
    "hd_points=embed_high_d_cpu(10000, points)\n",
    "\n",
    "feature_space_linear_cka(hd_points, hd_points)"
   ]
  },
  {
   "cell_type": "code",
   "execution_count": 6,
   "metadata": {},
   "outputs": [
    {
     "data": {
      "text/plain": [
       "0.004369307520564799"
      ]
     },
     "execution_count": 6,
     "metadata": {},
     "output_type": "execute_result"
    }
   ],
   "source": [
    "# Sanity check\n",
    "points = sample_balls_clusters(10,10,1000)\n",
    "hd_points=embed_high_d_cpu(10000, points)\n",
    "\n",
    "feature_space_linear_cka(hd_points, hd_points[np.random.permutation(1000),:])"
   ]
  },
  {
   "cell_type": "markdown",
   "metadata": {},
   "source": [
    "## Test 1"
   ]
  },
  {
   "cell_type": "code",
   "execution_count": 7,
   "metadata": {},
   "outputs": [
    {
     "name": "stdout",
     "output_type": "stream",
     "text": [
      "Dim 5; Num_balls 5;\n",
      "Dim 5; Num_balls 10;\n",
      "Dim 5; Num_balls 20;\n",
      "Dim 10; Num_balls 5;\n",
      "Dim 10; Num_balls 10;\n",
      "Dim 10; Num_balls 20;\n",
      "Dim 20; Num_balls 5;\n",
      "Dim 20; Num_balls 10;\n",
      "Dim 20; Num_balls 20;\n"
     ]
    }
   ],
   "source": [
    "# First real test\n",
    "num_pts = 10000\n",
    "embed_dim = 10000\n",
    "num_cubes = [5, 10, 20]\n",
    "num_dims = [5, 10, 20]\n",
    "\n",
    "all_points = []\n",
    "\n",
    "for dim_idx, dim in enumerate(num_dims):\n",
    "    for b_idx, cube_num in enumerate(num_cubes):\n",
    "        print('Dim {}; Num_cubes {};'.format(dim, cube_num))\n",
    "        points = sample_cubes_clusters(cube_num, dim, num_pts)\n",
    "        all_points.append({'dim':dim, 'num_cubes':cube_num, 'embeddings':embed_high_d_cpu(embed_dim, points)})"
   ]
  },
  {
   "cell_type": "code",
   "execution_count": 13,
   "metadata": {},
   "outputs": [
    {
     "name": "stdout",
     "output_type": "stream",
     "text": [
      "0 , 0\n",
      "0 , 1\n",
      "0 , 2\n",
      "0 , 3\n",
      "0 , 4\n",
      "0 , 5\n",
      "0 , 6\n",
      "0 , 7\n",
      "0 , 8\n",
      "1 , 0\n",
      "1 , 1\n",
      "1 , 2\n",
      "1 , 3\n",
      "1 , 4\n",
      "1 , 5\n",
      "1 , 6\n",
      "1 , 7\n",
      "2 , 0\n",
      "2 , 1\n",
      "2 , 2\n",
      "2 , 3\n",
      "2 , 4\n",
      "2 , 5\n",
      "2 , 6\n",
      "3 , 0\n",
      "3 , 1\n",
      "3 , 2\n",
      "3 , 3\n",
      "3 , 4\n",
      "3 , 5\n",
      "4 , 0\n",
      "4 , 1\n",
      "4 , 2\n",
      "4 , 3\n",
      "4 , 4\n",
      "5 , 0\n",
      "5 , 1\n",
      "5 , 2\n",
      "5 , 3\n",
      "6 , 0\n",
      "6 , 1\n",
      "6 , 2\n",
      "7 , 0\n",
      "7 , 1\n",
      "8 , 0\n"
     ]
    }
   ],
   "source": [
    "cka_values = np.zeros([len(all_points), len(all_points)])\n",
    "\n",
    "for idx_i, i in enumerate(all_points):\n",
    "    for idx_j, j in enumerate(all_points[idx_i:]):\n",
    "        print('{} , {}'.format(idx_i, idx_j))\n",
    "        cka_values[idx_i, idx_i+idx_j] = feature_space_linear_cka(i['embeddings'], j['embeddings'])"
   ]
  },
  {
   "cell_type": "code",
   "execution_count": 21,
   "metadata": {},
   "outputs": [
    {
     "data": {
      "image/png": "[encoded data removed]",
      "text/plain": [
       "<Figure size 288x288 with 2 Axes>"
      ]
     },
     "metadata": {
      "needs_background": "light"
     },
     "output_type": "display_data"
    }
   ],
   "source": [
    "plt.matshow(cka_values)\n",
    "plt.colorbar()\n",
    "plt.show()"
   ]
  },
  {
   "cell_type": "markdown",
   "metadata": {},
   "source": [
    "## Test 2 ([] to be changed to consider cubes and not balls)"
   ]
  },
  {
   "cell_type": "code",
   "execution_count": 5,
   "metadata": {},
   "outputs": [],
   "source": [
    "num_pts = 1000\n",
    "embed_dim = 10000\n",
    "num_balls = [2, 5, 10, 20]\n",
    "num_dims = [2, 5, 10, 20]\n",
    "rotation_seeds_per_config = 3\n",
    "\n",
    "all_points = []\n",
    "\n",
    "for dim_idx, dim in enumerate(num_dims):\n",
    "    for b_idx, ball_num in enumerate(num_balls):\n",
    "        for rot_seed in range(rotation_seeds_per_config):\n",
    "            points = sample_balls_clusters(ball_num, dim, num_pts)\n",
    "            all_points.append({'dim':dim, 'num_balls':ball_num, 'rot_seed':rot_seed, 'embeddings':embed_high_d_cpu(embed_dim, points, rotation_seed=rot_seed)})"
   ]
  },
  {
   "cell_type": "code",
   "execution_count": null,
   "metadata": {},
   "outputs": [],
   "source": [
    "cka_values = np.zeros([len(all_points), len(all_points)])\n",
    "\n",
    "for idx_i, i in enumerate(all_points):\n",
    "    for idx_j, j in enumerate(all_points[idx_i:]):\n",
    "        cka_values[idx_i, idx_i+idx_j] = feature_space_linear_cka(i['embeddings'], j['embeddings'])"
   ]
  },
  {
   "cell_type": "code",
   "execution_count": null,
   "metadata": {},
   "outputs": [],
   "source": [
    "plt.matshow(cka_values)\n",
    "plt.colorbar()\n",
    "plt.show()"
   ]
  },
  {
   "cell_type": "markdown",
   "metadata": {},
   "source": [
    "# Post 12.11.2021 meet"
   ]
  },
  {
   "cell_type": "markdown",
   "metadata": {},
   "source": [
    "## Number of clusters varies experiment"
   ]
  },
  {
   "cell_type": "code",
   "execution_count": 5,
   "metadata": {},
   "outputs": [
    {
     "data": {
      "text/plain": [
       "<matplotlib.collections.PathCollection at 0x7f007a308c10>"
      ]
     },
     "execution_count": 5,
     "metadata": {},
     "output_type": "execute_result"
    },
    {
     "data": {
      "image/png": "[encoded data removed]",
      "text/plain": [
       "<Figure size 432x288 with 1 Axes>"
      ]
     },
     "metadata": {
      "needs_background": "light"
     },
     "output_type": "display_data"
    }
   ],
   "source": [
    "cubes = sample_cubes_on_line(2,10,100)\n",
    "plt.scatter(cubes[:,0], cubes[:,1])"
   ]
  },
  {
   "cell_type": "code",
   "execution_count": 6,
   "metadata": {},
   "outputs": [],
   "source": [
    "# def noncont_cluster_sep(points, sep_dist=0.5):\n",
    "#     for point in points:\n",
    "#         if point[1]>0:\n",
    "#             point[1]+=(sep_dist/2)\n",
    "#         else:\n",
    "#             point[1]-=(sep_dist/2)\n",
    "#     return points"
   ]
  },
  {
   "cell_type": "code",
   "execution_count": 7,
   "metadata": {},
   "outputs": [],
   "source": [
    "def noncont_cluster_sep(points, num_clusters = 2 , cluster_dist=0.5):\n",
    "    new_points = np.copy(points)\n",
    "    separators = np.linspace(0,1,num_clusters+1)-0.5\n",
    "    for point in new_points:\n",
    "        for cluster_idx in range(num_clusters):\n",
    "            if point[1]>= separators[cluster_idx] and point[1]< separators[cluster_idx+1]:\n",
    "                point[1]+= cluster_idx*cluster_dist\n",
    "    return new_points"
   ]
  },
  {
   "cell_type": "code",
   "execution_count": null,
   "metadata": {},
   "outputs": [],
   "source": []
  },
  {
   "cell_type": "code",
   "execution_count": 8,
   "metadata": {},
   "outputs": [
    {
     "data": {
      "text/plain": [
       "<matplotlib.collections.PathCollection at 0x7eff8eb80950>"
      ]
     },
     "execution_count": 8,
     "metadata": {},
     "output_type": "execute_result"
    },
    {
     "data": {
      "image/png": "[encoded data removed]",
      "text/plain": [
       "<Figure size 432x288 with 1 Axes>"
      ]
     },
     "metadata": {
      "needs_background": "light"
     },
     "output_type": "display_data"
    }
   ],
   "source": [
    "sep_cubes = noncont_cluster_sep(cubes)\n",
    "plt.scatter(sep_cubes[:,0], sep_cubes[:,1])"
   ]
  },
  {
   "cell_type": "code",
   "execution_count": 9,
   "metadata": {},
   "outputs": [
    {
     "data": {
      "text/plain": [
       "0.9999823381520612"
      ]
     },
     "execution_count": 9,
     "metadata": {},
     "output_type": "execute_result"
    }
   ],
   "source": [
    "# CKA between cubes and sep_cubes in 2D\n",
    "feature_space_linear_cka(cubes, sep_cubes)"
   ]
  },
  {
   "cell_type": "code",
   "execution_count": 10,
   "metadata": {},
   "outputs": [
    {
     "data": {
      "text/plain": [
       "0.9999823381520612"
      ]
     },
     "execution_count": 10,
     "metadata": {},
     "output_type": "execute_result"
    }
   ],
   "source": [
    "# CKA between cubes and sep_cubes in 1000D with same rotation\n",
    "hd_cubes = embed_high_d_cpu(1000, cubes, rotation_dim = 100, rotation_seed = 1)\n",
    "hd_sep_cubes = embed_high_d_cpu(1000, sep_cubes, rotation_dim = 100, rotation_seed = 1)\n",
    "\n",
    "feature_space_linear_cka(hd_cubes, hd_sep_cubes)"
   ]
  },
  {
   "cell_type": "code",
   "execution_count": 11,
   "metadata": {},
   "outputs": [
    {
     "data": {
      "text/plain": [
       "0.9999823381520612"
      ]
     },
     "execution_count": 11,
     "metadata": {},
     "output_type": "execute_result"
    }
   ],
   "source": [
    "# CKA between cubes and sep_cubes in 1000D with different rotation\n",
    "hd_cubes = embed_high_d_cpu(1000, cubes, rotation_dim = 100, rotation_seed = 1)\n",
    "hd_sep_cubes = embed_high_d_cpu(1000, sep_cubes, rotation_dim = 100, rotation_seed = 5)\n",
    "\n",
    "feature_space_linear_cka(hd_cubes, hd_sep_cubes)"
   ]
  },
  {
   "cell_type": "code",
   "execution_count": 29,
   "metadata": {},
   "outputs": [
    {
     "name": "stdout",
     "output_type": "stream",
     "text": [
      "CKA between points in 10D: 0.002524491529703329\n",
      "CKA between points in 1000D same rotation: 0.0025244915297033335\n",
      "CKA between points in 1000D different rotation: 0.002524491529703334\n",
      "CKA between points different rotation and dimensions: 0.0025244915297033335\n"
     ]
    },
    {
     "data": {
      "image/png": "[encoded data removed]",
      "text/plain": [
       "<Figure size 432x288 with 1 Axes>"
      ]
     },
     "metadata": {
      "needs_background": "light"
     },
     "output_type": "display_data"
    }
   ],
   "source": [
    "# Does this happen with different dimension cubes?\n",
    "# => \n",
    "# No matter how far appart the points are?\n",
    "# => \n",
    "# No matter the number of clusters?\n",
    "# => \n",
    "\n",
    "\n",
    "# No mat\n",
    "dim = 10\n",
    "\n",
    "d_cubes = sample_cubes_on_line(dim,10,500)\n",
    "\n",
    "sep_d_cubes = noncont_cluster_sep(d_cubes, num_clusters=5, cluster_dist=1000)\n",
    "plt.scatter(d_cubes[:,0], d_cubes[:,1])\n",
    "plt.scatter(sep_d_cubes[:,0], sep_d_cubes[:,1])\n",
    "\n",
    "print('CKA between points in {}D: {}'.format(dim,feature_space_linear_cka(d_cubes, sep_d_cubes)))\n",
    "\n",
    "hd_d_cubes = embed_high_d_cpu(1000, d_cubes, rotation_dim = 100, rotation_seed = 1)\n",
    "hd_sep_d_cubes = embed_high_d_cpu(1000, sep_d_cubes, rotation_dim = 100, rotation_seed = 1)\n",
    "print('CKA between points in 1000D same rotation: {}'.format(feature_space_linear_cka(hd_d_cubes, hd_sep_d_cubes)))\n",
    "\n",
    "hd_d_cubes = embed_high_d_cpu(1000, d_cubes, rotation_dim = 100, rotation_seed = 1)\n",
    "hd_sep_d_cubes = embed_high_d_cpu(1000, sep_d_cubes, rotation_dim = 100, rotation_seed = 5)\n",
    "print('CKA between points in 1000D different rotation: {}'.format(feature_space_linear_cka(hd_d_cubes, hd_sep_d_cubes)))\n",
    "\n",
    "hd_d_cubes = embed_high_d_cpu(1000, d_cubes, rotation_dim = 100, rotation_seed = 1)\n",
    "hd_sep_d_cubes = embed_high_d_cpu(4000, sep_d_cubes, rotation_dim = 100, rotation_seed = 5)\n",
    "print('CKA between points different rotation and dimensions: {}'.format(feature_space_linear_cka(hd_d_cubes, hd_sep_d_cubes)))"
   ]
  },
  {
   "cell_type": "markdown",
   "metadata": {},
   "source": [
    "#### Conclusions:\n",
    "CKA is invariant to changes in the dimensionality of the embedding space and to rotations (even if both are different across the 2 data sets)"
   ]
  },
  {
   "cell_type": "markdown",
   "metadata": {},
   "source": [
    "## Shape of cluster varies experiment"
   ]
  },
  {
   "cell_type": "code",
   "execution_count": 18,
   "metadata": {},
   "outputs": [
    {
     "data": {
      "text/plain": [
       "0.9964065389519474"
      ]
     },
     "execution_count": 18,
     "metadata": {},
     "output_type": "execute_result"
    },
    {
     "data": {
      "image/png": "[encoded data removed]",
      "text/plain": [
       "<Figure size 432x288 with 1 Axes>"
      ]
     },
     "metadata": {
      "needs_background": "light"
     },
     "output_type": "display_data"
    }
   ],
   "source": [
    "dim=5\n",
    "\n",
    "d_cubes = sample_cubes_on_line(dim,10,500, seed = 4)\n",
    "d_balls = sample_balls_on_line(dim,10,500, seed = 5)\n",
    "\n",
    "plt.scatter(d_cubes[:,0], d_cubes[:,1])\n",
    "plt.scatter(d_balls[:,0], d_balls[:,1])\n",
    "\n",
    "feature_space_linear_cka(d_cubes,d_balls)"
   ]
  },
  {
   "cell_type": "code",
   "execution_count": 14,
   "metadata": {},
   "outputs": [
    {
     "data": {
      "text/plain": [
       "0.9950633278372234"
      ]
     },
     "execution_count": 14,
     "metadata": {},
     "output_type": "execute_result"
    }
   ],
   "source": [
    "dim=5\n",
    "num_points = 1000\n",
    "\n",
    "d_cubes_1 = sample_cubes_on_line(dim,10, num_points, seed = 10)\n",
    "d_cubes_2 = sample_cubes_on_line(dim,10, num_points, seed = 6)\n",
    "\n",
    "feature_space_linear_cka(d_cubes_1,d_cubes_2)"
   ]
  },
  {
   "cell_type": "code",
   "execution_count": 31,
   "metadata": {},
   "outputs": [
    {
     "data": {
      "text/plain": [
       "0.019048985732142885"
      ]
     },
     "execution_count": 31,
     "metadata": {},
     "output_type": "execute_result"
    },
    {
     "data": {
      "image/png": "[encoded data removed]",
      "text/plain": [
       "<Figure size 432x288 with 1 Axes>"
      ]
     },
     "metadata": {
      "needs_background": "light"
     },
     "output_type": "display_data"
    }
   ],
   "source": [
    "dim=5\n",
    "\n",
    "d_cubes = sample_cubes_on_line_perm(dim,10,500, seed = 4)\n",
    "d_balls = sample_balls_on_line(dim,10,500, seed = 5)\n",
    "\n",
    "plt.scatter(d_cubes[:,0], d_cubes[:,1])\n",
    "plt.scatter(d_balls[:,0], d_balls[:,1])\n",
    "\n",
    "feature_space_linear_cka(d_cubes,d_balls)"
   ]
  },
  {
   "cell_type": "markdown",
   "metadata": {},
   "source": [
    "## Intrinsic dimensionality of the data varies"
   ]
  },
  {
   "cell_type": "code",
   "execution_count": 15,
   "metadata": {},
   "outputs": [],
   "source": [
    "num_points = 1000\n",
    "\n",
    "d2_cubes = sample_cubes_on_line(2, 10, num_points, seed = 10)\n",
    "cubes_list = [d2_cubes]\n",
    "for i in range(3,11):\n",
    "    cubes_list.append(add_dim_cube(cubes_list[-1], 1, seed=None))"
   ]
  },
  {
   "cell_type": "code",
   "execution_count": 16,
   "metadata": {},
   "outputs": [
    {
     "name": "stdout",
     "output_type": "stream",
     "text": [
      "min cka value:0.9999748220328842\n"
     ]
    }
   ],
   "source": [
    "cka_vals = np.zeros([9,9])\n",
    "\n",
    "for idx_i, data_i in enumerate(cubes_list):\n",
    "    for idx_j, data_j in enumerate(cubes_list):\n",
    "        cka_vals[idx_i, idx_j] = feature_space_linear_cka(data_i, data_j)\n",
    "\n",
    "print('min cka value:{}'.format(np.min(cka_vals)))"
   ]
  },
  {
   "cell_type": "code",
   "execution_count": 17,
   "metadata": {},
   "outputs": [
    {
     "data": {
      "image/png": "[encoded data removed]",
      "text/plain": [
       "<Figure size 288x288 with 2 Axes>"
      ]
     },
     "metadata": {
      "needs_background": "light"
     },
     "output_type": "display_data"
    }
   ],
   "source": [
    "plt.matshow(cka_vals, vmin=0.99999,vmax=1)\n",
    "plt.colorbar()\n",
    "plt.show()"
   ]
  },
  {
   "cell_type": "code",
   "execution_count": 22,
   "metadata": {},
   "outputs": [
    {
     "data": {
      "text/plain": [
       "[array([[ 1.59573937e+01,  9.04724108e-02, -1.46890867e-01,\n",
       "         -2.93951332e-02,  4.97828346e-01],\n",
       "        [ 1.62844494e+01,  7.41011007e-02,  4.31392139e-01,\n",
       "         -1.08651620e-01, -2.51402749e-01],\n",
       "        [ 1.64914288e+01, -2.01771321e-01, -3.84073373e-01,\n",
       "         -3.83368307e-01, -7.83521752e-04],\n",
       "        ...,\n",
       "        [ 1.64162031e+01,  3.59773579e-01,  3.46044260e-01,\n",
       "         -2.69665596e-01,  1.61303658e-01],\n",
       "        [ 1.60977042e+01,  1.26822787e-01,  9.93186087e-03,\n",
       "          1.58796163e-01, -1.40164993e-01],\n",
       "        [ 1.56335777e+01,  1.90620748e-01,  8.62398903e-02,\n",
       "         -2.27482609e-01, -3.15858514e-01]]),\n",
       " array([[ 4.3559638 ,  0.05270329,  0.4549434 ,  0.4903735 ,  0.32346164],\n",
       "        [ 3.5735505 ,  0.36202784, -0.22862407,  0.18351622, -0.01994102],\n",
       "        [ 4.06457894,  0.15784333, -0.46886755,  0.29964601, -0.2557305 ],\n",
       "        ...,\n",
       "        [ 3.73768356, -0.06790957,  0.45193992, -0.16959677, -0.14794647],\n",
       "        [ 4.20524567, -0.13852869,  0.37968028, -0.0205774 ,  0.35374507],\n",
       "        [ 4.06888729, -0.39898953,  0.0409523 , -0.27966367, -0.07182746]]),\n",
       " array([[10.10474844, -0.42561443,  0.32715952,  0.30177278, -0.15777188],\n",
       "        [10.10931888, -0.33182711, -0.18466352,  0.474144  , -0.02246639],\n",
       "        [ 9.61670671,  0.46638349,  0.01142253, -0.22998089, -0.48032253],\n",
       "        ...,\n",
       "        [ 9.50391444,  0.20623017,  0.19201325,  0.16925177,  0.25693614],\n",
       "        [10.03388395, -0.49459746, -0.33166748,  0.16528394,  0.2189726 ],\n",
       "        [ 9.56113627, -0.14760798,  0.07762728,  0.34443607,  0.27418607]]),\n",
       " array([[ 1.18157034e+01, -1.79276875e-01, -1.49838383e-01,\n",
       "          3.53108993e-01, -8.50382297e-02],\n",
       "        [ 1.18796569e+01,  2.45390971e-01, -3.42918565e-01,\n",
       "         -2.03177965e-01,  2.35373324e-01],\n",
       "        [ 1.15702973e+01, -3.50790186e-01,  2.44861979e-01,\n",
       "          1.07299541e-01,  4.79939392e-01],\n",
       "        ...,\n",
       "        [ 1.18189965e+01,  3.34521654e-01,  2.50265672e-01,\n",
       "         -1.11477386e-01,  4.23765953e-01],\n",
       "        [ 1.18935998e+01, -2.40334124e-01, -3.33176860e-01,\n",
       "         -1.31374156e-01, -3.60678517e-03],\n",
       "        [ 1.19083687e+01, -4.60453327e-01,  3.25985840e-01,\n",
       "          1.78733453e-02,  3.09192198e-01]]),\n",
       " array([[ 6.29678874e+00,  1.37369784e-01,  2.39374774e-01,\n",
       "         -3.12615910e-01,  1.75353639e-01],\n",
       "        [ 6.24020663e+00,  1.40570918e-02,  3.78397255e-01,\n",
       "          3.36998533e-01, -7.90821431e-02],\n",
       "        [ 6.28412153e+00, -2.03767298e-01,  3.04571617e-01,\n",
       "          3.25215583e-01, -4.98101247e-01],\n",
       "        ...,\n",
       "        [ 6.30212063e+00,  2.41552797e-01,  2.93399397e-01,\n",
       "         -1.25787256e-01,  2.20936711e-01],\n",
       "        [ 6.25502461e+00, -4.12993515e-01,  4.57195097e-01,\n",
       "          2.47266288e-01,  3.71302334e-03],\n",
       "        [ 5.93221542e+00, -2.51760796e-02, -1.66554819e-02,\n",
       "         -2.47719072e-01,  1.52272858e-01]]),\n",
       " array([[ 2.47005648,  0.19984234,  0.45528767, -0.19094664, -0.28108389],\n",
       "        [ 2.19289095,  0.07199605, -0.14034855, -0.37975959,  0.47992316],\n",
       "        [ 1.55857522, -0.46927596,  0.35557016, -0.39544857,  0.16618405],\n",
       "        ...,\n",
       "        [ 2.48165165,  0.30240021,  0.31162623,  0.09054204,  0.20290631],\n",
       "        [ 1.66993078,  0.12050596,  0.28299445,  0.4791307 ,  0.4446633 ],\n",
       "        [ 1.90565725, -0.30218579, -0.21181622, -0.19411611, -0.49171711]]),\n",
       " array([[-0.44532427,  0.01914269,  0.29298161, -0.07412971, -0.16242026],\n",
       "        [-0.36121381, -0.41402584, -0.19306212,  0.38954708, -0.46388006],\n",
       "        [-0.18820061,  0.34918406,  0.12778772,  0.09153701, -0.16061111],\n",
       "        ...,\n",
       "        [-0.41730874, -0.17439704, -0.1500819 , -0.3005568 ,  0.23129044],\n",
       "        [ 0.00685283, -0.14880422, -0.22231063,  0.36138469,  0.27892737],\n",
       "        [-0.09581036, -0.00287737, -0.23485073, -0.26572171,  0.25401367]]),\n",
       " array([[ 1.44964967e+01,  4.13380300e-01,  3.10966872e-01,\n",
       "         -4.70173828e-03, -1.26605573e-01],\n",
       "        [ 1.37796624e+01,  4.27526745e-02,  1.12912090e-01,\n",
       "         -3.28922964e-01, -3.36611435e-01],\n",
       "        [ 1.44814182e+01, -4.67359739e-01, -2.31309999e-01,\n",
       "         -2.49863734e-01,  2.18629473e-01],\n",
       "        ...,\n",
       "        [ 1.40286539e+01,  2.49867658e-01,  1.54440181e-01,\n",
       "          1.76987257e-01, -9.45641371e-02],\n",
       "        [ 1.38616138e+01, -2.21766062e-01, -4.35260171e-02,\n",
       "          4.88407709e-01, -3.29729963e-01],\n",
       "        [ 1.39431852e+01, -3.14895437e-01, -4.54789509e-01,\n",
       "          3.68504299e-01,  4.01592441e-01]]),\n",
       " array([[ 7.95112169,  0.28958361, -0.2474569 , -0.38296091, -0.34842692],\n",
       "        [ 7.82483115, -0.15709058, -0.1125951 , -0.45823211,  0.08079867],\n",
       "        [ 8.0867805 ,  0.4663708 , -0.07274431, -0.22781328, -0.16247858],\n",
       "        ...,\n",
       "        [ 7.7111613 , -0.39671506, -0.14586164,  0.05045807,  0.47929964],\n",
       "        [ 8.22985877,  0.16381424, -0.24696638,  0.13305638,  0.21914225],\n",
       "        [ 7.56800929, -0.46847797, -0.043614  ,  0.0688938 , -0.04517127]]),\n",
       " array([[ 1.83181203e+01, -4.04922935e-01, -3.93861469e-01,\n",
       "          8.17103699e-02,  3.47186048e-01],\n",
       "        [ 1.75226440e+01,  1.72175317e-01,  3.90839594e-01,\n",
       "         -4.28268753e-01, -4.18385594e-01],\n",
       "        [ 1.76677228e+01,  1.69426181e-02,  1.19696446e-01,\n",
       "          2.18726318e-01, -1.58403998e-01],\n",
       "        ...,\n",
       "        [ 1.75446433e+01, -1.27694543e-01, -3.32455925e-01,\n",
       "         -5.84883996e-02,  3.46449057e-02],\n",
       "        [ 1.76762244e+01, -1.65078886e-01,  2.57647325e-01,\n",
       "         -9.25124636e-02, -2.90151089e-01],\n",
       "        [ 1.81567059e+01, -2.91614472e-01, -1.89205295e-01,\n",
       "          1.41018086e-01, -7.59347651e-02]])]"
      ]
     },
     "execution_count": 22,
     "metadata": {},
     "output_type": "execute_result"
    }
   ],
   "source": [
    "sample_cubes_on_line_perm(5,10, 1000, seed = 10)"
   ]
  },
  {
   "cell_type": "code",
   "execution_count": 1,
   "metadata": {},
   "outputs": [
    {
     "ename": "ModuleNotFoundError",
     "evalue": "No module named 'torchvision'",
     "output_type": "error",
     "traceback": [
      "\u001b[0;31m---------------------------------------------------------------------------\u001b[0m",
      "\u001b[0;31mModuleNotFoundError\u001b[0m                       Traceback (most recent call last)",
      "\u001b[0;32m<ipython-input-1-6dd351122000>\u001b[0m in \u001b[0;36m<module>\u001b[0;34m\u001b[0m\n\u001b[0;32m----> 1\u001b[0;31m \u001b[0;32mimport\u001b[0m \u001b[0mtorchvision\u001b[0m\u001b[0;34m\u001b[0m\u001b[0;34m\u001b[0m\u001b[0m\n\u001b[0m",
      "\u001b[0;31mModuleNotFoundError\u001b[0m: No module named 'torchvision'"
     ]
    }
   ],
   "source": [
    "import torchvision"
   ]
  },
  {
   "cell_type": "code",
   "execution_count": 2,
   "metadata": {},
   "outputs": [
    {
     "name": "stdout",
     "output_type": "stream",
     "text": [
      "2\n",
      "3\n",
      "4\n",
      "5\n"
     ]
    }
   ],
   "source": [
    "a = 1\n",
    "while a < 5:\n",
    "    a = a+1\n",
    "    print(a)"
   ]
  },
  {
   "cell_type": "code",
   "execution_count": 4,
   "metadata": {},
   "outputs": [
    {
     "name": "stdout",
     "output_type": "stream",
     "text": [
      "0 5\n",
      "0 6\n",
      "0 7\n",
      "1 5\n",
      "1 6\n",
      "1 7\n",
      "2 5\n",
      "2 6\n",
      "2 7\n"
     ]
    },
    {
     "data": {
      "text/plain": [
       "[None, None, None, None, None, None, None, None, None]"
      ]
     },
     "execution_count": 4,
     "metadata": {},
     "output_type": "execute_result"
    }
   ],
   "source": [
    "[print(i,j) for i in range(3) for j in range(5,8)]"
   ]
  },
  {
   "cell_type": "code",
   "execution_count": 6,
   "metadata": {},
   "outputs": [
    {
     "data": {
      "text/plain": [
       "<matplotlib.image.AxesImage at 0x7fce19c78ad0>"
      ]
     },
     "execution_count": 6,
     "metadata": {},
     "output_type": "execute_result"
    }
   ],
   "source": [
    "import numpy as np\n",
    "mat = np.array([[1,2,3],[4,5,6]])\n",
    "from matplotlib import pyplot as plt\n",
    "plt.matshow(mat)"
   ]
  },
  {
   "cell_type": "code",
   "execution_count": 7,
   "metadata": {},
   "outputs": [
    {
     "data": {
      "text/plain": [
       "<matplotlib.image.AxesImage at 0x7fce159208d0>"
      ]
     },
     "execution_count": 7,
     "metadata": {},
     "output_type": "execute_result"
    },
    {
     "data": {
      "image/png": "[encoded data removed]",
      "text/plain": [
       "<Figure size 432x288 with 1 Axes>"
      ]
     },
     "metadata": {
      "needs_background": "light"
     },
     "output_type": "display_data"
    }
   ],
   "source": [
    "plt.matshow(mat)"
   ]
  },
  {
   "cell_type": "code",
   "execution_count": null,
   "metadata": {},
   "outputs": [],
   "source": []
  }
 ],
 "metadata": {
  "kernelspec": {
   "display_name": "Python 3",
   "language": "python",
   "name": "python3"
  },
  "language_info": {
   "codemirror_mode": {
    "name": "ipython",
    "version": 3
   },
   "file_extension": ".py",
   "mimetype": "text/x-python",
   "name": "python",
   "nbconvert_exporter": "python",
   "pygments_lexer": "ipython3",
   "version": "3.7.4"
  }
 },
 "nbformat": 4,
 "nbformat_minor": 4
}
