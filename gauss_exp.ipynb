{
 "cells": [
  {
   "cell_type": "code",
   "execution_count": 1,
   "metadata": {},
   "outputs": [],
   "source": [
    "import numpy as np\n",
    "import torch\n",
    "from utils import LinCKA\n",
    "import matplotlib.pyplot as plt\n",
    "from scipy.stats import special_ortho_group\n",
    "import sys"
   ]
  },
  {
   "cell_type": "markdown",
   "metadata": {},
   "source": [
    "# First Try"
   ]
  },
  {
   "cell_type": "code",
   "execution_count": 6,
   "metadata": {},
   "outputs": [],
   "source": [
    "# Parameters\n",
    "mean1 = 0\n",
    "mean2 = 0\n",
    "var1 = 1\n",
    "var2 = 1\n",
    "\n",
    "num_dim = 100\n",
    "num_pts = 10000 # per mixture component\n",
    "\n",
    "seed = 0\n",
    "np.random.seed(seed)\n",
    "d = np.random.normal(0,1,[num_dim])\n",
    "d /= np.linalg.norm(d)\n",
    "c = 10000"
   ]
  },
  {
   "cell_type": "code",
   "execution_count": 7,
   "metadata": {},
   "outputs": [],
   "source": [
    "cuda = torch.device('cuda')\n",
    "\n",
    "X = np.concatenate( [np.random.normal(mean1, var1, [num_pts, num_dim]), np.random.normal(mean2, var2, [num_pts, num_dim])], axis = 0)\n",
    "# Y = torch.Tensor(X + np.concatenate([np.zeros([num_pts, num_dim]), c*np.matmul(np.ones([num_pts,1]), d.reshape([1,num_dim]))], axis = 0)).to(cuda)\n",
    "Y = torch.Tensor(X + c*np.matmul(np.ones([num_pts*2,1]), d.reshape([1,num_dim]))).to(cuda)\n",
    "\n",
    "X = torch.Tensor(X).to(cuda)"
   ]
  },
  {
   "cell_type": "code",
   "execution_count": 8,
   "metadata": {},
   "outputs": [
    {
     "data": {
      "text/plain": [
       "0.0020316550508141518"
      ]
     },
     "execution_count": 8,
     "metadata": {},
     "output_type": "execute_result"
    }
   ],
   "source": [
    "CKA = LinCKA()\n",
    "CKA(X,Y)[0].item()"
   ]
  },
  {
   "cell_type": "markdown",
   "metadata": {},
   "source": [
    "# Automatic + tests"
   ]
  },
  {
   "cell_type": "code",
   "execution_count": 3,
   "metadata": {},
   "outputs": [],
   "source": [
    "cuda = torch.device('cuda')\n",
    "\n",
    "def get_cka_test(mean1 = 0,\n",
    "                 mean2 = 0,\n",
    "                 var1 = 1,\n",
    "                 var2 = 1,\n",
    "                 num_dims = 100,\n",
    "                 num_pts = 1000,\n",
    "                 seed = 0,\n",
    "                 c = 1000):\n",
    "    np.random.seed(seed)\n",
    "    \n",
    "    d = np.random.normal(0,1,[num_dims])\n",
    "    d /= np.linalg.norm(d)\n",
    "    \n",
    "    X = np.concatenate( [np.random.normal(mean1, var1, [num_pts, num_dims]), np.random.normal(mean2, var2, [num_pts, num_dims])], axis = 0)\n",
    "    Y = torch.Tensor(X + np.concatenate([np.zeros([num_pts, num_dims]), c*np.matmul(np.ones([num_pts,1]), d.reshape([1,num_dims]))], axis = 0)).to(cuda)\n",
    "\n",
    "    X = torch.Tensor(X).to(cuda)\n",
    "    CKA = LinCKA()\n",
    "    return(CKA(X,Y)[0].item())"
   ]
  },
  {
   "cell_type": "markdown",
   "metadata": {},
   "source": [
    "# First round of experiments"
   ]
  },
  {
   "cell_type": "markdown",
   "metadata": {},
   "source": [
    "### Generate and save the data"
   ]
  },
  {
   "cell_type": "code",
   "execution_count": null,
   "metadata": {},
   "outputs": [],
   "source": [
    "num_pts_list = [100, 500, 1000, 5000, 10000] #20000 points makes it crash\n",
    "num_dims_list = [3, 5, 10, 50, 100, 200, 300, 500, 1000]\n",
    "c_list = [1, 5, 10, 50, 100, 500, 1000, 5000]\n",
    "\n",
    "\n",
    "data = np.zeros([len(num_pts_list), len(num_dims_list), len(c_list)])\n",
    "for i1, num_pts in enumerate(num_pts_list):\n",
    "    for i2, num_dims in enumerate(num_dims_list):\n",
    "        for i3, c in enumerate(c_list):\n",
    "            print('Num pts {}; num dims {}; c {}'.format(num_pts, num_dims, c))\n",
    "            data[i1, i2, i3] = get_cka_test(num_dims = num_dims, num_pts = num_pts, c = c)\n",
    "            \n",
    "np.save('data/gaussian_exp.npy', data)"
   ]
  },
  {
   "cell_type": "markdown",
   "metadata": {},
   "source": [
    "### Analyze results"
   ]
  },
  {
   "cell_type": "code",
   "execution_count": 13,
   "metadata": {},
   "outputs": [
    {
     "data": {
      "text/plain": [
       "Text(0.5, 1.0, 'CKA according to \"c\", the distance between the first and\\nsecond Gaussians in the second set of representations')"
      ]
     },
     "execution_count": 13,
     "metadata": {},
     "output_type": "execute_result"
    },
    {
     "data": {
      "image/png": "[encoded data removed]",
      "text/plain": [
       "<Figure size 432x288 with 1 Axes>"
      ]
     },
     "metadata": {
      "needs_background": "light"
     },
     "output_type": "display_data"
    }
   ],
   "source": [
    "for i in range(len(num_pts_list)):\n",
    "    for j in range(len(num_dims_list)):\n",
    "        plt.plot(c_list, data[i,j,:])\n",
    "        \n",
    "plt.title('CKA according to \"c\", the distance between the first and\\nsecond Gaussians in the second set of representations')"
   ]
  },
  {
   "cell_type": "markdown",
   "metadata": {},
   "source": [
    "As expected CKA decreases pretty quickly as the distance between the two Gaussians in the second set of representations increases. The rate at which CKA drops is pretty dramatic, reaching sub 0.2 value almost from the start."
   ]
  },
  {
   "cell_type": "code",
   "execution_count": 43,
   "metadata": {},
   "outputs": [
    {
     "data": {
      "text/plain": [
       "Text(0.5, 1.0, 'CKA according to the number of dimensions')"
      ]
     },
     "execution_count": 43,
     "metadata": {},
     "output_type": "execute_result"
    },
    {
     "data": {
      "image/png": "[encoded data removed]",
      "text/plain": [
       "<Figure size 432x288 with 1 Axes>"
      ]
     },
     "metadata": {
      "needs_background": "light"
     },
     "output_type": "display_data"
    }
   ],
   "source": [
    "for i in range(len(num_pts_list)):\n",
    "    for j in range(len(c_list)):\n",
    "        if j == 0: color = 'r'\n",
    "        elif j == 1: color = 'g'\n",
    "        elif j == 2: color = 'b'\n",
    "        elif j == 3: color = 'purple'\n",
    "        else: color = 'pink'\n",
    "        plt.plot(num_dims_list, data[i,:,j], c = color)\n",
    "        \n",
    "plt.title('CKA according to the number of dimensions')"
   ]
  },
  {
   "cell_type": "markdown",
   "metadata": {},
   "source": [
    "Red is c=1, green is c=5, blue is c=10, purple is c= 50, pink is c>= 100\n",
    "For low distances between Gaussians (small \"c\") CKA increases with the number of dimensions, althought it plateaus eventually."
   ]
  },
  {
   "cell_type": "code",
   "execution_count": 31,
   "metadata": {},
   "outputs": [
    {
     "data": {
      "text/plain": [
       "Text(0.5, 1.0, 'CKA according to the number of points used to compute CKA')"
      ]
     },
     "execution_count": 31,
     "metadata": {},
     "output_type": "execute_result"
    },
    {
     "data": {
      "image/png": "[encoded data removed]",
      "text/plain": [
       "<Figure size 432x288 with 1 Axes>"
      ]
     },
     "metadata": {
      "needs_background": "light"
     },
     "output_type": "display_data"
    }
   ],
   "source": [
    "for i in range(len(num_dims_list)):\n",
    "    for j in range(len(c_list)):\n",
    "        plt.plot(num_pts_list, data[:,i,j])\n",
    "        \n",
    "plt.title('CKA according to the number of points used to compute CKA')"
   ]
  },
  {
   "cell_type": "markdown",
   "metadata": {},
   "source": [
    "The number of points used to compute CKA does not affect the CKA value by much. Except at low number of points CKA values tend to be slightly higher but after 1000 points per Gaussian the CKA values remain stable."
   ]
  },
  {
   "cell_type": "markdown",
   "metadata": {},
   "source": [
    "# Second round of experiments:\n",
    "- Keeping the number of points constant\n",
    "- Increasing the number of dimensions tested\n",
    "- Decreasing the number of distances tested and looking at smaller distances"
   ]
  },
  {
   "cell_type": "markdown",
   "metadata": {},
   "source": [
    "### Generate and save the data"
   ]
  },
  {
   "cell_type": "code",
   "execution_count": 8,
   "metadata": {},
   "outputs": [
    {
     "name": "stdout",
     "output_type": "stream",
     "text": [
      "Num pts 5000; num dims 3; c 1\n",
      "Num pts 5000; num dims 3; c 5\n",
      "Num pts 5000; num dims 3; c 10\n",
      "Num pts 5000; num dims 3; c 25\n",
      "Num pts 5000; num dims 3; c 50\n",
      "Num pts 5000; num dims 3; c 75\n",
      "Num pts 5000; num dims 3; c 100\n",
      "Num pts 5000; num dims 3; c 200\n",
      "Num pts 5000; num dims 3; c 300\n",
      "Num pts 5000; num dims 3; c 400\n",
      "Num pts 5000; num dims 3; c 500\n",
      "Num pts 5000; num dims 5; c 1\n",
      "Num pts 5000; num dims 5; c 5\n",
      "Num pts 5000; num dims 5; c 10\n",
      "Num pts 5000; num dims 5; c 25\n",
      "Num pts 5000; num dims 5; c 50\n",
      "Num pts 5000; num dims 5; c 75\n",
      "Num pts 5000; num dims 5; c 100\n",
      "Num pts 5000; num dims 5; c 200\n",
      "Num pts 5000; num dims 5; c 300\n",
      "Num pts 5000; num dims 5; c 400\n",
      "Num pts 5000; num dims 5; c 500\n",
      "Num pts 5000; num dims 10; c 1\n",
      "Num pts 5000; num dims 10; c 5\n",
      "Num pts 5000; num dims 10; c 10\n",
      "Num pts 5000; num dims 10; c 25\n",
      "Num pts 5000; num dims 10; c 50\n",
      "Num pts 5000; num dims 10; c 75\n",
      "Num pts 5000; num dims 10; c 100\n",
      "Num pts 5000; num dims 10; c 200\n",
      "Num pts 5000; num dims 10; c 300\n",
      "Num pts 5000; num dims 10; c 400\n",
      "Num pts 5000; num dims 10; c 500\n",
      "Num pts 5000; num dims 50; c 1\n",
      "Num pts 5000; num dims 50; c 5\n",
      "Num pts 5000; num dims 50; c 10\n",
      "Num pts 5000; num dims 50; c 25\n",
      "Num pts 5000; num dims 50; c 50\n",
      "Num pts 5000; num dims 50; c 75\n",
      "Num pts 5000; num dims 50; c 100\n",
      "Num pts 5000; num dims 50; c 200\n",
      "Num pts 5000; num dims 50; c 300\n",
      "Num pts 5000; num dims 50; c 400\n",
      "Num pts 5000; num dims 50; c 500\n",
      "Num pts 5000; num dims 100; c 1\n",
      "Num pts 5000; num dims 100; c 5\n",
      "Num pts 5000; num dims 100; c 10\n",
      "Num pts 5000; num dims 100; c 25\n",
      "Num pts 5000; num dims 100; c 50\n",
      "Num pts 5000; num dims 100; c 75\n",
      "Num pts 5000; num dims 100; c 100\n",
      "Num pts 5000; num dims 100; c 200\n",
      "Num pts 5000; num dims 100; c 300\n",
      "Num pts 5000; num dims 100; c 400\n",
      "Num pts 5000; num dims 100; c 500\n",
      "Num pts 5000; num dims 200; c 1\n",
      "Num pts 5000; num dims 200; c 5\n",
      "Num pts 5000; num dims 200; c 10\n",
      "Num pts 5000; num dims 200; c 25\n",
      "Num pts 5000; num dims 200; c 50\n",
      "Num pts 5000; num dims 200; c 75\n",
      "Num pts 5000; num dims 200; c 100\n",
      "Num pts 5000; num dims 200; c 200\n",
      "Num pts 5000; num dims 200; c 300\n",
      "Num pts 5000; num dims 200; c 400\n",
      "Num pts 5000; num dims 200; c 500\n",
      "Num pts 5000; num dims 300; c 1\n",
      "Num pts 5000; num dims 300; c 5\n",
      "Num pts 5000; num dims 300; c 10\n",
      "Num pts 5000; num dims 300; c 25\n",
      "Num pts 5000; num dims 300; c 50\n",
      "Num pts 5000; num dims 300; c 75\n",
      "Num pts 5000; num dims 300; c 100\n",
      "Num pts 5000; num dims 300; c 200\n",
      "Num pts 5000; num dims 300; c 300\n",
      "Num pts 5000; num dims 300; c 400\n",
      "Num pts 5000; num dims 300; c 500\n",
      "Num pts 5000; num dims 500; c 1\n",
      "Num pts 5000; num dims 500; c 5\n",
      "Num pts 5000; num dims 500; c 10\n",
      "Num pts 5000; num dims 500; c 25\n",
      "Num pts 5000; num dims 500; c 50\n",
      "Num pts 5000; num dims 500; c 75\n",
      "Num pts 5000; num dims 500; c 100\n",
      "Num pts 5000; num dims 500; c 200\n",
      "Num pts 5000; num dims 500; c 300\n",
      "Num pts 5000; num dims 500; c 400\n",
      "Num pts 5000; num dims 500; c 500\n",
      "Num pts 5000; num dims 750; c 1\n",
      "Num pts 5000; num dims 750; c 5\n",
      "Num pts 5000; num dims 750; c 10\n",
      "Num pts 5000; num dims 750; c 25\n",
      "Num pts 5000; num dims 750; c 50\n",
      "Num pts 5000; num dims 750; c 75\n",
      "Num pts 5000; num dims 750; c 100\n",
      "Num pts 5000; num dims 750; c 200\n",
      "Num pts 5000; num dims 750; c 300\n",
      "Num pts 5000; num dims 750; c 400\n",
      "Num pts 5000; num dims 750; c 500\n",
      "Num pts 5000; num dims 1000; c 1\n",
      "Num pts 5000; num dims 1000; c 5\n",
      "Num pts 5000; num dims 1000; c 10\n",
      "Num pts 5000; num dims 1000; c 25\n",
      "Num pts 5000; num dims 1000; c 50\n",
      "Num pts 5000; num dims 1000; c 75\n",
      "Num pts 5000; num dims 1000; c 100\n",
      "Num pts 5000; num dims 1000; c 200\n",
      "Num pts 5000; num dims 1000; c 300\n",
      "Num pts 5000; num dims 1000; c 400\n",
      "Num pts 5000; num dims 1000; c 500\n",
      "Num pts 5000; num dims 1500; c 1\n",
      "Num pts 5000; num dims 1500; c 5\n",
      "Num pts 5000; num dims 1500; c 10\n",
      "Num pts 5000; num dims 1500; c 25\n",
      "Num pts 5000; num dims 1500; c 50\n",
      "Num pts 5000; num dims 1500; c 75\n",
      "Num pts 5000; num dims 1500; c 100\n",
      "Num pts 5000; num dims 1500; c 200\n",
      "Num pts 5000; num dims 1500; c 300\n",
      "Num pts 5000; num dims 1500; c 400\n",
      "Num pts 5000; num dims 1500; c 500\n",
      "Num pts 5000; num dims 2000; c 1\n",
      "Num pts 5000; num dims 2000; c 5\n",
      "Num pts 5000; num dims 2000; c 10\n",
      "Num pts 5000; num dims 2000; c 25\n",
      "Num pts 5000; num dims 2000; c 50\n",
      "Num pts 5000; num dims 2000; c 75\n",
      "Num pts 5000; num dims 2000; c 100\n",
      "Num pts 5000; num dims 2000; c 200\n",
      "Num pts 5000; num dims 2000; c 300\n",
      "Num pts 5000; num dims 2000; c 400\n",
      "Num pts 5000; num dims 2000; c 500\n",
      "Num pts 5000; num dims 3000; c 1\n",
      "Num pts 5000; num dims 3000; c 5\n",
      "Num pts 5000; num dims 3000; c 10\n",
      "Num pts 5000; num dims 3000; c 25\n",
      "Num pts 5000; num dims 3000; c 50\n",
      "Num pts 5000; num dims 3000; c 75\n",
      "Num pts 5000; num dims 3000; c 100\n",
      "Num pts 5000; num dims 3000; c 200\n",
      "Num pts 5000; num dims 3000; c 300\n",
      "Num pts 5000; num dims 3000; c 400\n",
      "Num pts 5000; num dims 3000; c 500\n",
      "Num pts 5000; num dims 5000; c 1\n",
      "Num pts 5000; num dims 5000; c 5\n",
      "Num pts 5000; num dims 5000; c 10\n",
      "Num pts 5000; num dims 5000; c 25\n",
      "Num pts 5000; num dims 5000; c 50\n",
      "Num pts 5000; num dims 5000; c 75\n",
      "Num pts 5000; num dims 5000; c 100\n",
      "Num pts 5000; num dims 5000; c 200\n",
      "Num pts 5000; num dims 5000; c 300\n",
      "Num pts 5000; num dims 5000; c 400\n",
      "Num pts 5000; num dims 5000; c 500\n",
      "Num pts 5000; num dims 10000; c 1\n",
      "Num pts 5000; num dims 10000; c 5\n",
      "Num pts 5000; num dims 10000; c 10\n",
      "Num pts 5000; num dims 10000; c 25\n",
      "Num pts 5000; num dims 10000; c 50\n",
      "Num pts 5000; num dims 10000; c 75\n",
      "Num pts 5000; num dims 10000; c 100\n",
      "Num pts 5000; num dims 10000; c 200\n",
      "Num pts 5000; num dims 10000; c 300\n",
      "Num pts 5000; num dims 10000; c 400\n",
      "Num pts 5000; num dims 10000; c 500\n"
     ]
    }
   ],
   "source": [
    "num_pts_list = [5000]\n",
    "num_dims_list = [3, 5, 10, 50, 100, 200, 300, 500, 750, 1000, 1500, 2000, 3000, 5000, 10000]\n",
    "c_list = [1, 5, 10, 25, 50, 75, 100, 200, 300, 400, 500]\n",
    "\n",
    "\n",
    "data = np.zeros([len(num_pts_list), len(num_dims_list), len(c_list)])\n",
    "for i1, num_pts in enumerate(num_pts_list):\n",
    "    for i2, num_dims in enumerate(num_dims_list):\n",
    "        for i3, c in enumerate(c_list):\n",
    "            print('Num pts {}; num dims {}; c {}'.format(num_pts, num_dims, c))\n",
    "            data[i1, i2, i3] = get_cka_test(num_dims = num_dims, num_pts = num_pts, c = c)\n",
    "            \n",
    "np.save('data/gaussian_exp_v2.npy', data)"
   ]
  },
  {
   "cell_type": "markdown",
   "metadata": {},
   "source": [
    "### Analyze results"
   ]
  },
  {
   "cell_type": "code",
   "execution_count": 9,
   "metadata": {},
   "outputs": [
    {
     "data": {
      "text/plain": [
       "Text(0.5, 1.0, 'CKA according to \"c\", the distance between the first and\\nsecond Gaussians in the second set of representations')"
      ]
     },
     "execution_count": 9,
     "metadata": {},
     "output_type": "execute_result"
    },
    {
     "data": {
      "image/png": "[encoded data removed]",
      "text/plain": [
       "<Figure size 432x288 with 1 Axes>"
      ]
     },
     "metadata": {
      "needs_background": "light"
     },
     "output_type": "display_data"
    }
   ],
   "source": [
    "for i in range(len(num_pts_list)):\n",
    "    for j in range(len(num_dims_list)):\n",
    "        plt.plot(c_list, data[i,j,:])\n",
    "        \n",
    "plt.title('CKA according to \"c\", the distance between the first and\\nsecond Gaussians in the second set of representations')"
   ]
  },
  {
   "cell_type": "markdown",
   "metadata": {},
   "source": [
    "As expected CKA decreases pretty quickly as the distance between the two Gaussians in the second set of representations increases. The rate at which CKA drops is pretty dramatic, reaching sub 0.2 value almost from the start. (same as before)"
   ]
  },
  {
   "cell_type": "code",
   "execution_count": 10,
   "metadata": {},
   "outputs": [
    {
     "data": {
      "text/plain": [
       "Text(0.5, 1.0, 'CKA according to the number of dimensions')"
      ]
     },
     "execution_count": 10,
     "metadata": {},
     "output_type": "execute_result"
    },
    {
     "data": {
      "image/png": "[encoded data removed]",
      "text/plain": [
       "<Figure size 432x288 with 1 Axes>"
      ]
     },
     "metadata": {
      "needs_background": "light"
     },
     "output_type": "display_data"
    }
   ],
   "source": [
    "for i in range(len(num_pts_list)):\n",
    "    for j in range(len(c_list)):\n",
    "        if j == 0: color = 'r'\n",
    "        elif j == 1: color = 'g'\n",
    "        elif j == 2: color = 'b'\n",
    "        elif j == 3: color = 'purple'\n",
    "        else: color = 'pink'\n",
    "        plt.plot(num_dims_list, data[i,:,j], c = color)\n",
    "        \n",
    "plt.title('CKA according to the number of dimensions')"
   ]
  },
  {
   "cell_type": "markdown",
   "metadata": {},
   "source": [
    "Red is c=1, green is c=5, blue is c=10, purple is c= 25, pink is c>= 50\n",
    "For low distances between Gaussians (small \"c\") CKA increases with the number of dimensions, althought it plateaus eventually. It seems like it would continue increasing forever...\n",
    "\n",
    "The number of points was kept constant so nothing to report there."
   ]
  },
  {
   "cell_type": "markdown",
   "metadata": {},
   "source": [
    "# Toy experiments"
   ]
  },
  {
   "cell_type": "markdown",
   "metadata": {},
   "source": [
    "### Translations"
   ]
  },
  {
   "cell_type": "code",
   "execution_count": 2,
   "metadata": {},
   "outputs": [],
   "source": [
    "# Parameters\n",
    "mean = 0\n",
    "var = 1\n",
    "\n",
    "num_dim = 200\n",
    "num_pts = 10000 # per mixture component\n",
    "\n",
    "seed = 0\n",
    "np.random.seed(seed)\n",
    "d = np.random.normal(0,1,[num_dim])\n",
    "d /= np.linalg.norm(d)\n",
    "c = 1000\n",
    "cuda = torch.device('cuda')\n",
    "\n",
    "X = np.random.normal(mean, var, [num_pts, num_dim])\n",
    "Y = X+c*np.matmul(np.ones([num_pts, 1]),d.reshape([1, num_dim]))\n",
    "\n",
    "X = torch.Tensor(X).to(cuda)\n",
    "Y = torch.Tensor(Y).to(cuda)\n",
    "\n",
    "# CKA = LinCKA()\n",
    "# CKA(X,Y)[0].item()"
   ]
  },
  {
   "cell_type": "code",
   "execution_count": 6,
   "metadata": {},
   "outputs": [],
   "source": [
    "del X,Y"
   ]
  },
  {
   "cell_type": "code",
   "execution_count": 5,
   "metadata": {},
   "outputs": [
    {
     "data": {
      "text/plain": [
       "array([-5.31485966e-12,  8.10018719e-13,  3.49587026e-12,  2.35047537e-11,\n",
       "        1.44950718e-12,  5.40012479e-13,  4.60431693e-12, -2.29505304e-12,\n",
       "       -1.30917499e-12, -4.82103246e-12, -1.32871492e-12, -1.16955334e-11,\n",
       "        3.91509047e-12, -6.73239242e-13, -4.84234874e-12,  4.90629759e-12,\n",
       "        1.12834186e-11, -1.69642078e-12,  4.63629135e-12,  4.98090458e-12,\n",
       "       -1.91846539e-11, -3.26849658e-12,  1.10489395e-11, -1.21787025e-11,\n",
       "       -2.00373051e-11,  1.97388772e-11,  8.51763104e-13,  2.49400500e-12,\n",
       "        1.50492951e-11,  1.08286713e-11,  1.69109171e-12,  6.75370870e-12,\n",
       "       -5.93303184e-12,  1.31592515e-11,  6.29185593e-12,  8.15347789e-13,\n",
       "        5.89750471e-12,  1.09707798e-11,  1.57385216e-12,  3.44613227e-12,\n",
       "        1.37845291e-11,  2.65742983e-11, -9.40758582e-12, -1.89004368e-11,\n",
       "       -1.10844667e-12,  2.20978791e-12,  6.52278231e-12,  1.24629196e-11,\n",
       "        1.90425453e-12,  1.60049751e-12,  1.01891828e-11, -4.05009359e-12,\n",
       "        3.67350594e-12, -7.85860266e-12,  1.93178806e-14, -4.86721774e-13,\n",
       "       -8.79296636e-14,  2.85282908e-12,  6.84963197e-12, -4.65050221e-12,\n",
       "       -3.78008735e-12,  4.54747351e-12,  4.12114787e-13,  6.33804120e-12,\n",
       "        2.70006240e-12,  4.83169060e-13, -9.45021839e-12,  3.76232379e-12,\n",
       "        7.26174676e-12,  8.07354184e-13,  9.64206492e-12, -2.32702746e-13,\n",
       "        1.60156333e-11, -1.97957206e-11, -1.12621024e-12, -2.24531505e-12,\n",
       "       -9.53548351e-12, -7.87991894e-12, -1.50990331e-12,  3.00648395e-13,\n",
       "       -9.05231445e-12, -2.45137244e-12, -5.61328761e-12,  1.18234311e-11,\n",
       "        2.14015472e-11, -5.62749847e-12,  2.64321898e-12,  2.55262478e-12,\n",
       "       -6.55120402e-12, -4.41957582e-12, -2.91677793e-12, -1.02886588e-11,\n",
       "        1.30562228e-12, -1.00612851e-11,  4.58300065e-12, -4.77484718e-12,\n",
       "        1.05249143e-13, -4.67537120e-12, -2.00905959e-12, -1.33582034e-12,\n",
       "        1.14823706e-11,  1.44524392e-11,  1.10986775e-11,  1.08144604e-11,\n",
       "        3.95061761e-12,  4.86011231e-12,  2.21689334e-12,  1.42392764e-11,\n",
       "        1.21360699e-11,  6.89226454e-12, -5.34328137e-12,  5.31485966e-12,\n",
       "        1.11555210e-11, -1.60298441e-11,  3.41060513e-12,  6.89226454e-12,\n",
       "        1.11697318e-11,  6.44817533e-13, -7.16227078e-12, -3.91509047e-12,\n",
       "        4.49773552e-12,  7.57438556e-12, -2.25597319e-12,  1.36992639e-11,\n",
       "       -9.96180916e-12, -1.29674049e-13, -2.78888024e-12,  3.02122771e-11,\n",
       "       -5.84066129e-12,  2.72848411e-12,  1.05941922e-11, -4.32009983e-12,\n",
       "        1.69819714e-12, -3.98792110e-13, -2.65032440e-12, -7.09832193e-12,\n",
       "       -5.80513415e-12,  1.35358391e-12, -3.58824082e-12,  6.18172180e-12,\n",
       "       -1.74651404e-11,  5.57776048e-12,  1.59694480e-12,  4.88853402e-12,\n",
       "        2.08046913e-11,  8.02913291e-12,  1.13473675e-11,  3.89377419e-12,\n",
       "        1.53050905e-11,  1.71951342e-12, -7.34523553e-13,  2.77111667e-11,\n",
       "       -6.18172180e-12,  3.56692453e-12, -8.65085781e-13, -7.03437308e-12,\n",
       "        1.59587898e-11,  2.64321898e-12,  8.76809736e-12,  4.33431069e-12,\n",
       "       -1.00186526e-12, -1.98667749e-11,  1.52482471e-11, -1.02495790e-12,\n",
       "        1.27187150e-11,  9.08073616e-12, -4.83169060e-12,  1.39266376e-11,\n",
       "        7.21911420e-12, -1.80477855e-12,  4.46220838e-12,  2.13162821e-12,\n",
       "        1.43529633e-12, -6.71462885e-12, -2.01794137e-12,  8.02202749e-12,\n",
       "        8.17124146e-13, -9.62074864e-12, -2.59348099e-12,  7.32747196e-15,\n",
       "       -4.32365255e-12,  1.08713039e-11,  3.63087338e-12, -3.74313913e-11,\n",
       "       -1.32871492e-12,  8.08597633e-12, -1.15960574e-11, -8.21565038e-14,\n",
       "       -7.09121650e-12,  5.72697445e-12, -7.37543360e-12,  1.89714910e-12,\n",
       "       -5.31130695e-13,  3.21165317e-12, -3.68771680e-12, -1.68398628e-12,\n",
       "       -2.59348099e-12, -5.02353714e-12,  2.08899564e-11,  9.66338121e-13])"
      ]
     },
     "execution_count": 5,
     "metadata": {},
     "output_type": "execute_result"
    }
   ],
   "source": [
    "np.mean(c*np.matmul(np.ones([num_pts, 1]),d.reshape([1, num_dim])),axis=0) - c*d"
   ]
  },
  {
   "cell_type": "code",
   "execution_count": 22,
   "metadata": {},
   "outputs": [
    {
     "data": {
      "text/plain": [
       "0.9471241235733032"
      ]
     },
     "execution_count": 22,
     "metadata": {},
     "output_type": "execute_result"
    }
   ],
   "source": [
    "# ReLU case\n",
    "# mean = 0\n",
    "mean = 10\n",
    "var = 1\n",
    "\n",
    "num_dim = 200\n",
    "num_pts = 10000 # per mixture component\n",
    "\n",
    "seed = 0\n",
    "np.random.seed(seed)\n",
    "d = np.random.normal(0,1,[num_dim])\n",
    "d /= np.linalg.norm(d)\n",
    "d = np.abs(d)\n",
    "c = 2000\n",
    "cuda = torch.device('cuda')\n",
    "\n",
    "X = np.random.normal(mean, var, [num_pts, num_dim])\n",
    "Y = X+c*np.matmul(np.ones([num_pts, 1]),d.reshape([1, num_dim]))\n",
    "\n",
    "X = torch.Tensor(X).to(cuda)\n",
    "Y = torch.Tensor(Y).to(cuda)\n",
    "\n",
    "CKA = LinCKA()\n",
    "CKA(X,Y)[0].item()"
   ]
  },
  {
   "cell_type": "markdown",
   "metadata": {},
   "source": [
    "### Rotations"
   ]
  },
  {
   "cell_type": "code",
   "execution_count": 69,
   "metadata": {},
   "outputs": [
    {
     "data": {
      "text/plain": [
       "1.0"
      ]
     },
     "execution_count": 69,
     "metadata": {},
     "output_type": "execute_result"
    }
   ],
   "source": [
    "# Parameters\n",
    "mean = 0\n",
    "var = 1\n",
    "\n",
    "num_dim = 200\n",
    "num_pts = 10000 # per mixture component\n",
    "\n",
    "# seed = 0\n",
    "# np.random.seed(seed)\n",
    "rotation_matrix = special_ortho_group.rvs(num_dim)\n",
    "cuda = torch.device('cuda')\n",
    "\n",
    "X = np.random.normal(mean, var, [num_pts, num_dim])\n",
    "Y = np.matmul(X,rotation_matrix)\n",
    "\n",
    "X = torch.Tensor(X).to(cuda)\n",
    "Y = torch.Tensor(Y).to(cuda)\n",
    "\n",
    "CKA = LinCKA()\n",
    "CKA(X,Y)[0].item()"
   ]
  },
  {
   "cell_type": "markdown",
   "metadata": {},
   "source": [
    "CKA is invariant to orthogonal transformations so unsurprisingly rotations do not affect CKA value..."
   ]
  },
  {
   "cell_type": "markdown",
   "metadata": {},
   "source": [
    "### Random matrices"
   ]
  },
  {
   "cell_type": "code",
   "execution_count": 103,
   "metadata": {},
   "outputs": [
    {
     "data": {
      "text/plain": [
       "0.024850720539689064"
      ]
     },
     "execution_count": 103,
     "metadata": {},
     "output_type": "execute_result"
    }
   ],
   "source": [
    "# Parameters\n",
    "mean = 0\n",
    "var = 1\n",
    "\n",
    "num_dim = 200\n",
    "num_pts = 10000 # per mixture component\n",
    "\n",
    "# seed = 0\n",
    "# np.random.seed(seed)\n",
    "rotation_matrix = np.random.normal(0,1,[num_dim, num_dim])\n",
    "if np.linalg.cond(rotation_matrix) < 1/sys.float_info.epsilon:\n",
    "    pass\n",
    "else:\n",
    "    print(\"Error: matrix is not invertible.\")\n",
    "\n",
    "\n",
    "cuda = torch.device('cuda')\n",
    "\n",
    "X = np.random.normal(mean, var, [num_pts, num_dim])\n",
    "Y = np.matmul(X,rotation_matrix)\n",
    "\n",
    "X = torch.Tensor(X).to(cuda)\n",
    "Y = torch.Tensor(Y).to(cuda)\n",
    "\n",
    "CKA = LinCKA()\n",
    "CKA(X,Y)[0].item()"
   ]
  },
  {
   "cell_type": "markdown",
   "metadata": {},
   "source": [
    "# Figures for the workshop"
   ]
  },
  {
   "cell_type": "markdown",
   "metadata": {},
   "source": [
    "## Translation"
   ]
  },
  {
   "cell_type": "code",
   "execution_count": 22,
   "metadata": {},
   "outputs": [],
   "source": [
    "# Parameters\n",
    "\n",
    "def translation_cka(mean = 0,\n",
    "                    var = 1,\n",
    "                    num_dims = 200,\n",
    "                    num_pts = 10000,\n",
    "                    seed = 0,\n",
    "                    c = 1000):\n",
    "    \n",
    "    np.random.seed(seed)\n",
    "    d = np.random.normal(0,1,[num_dim])\n",
    "    d /= np.linalg.norm(d)\n",
    "    cuda = torch.device('cuda')\n",
    "\n",
    "    X = np.random.normal(mean, var, [num_pts, num_dim])\n",
    "    Y = X+c*np.matmul(np.ones([num_pts, 1]),d.reshape([1, num_dim]))\n",
    "\n",
    "    X = torch.Tensor(X).to(cuda)\n",
    "    Y = torch.Tensor(Y).to(cuda)\n",
    "\n",
    "    CKA = LinCKA()\n",
    "    return CKA(X,Y)[0].item()"
   ]
  },
  {
   "cell_type": "markdown",
   "metadata": {},
   "source": [
    "### First results"
   ]
  },
  {
   "cell_type": "code",
   "execution_count": null,
   "metadata": {},
   "outputs": [],
   "source": [
    "num_pts_list = [100, 500, 1000, 5000]#, 10000 and 20000 points makes it crash have other things running as well...\n",
    "num_dims_list = [3, 5, 10, 50, 100, 200, 300, 500, 1000]\n",
    "c_list = [1, 5, 10, 25, 50, 100, 500, 1000, 5000, 1e4, 1e5, 1e6, 1e7, 1e8, 1e9, 1e10]\n",
    "\n",
    "\n",
    "data = np.zeros([len(num_pts_list), len(num_dims_list), len(c_list)])\n",
    "for i1, num_pts in enumerate(num_pts_list):\n",
    "    for i2, num_dims in enumerate(num_dims_list):\n",
    "        for i3, c in enumerate(c_list):\n",
    "            print('Num pts {}; num dims {}; c {}'.format(num_pts, num_dims, c))\n",
    "            data[i1, i2, i3] = translation_cka(num_dims = num_dims, num_pts = num_pts, c = c)\n",
    "            \n",
    "np.save('data/translation_cka_v0.npy', data)"
   ]
  },
  {
   "cell_type": "code",
   "execution_count": 39,
   "metadata": {},
   "outputs": [
    {
     "data": {
      "text/plain": [
       "Text(0.5, 1.0, 'CKA according to \"c\", the translation distance')"
      ]
     },
     "execution_count": 39,
     "metadata": {},
     "output_type": "execute_result"
    },
    {
     "data": {
      "image/png": "[encoded data removed]",
      "text/plain": [
       "<Figure size 432x288 with 1 Axes>"
      ]
     },
     "metadata": {
      "needs_background": "light"
     },
     "output_type": "display_data"
    }
   ],
   "source": [
    "for i in range(len(num_pts_list)):\n",
    "    for j in range(len(num_dims_list)):\n",
    "        plt.plot(c_list[:-5], data[i,j,:][:-5], label = f'dim {num_dims_list[j]}')\n",
    "        \n",
    "plt.legend()\n",
    "plt.title('CKA according to \"c\", the translation distance')"
   ]
  },
  {
   "cell_type": "markdown",
   "metadata": {},
   "source": [
    "The different lines correspond to the different number of points used to compute CKA. The higher curves correspond to points with lesser number of points used to compute cka (This is good for us since in most scenarios the number of representations computed are very high)"
   ]
  },
  {
   "cell_type": "code",
   "execution_count": 40,
   "metadata": {},
   "outputs": [
    {
     "data": {
      "text/plain": [
       "Text(0.5, 1.0, 'CKA according to the number of dimensions')"
      ]
     },
     "execution_count": 40,
     "metadata": {},
     "output_type": "execute_result"
    },
    {
     "data": {
      "image/png": "[encoded data removed]",
      "text/plain": [
       "<Figure size 432x288 with 1 Axes>"
      ]
     },
     "metadata": {
      "needs_background": "light"
     },
     "output_type": "display_data"
    }
   ],
   "source": [
    "for i in range(len(num_pts_list)):\n",
    "    for j in range(len(c_list)):\n",
    "        if j == 0: color = 'r'\n",
    "        elif j == 1: color = 'g'\n",
    "        elif j == 2: color = 'b'\n",
    "        elif j == 3: color = 'purple'\n",
    "        else: color = 'pink'\n",
    "        plt.plot(num_dims_list, data[i,:,j], c = color)\n",
    "        \n",
    "plt.title('CKA according to the number of dimensions')"
   ]
  },
  {
   "cell_type": "markdown",
   "metadata": {},
   "source": [
    "Completely constant as opposed to the other scenario (two Gaussians that we split further and further apart)."
   ]
  },
  {
   "cell_type": "code",
   "execution_count": 57,
   "metadata": {},
   "outputs": [
    {
     "data": {
      "text/plain": [
       "Text(0.5, 1.0, 'CKA according to the number of points used to compute CKA')"
      ]
     },
     "execution_count": 57,
     "metadata": {},
     "output_type": "execute_result"
    },
    {
     "data": {
      "image/png": "[encoded data removed]",
      "text/plain": [
       "<Figure size 432x288 with 1 Axes>"
      ]
     },
     "metadata": {
      "needs_background": "light"
     },
     "output_type": "display_data"
    }
   ],
   "source": [
    "for i in range(len(num_dims_list)):\n",
    "    for j in [9]:#range(len(c_list)):\n",
    "        plt.plot(num_pts_list, data[:,i,j])\n",
    "        \n",
    "plt.title('CKA according to the number of points used to compute CKA')"
   ]
  },
  {
   "cell_type": "markdown",
   "metadata": {},
   "source": [
    "Relatively constant except for two cases? Even gets negative for low values of c... pretty curious behaviour overall maybe I should take some time to dive deeper into these results at some point."
   ]
  },
  {
   "cell_type": "markdown",
   "metadata": {},
   "source": [
    "### Second version"
   ]
  },
  {
   "cell_type": "code",
   "execution_count": 69,
   "metadata": {},
   "outputs": [
    {
     "name": "stdout",
     "output_type": "stream",
     "text": [
      "seed 0\n",
      "seed 1\n",
      "seed 2\n",
      "seed 3\n",
      "seed 4\n",
      "seed 5\n",
      "seed 6\n",
      "seed 7\n",
      "seed 8\n",
      "seed 9\n",
      "seed 10\n",
      "seed 11\n",
      "seed 12\n",
      "seed 13\n",
      "seed 14\n",
      "seed 15\n",
      "seed 16\n",
      "seed 17\n",
      "seed 18\n",
      "seed 19\n",
      "seed 20\n",
      "seed 21\n",
      "seed 22\n",
      "seed 23\n",
      "seed 24\n",
      "seed 25\n",
      "seed 26\n",
      "seed 27\n",
      "seed 28\n",
      "seed 29\n",
      "seed 30\n",
      "seed 31\n",
      "seed 32\n",
      "seed 33\n",
      "seed 34\n",
      "seed 35\n",
      "seed 36\n",
      "seed 37\n",
      "seed 38\n",
      "seed 39\n",
      "seed 40\n",
      "seed 41\n",
      "seed 42\n",
      "seed 43\n",
      "seed 44\n",
      "seed 45\n",
      "seed 46\n",
      "seed 47\n",
      "seed 48\n",
      "seed 49\n"
     ]
    }
   ],
   "source": [
    "num_pts_list = 10000#, 10000 and 20000 points makes it crash have other things running as well...\n",
    "num_dims_list = 1000\n",
    "num_seeds = 50\n",
    "c_list = [1, 5, 10, 25, 50, 100, 500, 1000, 2500, 5000, 7500, 1e4, 1.5e4, 2e4]\n",
    "\n",
    "\n",
    "data = np.zeros([num_seeds, len(c_list)])\n",
    "for seed in range(num_seeds):\n",
    "    print(f'seed {seed}')\n",
    "    for i, c in enumerate(c_list):\n",
    "#         print('c {}, seed{}'.format(c, seed))\n",
    "        data[seed, i] = translation_cka(num_dims = num_dims, num_pts = num_pts, c = c, seed = seed)\n",
    "            \n",
    "np.save('data/translation_cka_fig_data_v0.npy', data)"
   ]
  },
  {
   "cell_type": "code",
   "execution_count": 72,
   "metadata": {},
   "outputs": [
    {
     "data": {
      "text/plain": [
       "Text(0.5, 1.0, 'CKA according to \"c\", the translation distance')"
      ]
     },
     "execution_count": 72,
     "metadata": {},
     "output_type": "execute_result"
    },
    {
     "data": {
      "image/png": "[encoded data removed]",
      "text/plain": [
       "<Figure size 432x288 with 1 Axes>"
      ]
     },
     "metadata": {
      "needs_background": "light"
     },
     "output_type": "display_data"
    }
   ],
   "source": [
    "translation_means = np.mean(data, axis = 0)\n",
    "translation_stds = np.std(data, axis = 0)\n",
    "\n",
    "plt.plot(c_list, translation_means)\n",
    "plt.fill_between(c_list, translation_means-translation_stds, translation_means+translation_stds, alpha = 0.5)\n",
    "\n",
    "plt.title('CKA according to \"c\", the translation distance')"
   ]
  },
  {
   "cell_type": "markdown",
   "metadata": {},
   "source": [
    "## Invertible linear transformations"
   ]
  },
  {
   "cell_type": "code",
   "execution_count": 2,
   "metadata": {},
   "outputs": [],
   "source": [
    "def inv_lin_cka(pts_mean = 0,\n",
    "                pts_var = 1,\n",
    "                transform_mean = 0,\n",
    "                transform_var = 1,\n",
    "                num_dims = 200,\n",
    "                num_pts = 10000,\n",
    "                seed = 0):\n",
    "    \n",
    "    np.random.seed(seed)\n",
    "    rotation_matrix = np.random.normal(transform_mean, transform_var,[num_dims, num_dims])\n",
    "    while np.linalg.cond(rotation_matrix) >= 1/sys.float_info.epsilon:\n",
    "        rotation_matrix = np.random.normal(transform_mean, transform_var,[num_dims, num_dims])\n",
    "\n",
    "    cuda = torch.device('cuda')\n",
    "    rotation_matrix = torch.Tensor(rotation_matrix).to(cuda)\n",
    "    \n",
    "    X = np.random.normal(pts_mean, pts_var, [num_pts, num_dims])\n",
    "    X = torch.Tensor(X).to(cuda)\n",
    "    \n",
    "    Y = torch.mm(X,rotation_matrix)\n",
    "\n",
    "    CKA = LinCKA()\n",
    "    return CKA(X,Y)[0].item()"
   ]
  },
  {
   "cell_type": "markdown",
   "metadata": {},
   "source": [
    "## First version (not runned since too long)"
   ]
  },
  {
   "cell_type": "code",
   "execution_count": null,
   "metadata": {},
   "outputs": [],
   "source": [
    "num_pts_list = [100, 500, 1000, 5000, 10000]#, 10000 and 20000 points makes it crash have other things running as well...\n",
    "num_dims_list = [3, 5, 10, 50, 100, 200, 300, 500, 1000, 5000]\n",
    "mu_list = [1, 5, 10, 25, 50, 100, 500, 1000, 5000, 1e4, 1e5]#, 1e6, 1e7, 1e8, 1e9, 1e10]\n",
    "sigma_list = [1, 5, 10, 25, 50, 100, 500, 1000, 5000, 1e4, 1e5]#, 1e6, 1e7, 1e8, 1e9, 1e10]\n",
    "# this is too long, too agressive and some non-invertible matrices were found.\n",
    "\n",
    "\n",
    "data = np.zeros([len(num_pts_list), len(num_dims_list), len(mu_list), len(sigma_list)])\n",
    "for i1, num_pts in enumerate(num_pts_list):\n",
    "    for i2, num_dims in enumerate(num_dims_list):\n",
    "        for i3, mu in enumerate(mu_list):\n",
    "            for i4, sigma in enumerate(sigma_list):\n",
    "                print('Num pts {}; num dims {}; mu {}; sigma {}'.format(num_pts, num_dims, mu, sigma))\n",
    "                data[i1, i2, i3, i4] = inv_lin_cka(num_dims = num_dims, num_pts = num_pts, transform_mean = mu, transform_var = sigma)\n",
    "    np.save('data/inv_lin_cka_v0.npy', data)"
   ]
  },
  {
   "cell_type": "code",
   "execution_count": 39,
   "metadata": {},
   "outputs": [
    {
     "data": {
      "text/plain": [
       "Text(0.5, 1.0, 'CKA according to \"c\", the translation distance')"
      ]
     },
     "execution_count": 39,
     "metadata": {},
     "output_type": "execute_result"
    },
    {
     "data": {
      "image/png": "[encoded data removed]",
      "text/plain": [
       "<Figure size 432x288 with 1 Axes>"
      ]
     },
     "metadata": {
      "needs_background": "light"
     },
     "output_type": "display_data"
    }
   ],
   "source": [
    "for i in range(len(num_pts_list)):\n",
    "    for j in range(len(num_dims_list)):\n",
    "        for k in range(len(mu_list)):\n",
    "            plt.plot(sigma_list, data[i,j,k,:])\n",
    "        \n",
    "plt.legend()\n",
    "plt.title(r'CKA according to $\\sigma$, standard deviation')"
   ]
  },
  {
   "cell_type": "markdown",
   "metadata": {},
   "source": [
    "The different lines correspond to the different number of points used to compute CKA. The higher curves correspond to points with lesser number of points used to compute cka (This is good for us since in most scenarios the number of representations computed are very high)"
   ]
  },
  {
   "cell_type": "code",
   "execution_count": 40,
   "metadata": {},
   "outputs": [
    {
     "data": {
      "text/plain": [
       "Text(0.5, 1.0, 'CKA according to the number of dimensions')"
      ]
     },
     "execution_count": 40,
     "metadata": {},
     "output_type": "execute_result"
    },
    {
     "data": {
      "image/png": "[encoded data removed]",
      "text/plain": [
       "<Figure size 432x288 with 1 Axes>"
      ]
     },
     "metadata": {
      "needs_background": "light"
     },
     "output_type": "display_data"
    }
   ],
   "source": [
    "for i in range(len(num_pts_list)):\n",
    "    for j in range(len(c_list)):\n",
    "        if j == 0: color = 'r'\n",
    "        elif j == 1: color = 'g'\n",
    "        elif j == 2: color = 'b'\n",
    "        elif j == 3: color = 'purple'\n",
    "        else: color = 'pink'\n",
    "        plt.plot(num_dims_list, data[i,:,j], c = color)\n",
    "        \n",
    "plt.title('CKA according to the number of dimensions')"
   ]
  },
  {
   "cell_type": "markdown",
   "metadata": {},
   "source": [
    "Completely constant as opposed to the other scenario (two Gaussians that we split further and further apart)."
   ]
  },
  {
   "cell_type": "code",
   "execution_count": 57,
   "metadata": {},
   "outputs": [
    {
     "data": {
      "text/plain": [
       "Text(0.5, 1.0, 'CKA according to the number of points used to compute CKA')"
      ]
     },
     "execution_count": 57,
     "metadata": {},
     "output_type": "execute_result"
    },
    {
     "data": {
      "image/png": "[encoded data removed]",
      "text/plain": [
       "<Figure size 432x288 with 1 Axes>"
      ]
     },
     "metadata": {
      "needs_background": "light"
     },
     "output_type": "display_data"
    }
   ],
   "source": [
    "for i in range(len(num_dims_list)):\n",
    "    for j in [9]:#range(len(c_list)):\n",
    "        plt.plot(num_pts_list, data[:,i,j])\n",
    "        \n",
    "plt.title('CKA according to the number of points used to compute CKA')"
   ]
  },
  {
   "cell_type": "markdown",
   "metadata": {},
   "source": [
    "Relatively constant except for two cases? Even gets negative for low values of c... pretty curious behaviour overall maybe I should take some time to dive deeper into these results at some point."
   ]
  },
  {
   "cell_type": "markdown",
   "metadata": {},
   "source": [
    "### Second version"
   ]
  },
  {
   "cell_type": "code",
   "execution_count": 4,
   "metadata": {},
   "outputs": [
    {
     "name": "stdout",
     "output_type": "stream",
     "text": [
      "seed 0\n",
      "seed 1\n",
      "seed 2\n",
      "seed 3\n",
      "seed 4\n",
      "seed 5\n",
      "seed 6\n",
      "seed 7\n",
      "seed 8\n",
      "seed 9\n"
     ]
    }
   ],
   "source": [
    "num_pts = 5000#, 10000 and 20000 points makes it crash have other things running as well...\n",
    "num_dims = 500\n",
    "num_seeds = 10\n",
    "mu_list = [1, 5, 10, 25, 50, 100, 500, 1000, 5000, 1e4, 1e5]\n",
    "sigma_list = [1, 5, 10, 25, 50, 100, 500, 1000, 5000, 1e4, 1e5]\n",
    "\n",
    "\n",
    "data = np.zeros([num_seeds, len(mu_list), len(sigma_list)])\n",
    "for seed in range(num_seeds):\n",
    "    print(f'seed {seed}')\n",
    "    for i1, mu in enumerate(mu_list):\n",
    "        for i2, sigma in enumerate(sigma_list):\n",
    "            data[seed, i1, i2] = inv_lin_cka(num_dims = num_dims, num_pts = num_pts, transform_mean=mu, transform_var=sigma, seed = seed)\n",
    "            \n",
    "np.save('data/inv_lin_cka_fig_data_v0.npy', data)"
   ]
  },
  {
   "cell_type": "code",
   "execution_count": 2,
   "metadata": {},
   "outputs": [],
   "source": [
    "data = np.load('data/inv_lin_cka_fig_data_v0.npy')"
   ]
  },
  {
   "cell_type": "code",
   "execution_count": 6,
   "metadata": {},
   "outputs": [
    {
     "data": {
      "text/plain": [
       "<matplotlib.collections.PolyCollection at 0x7f5ee757f990>"
      ]
     },
     "execution_count": 6,
     "metadata": {},
     "output_type": "execute_result"
    },
    {
     "data": {
      "image/png": "[encoded data removed]",
      "text/plain": [
       "<Figure size 432x288 with 1 Axes>"
      ]
     },
     "metadata": {
      "needs_background": "light"
     },
     "output_type": "display_data"
    }
   ],
   "source": [
    "mu_means = np.mean(data, axis = (0,2))\n",
    "mu_stds = np.std(data, axis = (0,2))\n",
    "sigma_means = np.mean(data, axis = (0,1))\n",
    "sigma_stds = np.std(data, axis = (0,1))\n",
    "\n",
    "mu_list = [1, 5, 10, 25, 50, 100, 500, 1000, 5000, 1e4, 1e5]\n",
    "sigma_list = [1, 5, 10, 25, 50, 100, 500, 1000, 5000, 1e4, 1e5]\n",
    "\n",
    "\n",
    "plt.plot(mu_list, mu_means)\n",
    "plt.fill_between(mu_list, mu_means-mu_stds, mu_means+mu_stds, alpha = 0.5)\n",
    "\n",
    "plt.plot(sigma_list, sigma_means)\n",
    "plt.fill_between(sigma_list, sigma_means-sigma_stds, sigma_means+sigma_stds, alpha = 0.5)\n",
    "\n",
    "# plt.title('CKA according to \"c\", the translation distance')"
   ]
  },
  {
   "cell_type": "code",
   "execution_count": 19,
   "metadata": {},
   "outputs": [
    {
     "data": {
      "image/png": "[encoded data removed]",
      "text/plain": [
       "<Figure size 432x288 with 2 Axes>"
      ]
     },
     "metadata": {
      "needs_background": "light"
     },
     "output_type": "display_data"
    }
   ],
   "source": [
    "mean_data = np.mean(data, axis = 0)\n",
    "\n",
    "mu_list_labels = ['1', '5', '10', '25', '50', '100', '500', '1e3', '5e3', '1e4', '1e5']\n",
    "sigma_list_labels = ['1', '5', '10', '25', '50', '100', '500', '1e3', '5e3', '1e4', '1e5']\n",
    "     \n",
    "fig = plt.figure()\n",
    "ax = fig.add_subplot(111)\n",
    "cax = ax.imshow(mean_data, interpolation ='nearest', vmin=0, vmax=1)\n",
    "fig.colorbar(cax)\n",
    "ax.set_title(r'Mean CKA value across 10 seeds for different $\\mu$ and $\\sigma$ values')\n",
    "ax.set_xticks(np.arange(len(sigma_list)))\n",
    "ax.set_yticks(np.arange(len(mu_list)))\n",
    "ax.set_xticklabels(sigma_list_labels)\n",
    "ax.set_yticklabels(mu_list_labels)\n",
    "ax.axis('image')\n",
    "# plt.ticklabel_format(axis=\"x\", style=\"sci\")\n",
    "# plt.ticklabel_format(axis=\"y\", style=\"sci\")\n",
    "plt.tight_layout()\n",
    "#         plt.savefig('figures/split_exp_figures_v1/split_class_exp_train_{}pts_'.format(num_pts_cka)+dirr+'.png')"
   ]
  },
  {
   "cell_type": "code",
   "execution_count": 8,
   "metadata": {},
   "outputs": [
    {
     "data": {
      "text/plain": [
       "<matplotlib.image.AxesImage at 0x7f5ee7504610>"
      ]
     },
     "execution_count": 8,
     "metadata": {},
     "output_type": "execute_result"
    },
    {
     "data": {
      "image/png": "[encoded data removed]",
      "text/plain": [
       "<Figure size 432x288 with 1 Axes>"
      ]
     },
     "metadata": {
      "needs_background": "light"
     },
     "output_type": "display_data"
    }
   ],
   "source": [
    "mean_data = np.mean(data, axis = 0)\n",
    "plt.imshow(mean_data)"
   ]
  },
  {
   "cell_type": "code",
   "execution_count": 9,
   "metadata": {},
   "outputs": [
    {
     "data": {
      "text/plain": [
       "array([[0.09318476, 0.62479153, 0.71591798, 0.72366666, 0.72384795,\n",
       "        0.72385473, 0.72385221, 0.72385187, 0.72385159, 0.72385155,\n",
       "        0.72385153],\n",
       "       [0.04832829, 0.09318476, 0.22473788, 0.62479153, 0.71591797,\n",
       "        0.72337363, 0.72385471, 0.72385329, 0.72385187, 0.72385168,\n",
       "        0.72385153],\n",
       "       [0.04691394, 0.05820526, 0.09318476, 0.31025108, 0.62479153,\n",
       "        0.71591797, 0.72384796, 0.72385471, 0.72385221, 0.72385187,\n",
       "        0.72385156],\n",
       "       [0.04651706, 0.04832829, 0.05397617, 0.09318476, 0.22473788,\n",
       "        0.53907259, 0.72337363, 0.72383241, 0.7238533 , 0.72385241,\n",
       "        0.72385159],\n",
       "       [0.04646007, 0.04691394, 0.04832829, 0.05820526, 0.09318476,\n",
       "        0.22473788, 0.71591797, 0.72337363, 0.72385467, 0.7238533 ,\n",
       "        0.72385168],\n",
       "       [0.0464457 , 0.04655967, 0.04691394, 0.04938816, 0.05820526,\n",
       "        0.09318476, 0.62479154, 0.71591797, 0.72384795, 0.72385467,\n",
       "        0.72385186],\n",
       "       [0.04644097, 0.0464457 , 0.04646007, 0.04655967, 0.04691394,\n",
       "        0.04832829, 0.09318476, 0.22473788, 0.715918  , 0.72337363,\n",
       "        0.72385331],\n",
       "       [0.04644081, 0.04644204, 0.0464457 , 0.04647079, 0.04655967,\n",
       "        0.04691394, 0.05820526, 0.09318476, 0.62479155, 0.715918  ,\n",
       "        0.7238547 ],\n",
       "       [0.04644074, 0.04644081, 0.04644097, 0.04644204, 0.0464457 ,\n",
       "        0.04646007, 0.04691394, 0.04832829, 0.09318476, 0.22473788,\n",
       "        0.72337363],\n",
       "       [0.04644074, 0.04644076, 0.04644081, 0.04644109, 0.04644204,\n",
       "        0.0464457 , 0.04655967, 0.04691394, 0.05820526, 0.09318476,\n",
       "        0.71591798],\n",
       "       [0.04644074, 0.04644074, 0.04644074, 0.04644075, 0.04644076,\n",
       "        0.04644081, 0.04644204, 0.0464457 , 0.04655967, 0.04691394,\n",
       "        0.09318476]])"
      ]
     },
     "execution_count": 9,
     "metadata": {},
     "output_type": "execute_result"
    }
   ],
   "source": [
    "mean_data"
   ]
  },
  {
   "cell_type": "code",
   "execution_count": null,
   "metadata": {},
   "outputs": [],
   "source": []
  }
 ],
 "metadata": {
  "kernelspec": {
   "display_name": "Python 3 (main_env)",
   "language": "python",
   "name": "main_env"
  },
  "language_info": {
   "codemirror_mode": {
    "name": "ipython",
    "version": 3
   },
   "file_extension": ".py",
   "mimetype": "text/x-python",
   "name": "python",
   "nbconvert_exporter": "python",
   "pygments_lexer": "ipython3",
   "version": "3.7.4"
  }
 },
 "nbformat": 4,
 "nbformat_minor": 4
}
