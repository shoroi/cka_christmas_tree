{
 "cells": [
  {
   "cell_type": "markdown",
   "metadata": {},
   "source": [
    "# Corrected version (with more stable LinCKA2) version of the GTRL notebook"
   ]
  },
  {
   "cell_type": "code",
   "execution_count": 8,
   "metadata": {},
   "outputs": [],
   "source": [
    "import numpy as np\n",
    "import torch\n",
    "from utils import *\n",
    "import matplotlib.pyplot as plt\n",
    "from scipy.stats import special_ortho_group\n",
    "import sys\n",
    "from torch import nn"
   ]
  },
  {
   "cell_type": "markdown",
   "metadata": {},
   "source": [
    "# 2 Gaussians translation exp"
   ]
  },
  {
   "cell_type": "code",
   "execution_count": null,
   "metadata": {},
   "outputs": [],
   "source": [
    "median = 0.1"
   ]
  },
  {
   "cell_type": "code",
   "execution_count": 3,
   "metadata": {},
   "outputs": [],
   "source": [
    "cuda = torch.device('cuda')\n",
    "\n",
    "def get_cka_test(mean1 = 0,\n",
    "                 mean2 = 0,\n",
    "                 var1 = 1,\n",
    "                 var2 = 1,\n",
    "                 num_dims = 100,\n",
    "                 num_pts = 1000,\n",
    "                 seed = 0,\n",
    "                 c = 1000,\n",
    "                 verbose = False,\n",
    "                 distribution = 'gaussian'):\n",
    "    np.random.seed(seed)\n",
    "    \n",
    "    d = np.random.normal(0,1,[num_dims])\n",
    "    d /= np.linalg.norm(d)\n",
    "    \n",
    "    if distribution == 'gaussian':\n",
    "        X = np.concatenate( [np.random.normal(mean1, var1, [num_pts, num_dims]), np.random.normal(mean2, var2, [num_pts, num_dims])], axis = 0)\n",
    "        Y = torch.Tensor(X + np.concatenate([np.zeros([num_pts, num_dims]), c*np.matmul(np.ones([num_pts,1]), d.reshape([1,num_dims]))], axis = 0)).to(cuda)\n",
    "    elif distribution == 'uniform':\n",
    "        # in this case var = side and mean = center\n",
    "        X = np.concatenate([var1*(np.random.rand(num_pts, num_dims)-var1*0.5*np.ones([num_pts,num_dims]))+mean1*np.concatenate([np.ones([num_pts,1]),np.zeros([num_pts,num_dims-1])], axis=1), var2*(np.random.rand(num_pts, num_dims)-var2*0.5*np.ones([num_pts,num_dims]))+mean2*np.concatenate([np.ones([num_pts,1]),np.zeros([num_pts,num_dims-1])], axis=1)], axis = 0)\n",
    "        Y = torch.Tensor(X + np.concatenate([np.zeros([num_pts, num_dims]), c*np.matmul(np.ones([num_pts,1]), d.reshape([1,num_dims]))], axis = 0)).to(cuda)\n",
    "    \n",
    "    X = torch.Tensor(X).to(cuda)\n",
    "    \n",
    "#     CKA = nonlinCKA_numpy(kernel = 'rbf', gamma = 'median_dist')\n",
    "#     if verbose:\n",
    "# #         print(X.cpu().numpy())\n",
    "# #         print(Y.cpu().numpy())\n",
    "#         return CKA.compute_cka(X.cpu().numpy(),Y.cpu().numpy()).item(), torch.where(X==Y)\n",
    "#     else:\n",
    "#         return CKA.compute_cka(X.cpu().numpy(),Y.cpu().numpy()).item()\n",
    "    \n",
    "    CKA = rbfCKA(median=median)\n",
    "    if verbose:\n",
    "#         print(X.cpu().numpy())\n",
    "#         print(Y.cpu().numpy())\n",
    "        return CKA(X,Y).item(), torch.where(X==Y)\n",
    "    else:\n",
    "        return CKA(X,Y).item()"
   ]
  },
  {
   "cell_type": "markdown",
   "metadata": {},
   "source": [
    "### Tests"
   ]
  },
  {
   "cell_type": "code",
   "execution_count": 4,
   "metadata": {},
   "outputs": [],
   "source": [
    "a,b = get_cka_test(verbose= True)"
   ]
  },
  {
   "cell_type": "code",
   "execution_count": 5,
   "metadata": {},
   "outputs": [
    {
     "name": "stdout",
     "output_type": "stream",
     "text": [
      "100000\n"
     ]
    }
   ],
   "source": [
    "print(len(b[0])) # should equal num_pts*num_dims"
   ]
  },
  {
   "cell_type": "markdown",
   "metadata": {},
   "source": [
    "## Multiple seeds"
   ]
  },
  {
   "cell_type": "code",
   "execution_count": 6,
   "metadata": {},
   "outputs": [
    {
     "name": "stdout",
     "output_type": "stream",
     "text": [
      "seed 0\n",
      "seed 1\n",
      "seed 2\n",
      "seed 3\n",
      "seed 4\n",
      "seed 5\n",
      "seed 6\n",
      "seed 7\n",
      "seed 8\n",
      "seed 9\n"
     ]
    }
   ],
   "source": [
    "num_pts = 10000\n",
    "num_dims = 1000\n",
    "num_seeds = 10\n",
    "c_list = [1, 5, 10, 15, 20, 25, 30, 35, 40, 45, 50]\n",
    "\n",
    "diff = []\n",
    "data = np.zeros([num_seeds, len(c_list)])\n",
    "for seed in range(num_seeds):\n",
    "    print(f'seed {seed}')\n",
    "    for i, c in enumerate(c_list):\n",
    "        data[seed, i], v = get_cka_test(mean2=1.1, num_dims = num_dims, num_pts = num_pts, c = c, seed = seed, distribution = 'uniform', verbose = True)\n",
    "        diff.append(v)\n",
    "            \n",
    "np.save('data/two_cubes_exp_median{}_rbfcka2__means_0_1.1_{}seeds_v2.npy'.format(median, num_seeds), data)"
   ]
  },
  {
   "cell_type": "code",
   "execution_count": 9,
   "metadata": {},
   "outputs": [
    {
     "data": {
      "text/plain": [
       "Text(0.5, 1.0, 'CKA according to \"c\", the translation distance')"
      ]
     },
     "execution_count": 9,
     "metadata": {},
     "output_type": "execute_result"
    },
    {
     "data": {
      "image/png": "[encoded data removed]",
      "text/plain": [
       "<Figure size 432x288 with 1 Axes>"
      ]
     },
     "metadata": {
      "needs_background": "light"
     },
     "output_type": "display_data"
    }
   ],
   "source": [
    "# gauss_trans = np.load('data/two_cubes_exp_lincka2_means_0_1.1_10seeds_v2.npy')\n",
    "gauss_trans = np.load('data/two_cubes_exp_median0.2_rbfcka2__means_0_1.1_10seeds_v2.npy')\n",
    "gauss_means = np.mean(gauss_trans,axis=0)\n",
    "\n",
    "translation_means = np.mean(data, axis = 0)\n",
    "translation_stds = np.std(data, axis = 0)\n",
    "\n",
    "# end = \n",
    "\n",
    "plt.plot(c_list, translation_means)\n",
    "plt.plot(c_list, gauss_means)\n",
    "plt.fill_between(c_list, translation_means-10*translation_stds, translation_means+10*translation_stds, alpha = 0.5)\n",
    "\n",
    "plt.title('CKA according to \"c\", the translation distance')"
   ]
  },
  {
   "cell_type": "code",
   "execution_count": null,
   "metadata": {},
   "outputs": [],
   "source": [
    "for i in diff:\n",
    "    print(len(i[0]))"
   ]
  },
  {
   "cell_type": "markdown",
   "metadata": {},
   "source": [
    "# Invertible linear transformations"
   ]
  },
  {
   "cell_type": "code",
   "execution_count": 58,
   "metadata": {},
   "outputs": [],
   "source": [
    "def inv_lin_cka(pts_mean = 0,\n",
    "                pts_var = 1,\n",
    "                transform_mean = 0,\n",
    "                transform_var = 1,\n",
    "                num_dims = 200,\n",
    "                num_pts = 10000,\n",
    "                seed = 0):\n",
    "    \n",
    "    np.random.seed(seed)\n",
    "    rotation_matrix = np.random.normal(transform_mean, transform_var,[num_dims, num_dims])\n",
    "    while np.linalg.cond(rotation_matrix) >= 1/sys.float_info.epsilon:\n",
    "        rotation_matrix = np.random.normal(transform_mean, transform_var,[num_dims, num_dims])\n",
    "\n",
    "    cuda = torch.device('cuda')\n",
    "    rotation_matrix = torch.Tensor(rotation_matrix).to(cuda)\n",
    "    \n",
    "    X = np.random.normal(pts_mean, pts_var, [num_pts, num_dims])\n",
    "    X = torch.Tensor(X).to(cuda)\n",
    "    \n",
    "    Y = torch.mm(X,rotation_matrix)\n",
    "\n",
    "    CKA = LinCKA2()\n",
    "    return CKA(X,Y).item()"
   ]
  },
  {
   "cell_type": "code",
   "execution_count": 60,
   "metadata": {},
   "outputs": [
    {
     "name": "stdout",
     "output_type": "stream",
     "text": [
      "seed 0\n",
      "seed 1\n",
      "seed 2\n",
      "seed 3\n",
      "seed 4\n",
      "seed 5\n",
      "seed 6\n",
      "seed 7\n",
      "seed 8\n",
      "seed 9\n"
     ]
    }
   ],
   "source": [
    "num_pts = 10000#, 10000 and 20000 points makes it crash have other things running as well...\n",
    "num_dims = 500\n",
    "num_seeds = 10\n",
    "mu_list = [1, 5, 10, 25, 50, 100, 500, 1000, 5000, 1e4, 1e5]\n",
    "sigma_list = [1, 5, 10, 25, 50, 100, 500, 1000, 5000, 1e4, 1e5]\n",
    "\n",
    "\n",
    "data = np.zeros([num_seeds, len(mu_list), len(sigma_list)])\n",
    "for seed in range(num_seeds):\n",
    "    print(f'seed {seed}')\n",
    "    for i1, mu in enumerate(mu_list):\n",
    "        for i2, sigma in enumerate(sigma_list):\n",
    "            data[seed, i1, i2] = inv_lin_cka(num_dims = num_dims, num_pts = num_pts, transform_mean=mu, transform_var=sigma, seed = seed)\n",
    "            \n",
    "np.save('data/inv_lin_cka_fig_data_lincka2_v0_10k.npy', data)"
   ]
  },
  {
   "cell_type": "code",
   "execution_count": null,
   "metadata": {},
   "outputs": [],
   "source": [
    "data = np.load('data/inv_lin_cka_fig_data_lincka2_v0.npy')"
   ]
  },
  {
   "cell_type": "code",
   "execution_count": 61,
   "metadata": {},
   "outputs": [
    {
     "data": {
      "image/png": "[encoded data removed]",
      "text/plain": [
       "<Figure size 432x288 with 2 Axes>"
      ]
     },
     "metadata": {
      "needs_background": "light"
     },
     "output_type": "display_data"
    }
   ],
   "source": [
    "mean_data = np.mean(data, axis = 0)\n",
    "\n",
    "mu_list_labels = ['1', '5', '10', '25', '50', '100', '500', '1e3', '5e3', '1e4', '1e5']\n",
    "sigma_list_labels = ['1', '5', '10', '25', '50', '100', '500', '1e3', '5e3', '1e4', '1e5']\n",
    "     \n",
    "fig = plt.figure()\n",
    "ax = fig.add_subplot(111)\n",
    "cax = ax.imshow(mean_data, interpolation ='nearest', vmin=0, vmax=1)\n",
    "fig.colorbar(cax)\n",
    "ax.set_title(r'Mean CKA value across 10 seeds for different $\\mu$ and $\\sigma$ values')\n",
    "ax.set_xticks(np.arange(len(sigma_list)))\n",
    "ax.set_yticks(np.arange(len(mu_list)))\n",
    "ax.set_xticklabels(sigma_list_labels)\n",
    "ax.set_yticklabels(mu_list_labels)\n",
    "ax.axis('image')\n",
    "# plt.ticklabel_format(axis=\"x\", style=\"sci\")\n",
    "# plt.ticklabel_format(axis=\"y\", style=\"sci\")\n",
    "plt.tight_layout()\n",
    "#         plt.savefig('figures/split_exp_figures_v1/split_class_exp_train_{}pts_'.format(num_pts_cka)+dirr+'.png')"
   ]
  },
  {
   "cell_type": "code",
   "execution_count": 6,
   "metadata": {},
   "outputs": [
    {
     "data": {
      "text/plain": [
       "<matplotlib.collections.PolyCollection at 0x7f5ee757f990>"
      ]
     },
     "execution_count": 6,
     "metadata": {},
     "output_type": "execute_result"
    },
    {
     "data": {
      "image/png": "[encoded data removed]",
      "text/plain": [
       "<Figure size 432x288 with 1 Axes>"
      ]
     },
     "metadata": {
      "needs_background": "light"
     },
     "output_type": "display_data"
    }
   ],
   "source": [
    "mu_means = np.mean(data, axis = (0,2))\n",
    "mu_stds = np.std(data, axis = (0,2))\n",
    "sigma_means = np.mean(data, axis = (0,1))\n",
    "sigma_stds = np.std(data, axis = (0,1))\n",
    "\n",
    "mu_list = [1, 5, 10, 25, 50, 100, 500, 1000, 5000, 1e4, 1e5]\n",
    "sigma_list = [1, 5, 10, 25, 50, 100, 500, 1000, 5000, 1e4, 1e5]\n",
    "\n",
    "\n",
    "plt.plot(mu_list, mu_means)\n",
    "plt.fill_between(mu_list, mu_means-mu_stds, mu_means+mu_stds, alpha = 0.5)\n",
    "\n",
    "plt.plot(sigma_list, sigma_means)\n",
    "plt.fill_between(sigma_list, sigma_means-sigma_stds, sigma_means+sigma_stds, alpha = 0.5)\n",
    "\n",
    "# plt.title('CKA according to \"c\", the translation distance')"
   ]
  },
  {
   "cell_type": "markdown",
   "metadata": {},
   "source": [
    "# Invertible linear transformations (with cubes)"
   ]
  },
  {
   "cell_type": "code",
   "execution_count": 2,
   "metadata": {},
   "outputs": [],
   "source": [
    "def inv_lin_cka_cubes(mean1 = 0,\n",
    "                var1 = 1,\n",
    "                mean2 = 0,\n",
    "                var2 = 1,\n",
    "                transform_mean = 0,\n",
    "                transform_var = 1,\n",
    "                num_dims = 200,\n",
    "                num_pts = 10000,\n",
    "                seed = 0,\n",
    "                distribution = 'gaussian'):\n",
    "    \n",
    "    np.random.seed(seed)\n",
    "    rotation_matrix = np.random.normal(transform_mean, transform_var,[num_dims, num_dims])\n",
    "    while np.linalg.cond(rotation_matrix) >= 1/sys.float_info.epsilon:\n",
    "        rotation_matrix = np.random.normal(transform_mean, transform_var,[num_dims, num_dims])\n",
    "\n",
    "    cuda = torch.device('cuda')\n",
    "    rotation_matrix = torch.Tensor(rotation_matrix).to(cuda)\n",
    "    \n",
    "    if distribution == 'gaussian':\n",
    "        X = np.random.normal(mean1, var1, [int(num_pts*2), num_dims])\n",
    "    elif distribution == 'uniform':\n",
    "        # in this case var = side and mean = center\n",
    "        X = np.concatenate([var1*(np.random.rand(num_pts, num_dims)-var1*0.5*np.ones([num_pts,num_dims]))+mean1*np.concatenate([np.ones([num_pts,1]),np.zeros([num_pts,num_dims-1])], axis=1), var2*(np.random.rand(num_pts, num_dims)-var2*0.5*np.ones([num_pts,num_dims]))+mean2*np.concatenate([np.ones([num_pts,1]),np.zeros([num_pts,num_dims-1])], axis=1)], axis = 0)\n",
    "\n",
    "    X = torch.Tensor(X).to(cuda)\n",
    "    Y = torch.mm(X,rotation_matrix)\n",
    "\n",
    "    CKA = LinCKA2()\n",
    "    return CKA(X,Y).item()"
   ]
  },
  {
   "cell_type": "code",
   "execution_count": 3,
   "metadata": {},
   "outputs": [
    {
     "name": "stdout",
     "output_type": "stream",
     "text": [
      "seed 0\n",
      "seed 1\n",
      "seed 2\n",
      "seed 3\n",
      "seed 4\n",
      "seed 5\n",
      "seed 6\n",
      "seed 7\n",
      "seed 8\n",
      "seed 9\n"
     ]
    }
   ],
   "source": [
    "num_pts = 10000#, 10000 and 20000 points makes it crash have other things running as well...\n",
    "num_dims = 500\n",
    "num_seeds = 10\n",
    "mu_list = [1, 5, 10, 25, 50, 100, 500, 1000, 5000, 1e4, 1e5]\n",
    "sigma_list = [1, 5, 10, 25, 50, 100, 500, 1000, 5000, 1e4, 1e5]\n",
    "\n",
    "\n",
    "data = np.zeros([num_seeds, len(mu_list), len(sigma_list)])\n",
    "for seed in range(num_seeds):\n",
    "    print(f'seed {seed}')\n",
    "    for i1, mu in enumerate(mu_list):\n",
    "        for i2, sigma in enumerate(sigma_list):\n",
    "            data[seed, i1, i2] = inv_lin_cka_cubes(mean1=0, mean2=1.1,num_dims = num_dims, num_pts = num_pts, transform_mean=mu, transform_var=sigma, seed = seed, distribution = 'uniform')\n",
    "            \n",
    "np.save('data/inv_lin_cka_fig_data_lincka2_10k_cubes_means0_1.1.npy', data)"
   ]
  },
  {
   "cell_type": "code",
   "execution_count": null,
   "metadata": {},
   "outputs": [],
   "source": [
    "data = np.load('data/inv_lin_cka_fig_data_lincka2_v0.npy')"
   ]
  },
  {
   "cell_type": "code",
   "execution_count": 5,
   "metadata": {},
   "outputs": [
    {
     "data": {
      "image/png": "[encoded data removed]",
      "text/plain": [
       "<Figure size 432x288 with 2 Axes>"
      ]
     },
     "metadata": {
      "needs_background": "light"
     },
     "output_type": "display_data"
    }
   ],
   "source": [
    "mean_data = np.mean(data, axis = 0)\n",
    "\n",
    "mu_list_labels = ['1', '5', '10', '25', '50', '100', '500', '1e3', '5e3', '1e4', '1e5']\n",
    "sigma_list_labels = ['1', '5', '10', '25', '50', '100', '500', '1e3', '5e3', '1e4', '1e5']\n",
    "     \n",
    "fig = plt.figure()\n",
    "ax = fig.add_subplot(111)\n",
    "cax = ax.imshow(mean_data, interpolation ='nearest', vmin=0, vmax=1)\n",
    "fig.colorbar(cax)\n",
    "ax.set_title(r'Mean CKA value across 10 seeds for different $\\mu$ and $\\sigma$ values')\n",
    "ax.set_xticks(np.arange(len(sigma_list)))\n",
    "ax.set_yticks(np.arange(len(mu_list)))\n",
    "ax.set_xticklabels(sigma_list_labels)\n",
    "ax.set_yticklabels(mu_list_labels)\n",
    "ax.axis('image')\n",
    "# plt.ticklabel_format(axis=\"x\", style=\"sci\")\n",
    "# plt.ticklabel_format(axis=\"y\", style=\"sci\")\n",
    "plt.tight_layout()\n",
    "#         plt.savefig('figures/split_exp_figures_v1/split_class_exp_train_{}pts_'.format(num_pts_cka)+dirr+'.png')"
   ]
  },
  {
   "cell_type": "markdown",
   "metadata": {},
   "source": [
    "# Non isotropic scaling"
   ]
  },
  {
   "cell_type": "code",
   "execution_count": 62,
   "metadata": {},
   "outputs": [],
   "source": [
    "def anisotropic_scaling_cka(mean = 0,\n",
    "                var = 1,\n",
    "                u_range = 1,\n",
    "                num_dims = 200,\n",
    "                num_pts = 10000,\n",
    "                seed = 0):\n",
    "    \n",
    "    cuda = torch.device('cuda')\n",
    "    \n",
    "    np.random.seed(seed)\n",
    "    \n",
    "    anisotropic_scaling = u_range*np.diag(np.random.rand(num_dims))\n",
    "    anisotropic_scaling = torch.Tensor(anisotropic_scaling).to(cuda)\n",
    "    \n",
    "    X = np.random.normal(mean, var, [num_pts, num_dims])\n",
    "    X = torch.Tensor(X).to(cuda)\n",
    "    \n",
    "    Y = torch.mm(X, anisotropic_scaling)\n",
    "\n",
    "    CKA = LinCKA2()\n",
    "    return CKA(X,Y).item()"
   ]
  },
  {
   "cell_type": "code",
   "execution_count": null,
   "metadata": {},
   "outputs": [],
   "source": [
    "# num_pts_list = [100, 500, 1000, 5000, 10000] #20000 points makes it crash\n",
    "# num_dims_list = [3, 5, 10, 50, 100, 200, 300, 500, 750, 1000, 1500, 2000, 3000]#, 5000, 10000]\n",
    "# c_list = [1, 5, 10, 25, 50, 75, 100, 200, 300, 400, 500, 1000]\n",
    "\n",
    "num_pts_list = [100, 500, 1000, 5000, 10000]\n",
    "num_dims_list = [5, 50, 100, 300, 500, 1000, 2000]\n",
    "c_list = [1, 5, 10, 25, 50, 75, 100, 200, 300, 400, 500, 1000]\n",
    "\n",
    "\n",
    "data = np.zeros([len(num_pts_list), len(num_dims_list), len(c_list)])\n",
    "for i1, num_pts in enumerate(num_pts_list):\n",
    "    for i2, num_dims in enumerate(num_dims_list):\n",
    "        for i3, c in enumerate(c_list):\n",
    "            print('Num pts {}; num dims {}; c {}'.format(num_pts, num_dims, c))\n",
    "            data[i1, i2, i3] = anisotropic_scaling_cka(num_dims = num_dims, num_pts = num_pts, u_range = c)\n",
    "            \n",
    "np.save('data/anisotropic_scaling_lincka2_v0.npy', data)"
   ]
  },
  {
   "cell_type": "markdown",
   "metadata": {},
   "source": [
    "### Analyze results"
   ]
  },
  {
   "cell_type": "code",
   "execution_count": 64,
   "metadata": {},
   "outputs": [
    {
     "data": {
      "text/plain": [
       "Text(0.5, 1.0, 'CKA according to \"c\"')"
      ]
     },
     "execution_count": 64,
     "metadata": {},
     "output_type": "execute_result"
    },
    {
     "data": {
      "image/png": "[encoded data removed]",
      "text/plain": [
       "<Figure size 432x288 with 1 Axes>"
      ]
     },
     "metadata": {
      "needs_background": "light"
     },
     "output_type": "display_data"
    }
   ],
   "source": [
    "for i in range(len(num_pts_list)):\n",
    "    for j in range(len(num_dims_list)):\n",
    "        plt.plot(c_list, data[i,j,:])\n",
    "        \n",
    "plt.title('CKA according to \"c\"')"
   ]
  },
  {
   "cell_type": "markdown",
   "metadata": {},
   "source": []
  },
  {
   "cell_type": "code",
   "execution_count": 65,
   "metadata": {},
   "outputs": [
    {
     "data": {
      "text/plain": [
       "Text(0.5, 1.0, 'CKA according to the number of dimensions')"
      ]
     },
     "execution_count": 65,
     "metadata": {},
     "output_type": "execute_result"
    },
    {
     "data": {
      "image/png": "[encoded data removed]",
      "text/plain": [
       "<Figure size 432x288 with 1 Axes>"
      ]
     },
     "metadata": {
      "needs_background": "light"
     },
     "output_type": "display_data"
    }
   ],
   "source": [
    "for i in range(len(num_pts_list)):\n",
    "    for j in range(len(c_list)):\n",
    "        if j == 0: color = 'r'\n",
    "        elif j == 1: color = 'g'\n",
    "        elif j == 2: color = 'b'\n",
    "        elif j == 3: color = 'purple'\n",
    "        else: color = 'pink'\n",
    "        plt.plot(num_dims_list, data[i,:,j], c = color)\n",
    "        \n",
    "plt.title('CKA according to the number of dimensions')"
   ]
  },
  {
   "cell_type": "markdown",
   "metadata": {},
   "source": []
  },
  {
   "cell_type": "code",
   "execution_count": 66,
   "metadata": {},
   "outputs": [
    {
     "data": {
      "text/plain": [
       "Text(0.5, 1.0, 'CKA according to the number of points used to compute CKA')"
      ]
     },
     "execution_count": 66,
     "metadata": {},
     "output_type": "execute_result"
    },
    {
     "data": {
      "image/png": "[encoded data removed]",
      "text/plain": [
       "<Figure size 432x288 with 1 Axes>"
      ]
     },
     "metadata": {
      "needs_background": "light"
     },
     "output_type": "display_data"
    }
   ],
   "source": [
    "for i in range(len(num_dims_list)):\n",
    "    for j in range(len(c_list)):\n",
    "        plt.plot(num_pts_list, data[:,i,j])\n",
    "        \n",
    "plt.title('CKA according to the number of points used to compute CKA')"
   ]
  },
  {
   "cell_type": "markdown",
   "metadata": {},
   "source": []
  }
 ],
 "metadata": {
  "kernelspec": {
   "display_name": "diff_sim",
   "language": "python",
   "name": "diff_sim"
  },
  "language_info": {
   "codemirror_mode": {
    "name": "ipython",
    "version": 3
   },
   "file_extension": ".py",
   "mimetype": "text/x-python",
   "name": "python",
   "nbconvert_exporter": "python",
   "pygments_lexer": "ipython3",
   "version": "3.9.7"
  }
 },
 "nbformat": 4,
 "nbformat_minor": 4
}
